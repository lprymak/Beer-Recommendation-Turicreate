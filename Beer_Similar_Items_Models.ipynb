{
 "cells": [
  {
   "cell_type": "code",
   "execution_count": 1,
   "metadata": {},
   "outputs": [],
   "source": [
    "import pandas as pd\n",
    "import numpy as np\n",
    "import turicreate as tr"
   ]
  },
  {
   "cell_type": "markdown",
   "metadata": {},
   "source": [
    "## Read data"
   ]
  },
  {
   "cell_type": "code",
   "execution_count": 2,
   "metadata": {},
   "outputs": [],
   "source": [
    "df = pd.read_csv(\"jupyter_folder/beer_reviews_main.csv\")"
   ]
  },
  {
   "cell_type": "code",
   "execution_count": 3,
   "metadata": {},
   "outputs": [
    {
     "data": {
      "text/html": [
       "<div>\n",
       "<style scoped>\n",
       "    .dataframe tbody tr th:only-of-type {\n",
       "        vertical-align: middle;\n",
       "    }\n",
       "\n",
       "    .dataframe tbody tr th {\n",
       "        vertical-align: top;\n",
       "    }\n",
       "\n",
       "    .dataframe thead th {\n",
       "        text-align: right;\n",
       "    }\n",
       "</style>\n",
       "<table border=\"1\" class=\"dataframe\">\n",
       "  <thead>\n",
       "    <tr style=\"text-align: right;\">\n",
       "      <th></th>\n",
       "      <th>Unnamed: 0</th>\n",
       "      <th>brewery_id</th>\n",
       "      <th>brewery_name</th>\n",
       "      <th>review_time</th>\n",
       "      <th>review_overall</th>\n",
       "      <th>review_aroma</th>\n",
       "      <th>review_appearance</th>\n",
       "      <th>review_profilename</th>\n",
       "      <th>beer_style</th>\n",
       "      <th>review_palate</th>\n",
       "      <th>review_taste</th>\n",
       "      <th>beer_name</th>\n",
       "      <th>beer_abv</th>\n",
       "      <th>beer_beerid</th>\n",
       "      <th>main_style</th>\n",
       "    </tr>\n",
       "  </thead>\n",
       "  <tbody>\n",
       "    <tr>\n",
       "      <th>0</th>\n",
       "      <td>0</td>\n",
       "      <td>10325</td>\n",
       "      <td>Vecchio Birraio</td>\n",
       "      <td>1234817823</td>\n",
       "      <td>1.5</td>\n",
       "      <td>2.0</td>\n",
       "      <td>2.5</td>\n",
       "      <td>stcules</td>\n",
       "      <td>Hefeweizen</td>\n",
       "      <td>1.5</td>\n",
       "      <td>1.5</td>\n",
       "      <td>Sausa Weizen</td>\n",
       "      <td>5.0</td>\n",
       "      <td>47986</td>\n",
       "      <td>Wheat Beers</td>\n",
       "    </tr>\n",
       "    <tr>\n",
       "      <th>1</th>\n",
       "      <td>1</td>\n",
       "      <td>10325</td>\n",
       "      <td>Vecchio Birraio</td>\n",
       "      <td>1235915097</td>\n",
       "      <td>3.0</td>\n",
       "      <td>2.5</td>\n",
       "      <td>3.0</td>\n",
       "      <td>stcules</td>\n",
       "      <td>English Strong Ale</td>\n",
       "      <td>3.0</td>\n",
       "      <td>3.0</td>\n",
       "      <td>Red Moon</td>\n",
       "      <td>6.2</td>\n",
       "      <td>48213</td>\n",
       "      <td>Strong Ales</td>\n",
       "    </tr>\n",
       "    <tr>\n",
       "      <th>2</th>\n",
       "      <td>2</td>\n",
       "      <td>10325</td>\n",
       "      <td>Vecchio Birraio</td>\n",
       "      <td>1235916604</td>\n",
       "      <td>3.0</td>\n",
       "      <td>2.5</td>\n",
       "      <td>3.0</td>\n",
       "      <td>stcules</td>\n",
       "      <td>Foreign / Export Stout</td>\n",
       "      <td>3.0</td>\n",
       "      <td>3.0</td>\n",
       "      <td>Black Horse Black Beer</td>\n",
       "      <td>6.5</td>\n",
       "      <td>48215</td>\n",
       "      <td>Stouts</td>\n",
       "    </tr>\n",
       "    <tr>\n",
       "      <th>3</th>\n",
       "      <td>3</td>\n",
       "      <td>10325</td>\n",
       "      <td>Vecchio Birraio</td>\n",
       "      <td>1234725145</td>\n",
       "      <td>3.0</td>\n",
       "      <td>3.0</td>\n",
       "      <td>3.5</td>\n",
       "      <td>stcules</td>\n",
       "      <td>German Pilsener</td>\n",
       "      <td>2.5</td>\n",
       "      <td>3.0</td>\n",
       "      <td>Sausa Pils</td>\n",
       "      <td>5.0</td>\n",
       "      <td>47969</td>\n",
       "      <td>Pilseners and Pale Lagers</td>\n",
       "    </tr>\n",
       "    <tr>\n",
       "      <th>4</th>\n",
       "      <td>4</td>\n",
       "      <td>1075</td>\n",
       "      <td>Caldera Brewing Company</td>\n",
       "      <td>1293735206</td>\n",
       "      <td>4.0</td>\n",
       "      <td>4.5</td>\n",
       "      <td>4.0</td>\n",
       "      <td>johnmichaelsen</td>\n",
       "      <td>American Double / Imperial IPA</td>\n",
       "      <td>4.0</td>\n",
       "      <td>4.5</td>\n",
       "      <td>Cauldron DIPA</td>\n",
       "      <td>7.7</td>\n",
       "      <td>64883</td>\n",
       "      <td>India Pale Ales</td>\n",
       "    </tr>\n",
       "  </tbody>\n",
       "</table>\n",
       "</div>"
      ],
      "text/plain": [
       "   Unnamed: 0  brewery_id             brewery_name  review_time  \\\n",
       "0           0       10325          Vecchio Birraio   1234817823   \n",
       "1           1       10325          Vecchio Birraio   1235915097   \n",
       "2           2       10325          Vecchio Birraio   1235916604   \n",
       "3           3       10325          Vecchio Birraio   1234725145   \n",
       "4           4        1075  Caldera Brewing Company   1293735206   \n",
       "\n",
       "   review_overall  review_aroma  review_appearance review_profilename  \\\n",
       "0             1.5           2.0                2.5            stcules   \n",
       "1             3.0           2.5                3.0            stcules   \n",
       "2             3.0           2.5                3.0            stcules   \n",
       "3             3.0           3.0                3.5            stcules   \n",
       "4             4.0           4.5                4.0     johnmichaelsen   \n",
       "\n",
       "                       beer_style  review_palate  review_taste  \\\n",
       "0                      Hefeweizen            1.5           1.5   \n",
       "1              English Strong Ale            3.0           3.0   \n",
       "2          Foreign / Export Stout            3.0           3.0   \n",
       "3                 German Pilsener            2.5           3.0   \n",
       "4  American Double / Imperial IPA            4.0           4.5   \n",
       "\n",
       "                beer_name  beer_abv  beer_beerid                 main_style  \n",
       "0            Sausa Weizen       5.0        47986                Wheat Beers  \n",
       "1                Red Moon       6.2        48213                Strong Ales  \n",
       "2  Black Horse Black Beer       6.5        48215                     Stouts  \n",
       "3              Sausa Pils       5.0        47969  Pilseners and Pale Lagers  \n",
       "4           Cauldron DIPA       7.7        64883            India Pale Ales  "
      ]
     },
     "execution_count": 3,
     "metadata": {},
     "output_type": "execute_result"
    }
   ],
   "source": [
    "df.head()"
   ]
  },
  {
   "cell_type": "markdown",
   "metadata": {},
   "source": [
    "## Clean data"
   ]
  },
  {
   "cell_type": "code",
   "execution_count": 4,
   "metadata": {},
   "outputs": [],
   "source": [
    "# Dataframe to use in model\n",
    "df_beers = df[['review_profilename', 'beer_beerid', 'review_overall', 'main_style']]"
   ]
  },
  {
   "cell_type": "code",
   "execution_count": 5,
   "metadata": {},
   "outputs": [
    {
     "data": {
      "text/plain": [
       "review_profilename    348\n",
       "beer_beerid             0\n",
       "review_overall          0\n",
       "main_style              0\n",
       "dtype: int64"
      ]
     },
     "execution_count": 5,
     "metadata": {},
     "output_type": "execute_result"
    }
   ],
   "source": [
    "# Check for null values\n",
    "df_beers.isnull().sum()"
   ]
  },
  {
   "cell_type": "code",
   "execution_count": 6,
   "metadata": {},
   "outputs": [],
   "source": [
    "# Drop null rows\n",
    "df_beers = df_beers.dropna()"
   ]
  },
  {
   "cell_type": "code",
   "execution_count": 7,
   "metadata": {},
   "outputs": [
    {
     "data": {
      "text/plain": [
       "review_profilename    0\n",
       "beer_beerid           0\n",
       "review_overall        0\n",
       "main_style            0\n",
       "dtype: int64"
      ]
     },
     "execution_count": 7,
     "metadata": {},
     "output_type": "execute_result"
    }
   ],
   "source": [
    "# Recheck for null values\n",
    "df_beers.isnull().sum()"
   ]
  },
  {
   "cell_type": "code",
   "execution_count": 8,
   "metadata": {},
   "outputs": [
    {
     "data": {
      "text/html": [
       "<div>\n",
       "<style scoped>\n",
       "    .dataframe tbody tr th:only-of-type {\n",
       "        vertical-align: middle;\n",
       "    }\n",
       "\n",
       "    .dataframe tbody tr th {\n",
       "        vertical-align: top;\n",
       "    }\n",
       "\n",
       "    .dataframe thead th {\n",
       "        text-align: right;\n",
       "    }\n",
       "</style>\n",
       "<table border=\"1\" class=\"dataframe\">\n",
       "  <thead>\n",
       "    <tr style=\"text-align: right;\">\n",
       "      <th></th>\n",
       "      <th>review_profilename</th>\n",
       "      <th>beer_beerid</th>\n",
       "      <th>review_overall</th>\n",
       "      <th>main_style</th>\n",
       "    </tr>\n",
       "  </thead>\n",
       "  <tbody>\n",
       "    <tr>\n",
       "      <th>0</th>\n",
       "      <td>stcules</td>\n",
       "      <td>47986</td>\n",
       "      <td>1.5</td>\n",
       "      <td>Wheat Beers</td>\n",
       "    </tr>\n",
       "    <tr>\n",
       "      <th>1</th>\n",
       "      <td>stcules</td>\n",
       "      <td>48213</td>\n",
       "      <td>3.0</td>\n",
       "      <td>Strong Ales</td>\n",
       "    </tr>\n",
       "    <tr>\n",
       "      <th>2</th>\n",
       "      <td>stcules</td>\n",
       "      <td>48215</td>\n",
       "      <td>3.0</td>\n",
       "      <td>Stouts</td>\n",
       "    </tr>\n",
       "    <tr>\n",
       "      <th>3</th>\n",
       "      <td>stcules</td>\n",
       "      <td>47969</td>\n",
       "      <td>3.0</td>\n",
       "      <td>Pilseners and Pale Lagers</td>\n",
       "    </tr>\n",
       "    <tr>\n",
       "      <th>4</th>\n",
       "      <td>johnmichaelsen</td>\n",
       "      <td>64883</td>\n",
       "      <td>4.0</td>\n",
       "      <td>India Pale Ales</td>\n",
       "    </tr>\n",
       "  </tbody>\n",
       "</table>\n",
       "</div>"
      ],
      "text/plain": [
       "  review_profilename  beer_beerid  review_overall                 main_style\n",
       "0            stcules        47986             1.5                Wheat Beers\n",
       "1            stcules        48213             3.0                Strong Ales\n",
       "2            stcules        48215             3.0                     Stouts\n",
       "3            stcules        47969             3.0  Pilseners and Pale Lagers\n",
       "4     johnmichaelsen        64883             4.0            India Pale Ales"
      ]
     },
     "execution_count": 8,
     "metadata": {},
     "output_type": "execute_result"
    }
   ],
   "source": [
    "# Preview to verify\n",
    "df_beers.head()"
   ]
  },
  {
   "cell_type": "markdown",
   "metadata": {},
   "source": [
    "## Create identifying dataframes"
   ]
  },
  {
   "cell_type": "code",
   "execution_count": 9,
   "metadata": {},
   "outputs": [],
   "source": [
    "# Identify unique beer names by breweries\n",
    "beeers = df.groupby(['beer_name', 'brewery_name'])"
   ]
  },
  {
   "cell_type": "code",
   "execution_count": 10,
   "metadata": {},
   "outputs": [
    {
     "data": {
      "text/html": [
       "<div>\n",
       "<style scoped>\n",
       "    .dataframe tbody tr th:only-of-type {\n",
       "        vertical-align: middle;\n",
       "    }\n",
       "\n",
       "    .dataframe tbody tr th {\n",
       "        vertical-align: top;\n",
       "    }\n",
       "\n",
       "    .dataframe thead th {\n",
       "        text-align: right;\n",
       "    }\n",
       "</style>\n",
       "<table border=\"1\" class=\"dataframe\">\n",
       "  <thead>\n",
       "    <tr style=\"text-align: right;\">\n",
       "      <th></th>\n",
       "      <th></th>\n",
       "      <th>Unnamed: 0</th>\n",
       "      <th>brewery_id</th>\n",
       "      <th>review_time</th>\n",
       "      <th>review_overall</th>\n",
       "      <th>review_aroma</th>\n",
       "      <th>review_appearance</th>\n",
       "      <th>review_profilename</th>\n",
       "      <th>beer_style</th>\n",
       "      <th>review_palate</th>\n",
       "      <th>review_taste</th>\n",
       "      <th>beer_abv</th>\n",
       "      <th>beer_beerid</th>\n",
       "      <th>main_style</th>\n",
       "    </tr>\n",
       "    <tr>\n",
       "      <th>beer_name</th>\n",
       "      <th>brewery_name</th>\n",
       "      <th></th>\n",
       "      <th></th>\n",
       "      <th></th>\n",
       "      <th></th>\n",
       "      <th></th>\n",
       "      <th></th>\n",
       "      <th></th>\n",
       "      <th></th>\n",
       "      <th></th>\n",
       "      <th></th>\n",
       "      <th></th>\n",
       "      <th></th>\n",
       "      <th></th>\n",
       "    </tr>\n",
       "  </thead>\n",
       "  <tbody>\n",
       "    <tr>\n",
       "      <th>! (Old Ale)</th>\n",
       "      <th>Närke Kulturbryggeri AB</th>\n",
       "      <td>963409</td>\n",
       "      <td>10902</td>\n",
       "      <td>1271637765</td>\n",
       "      <td>4.0</td>\n",
       "      <td>4.5</td>\n",
       "      <td>4.0</td>\n",
       "      <td>tpd975</td>\n",
       "      <td>Old Ale</td>\n",
       "      <td>4.0</td>\n",
       "      <td>4.5</td>\n",
       "      <td>8.2</td>\n",
       "      <td>57645</td>\n",
       "      <td>Strong Ales</td>\n",
       "    </tr>\n",
       "    <tr>\n",
       "      <th>\"100\"</th>\n",
       "      <th>The Covey Restaurant &amp; Brewery</th>\n",
       "      <td>1215598</td>\n",
       "      <td>13338</td>\n",
       "      <td>1240078389</td>\n",
       "      <td>4.0</td>\n",
       "      <td>3.5</td>\n",
       "      <td>4.0</td>\n",
       "      <td>hiikeeba</td>\n",
       "      <td>Belgian Dark Ale</td>\n",
       "      <td>4.0</td>\n",
       "      <td>4.5</td>\n",
       "      <td>10.0</td>\n",
       "      <td>49236</td>\n",
       "      <td>Dark Ales</td>\n",
       "    </tr>\n",
       "    <tr>\n",
       "      <th>\"100\" Pale Ale</th>\n",
       "      <th>Aviator Brewing Company</th>\n",
       "      <td>432226</td>\n",
       "      <td>18635</td>\n",
       "      <td>1245965069</td>\n",
       "      <td>4.0</td>\n",
       "      <td>4.0</td>\n",
       "      <td>3.5</td>\n",
       "      <td>atsprings</td>\n",
       "      <td>American IPA</td>\n",
       "      <td>4.0</td>\n",
       "      <td>4.0</td>\n",
       "      <td>6.6</td>\n",
       "      <td>50696</td>\n",
       "      <td>India Pale Ales</td>\n",
       "    </tr>\n",
       "    <tr>\n",
       "      <th>\"12\"  Belgian Golden Strong Ale</th>\n",
       "      <th>Flossmoor Station Restaurant &amp; Brewery</th>\n",
       "      <td>786774</td>\n",
       "      <td>612</td>\n",
       "      <td>1218928899</td>\n",
       "      <td>4.0</td>\n",
       "      <td>3.5</td>\n",
       "      <td>4.5</td>\n",
       "      <td>Stonebreaker</td>\n",
       "      <td>Belgian Strong Pale Ale</td>\n",
       "      <td>5.0</td>\n",
       "      <td>4.5</td>\n",
       "      <td>9.0</td>\n",
       "      <td>44353</td>\n",
       "      <td>Strong Ales</td>\n",
       "    </tr>\n",
       "    <tr>\n",
       "      <th>\"33\" Export</th>\n",
       "      <th>Baltika-Baku</th>\n",
       "      <td>327910</td>\n",
       "      <td>13640</td>\n",
       "      <td>1145713783</td>\n",
       "      <td>3.0</td>\n",
       "      <td>2.5</td>\n",
       "      <td>3.0</td>\n",
       "      <td>Globetrotter</td>\n",
       "      <td>Dortmunder / Export Lager</td>\n",
       "      <td>3.0</td>\n",
       "      <td>2.5</td>\n",
       "      <td>4.8</td>\n",
       "      <td>30080</td>\n",
       "      <td>Pilseners and Pale Lagers</td>\n",
       "    </tr>\n",
       "  </tbody>\n",
       "</table>\n",
       "</div>"
      ],
      "text/plain": [
       "                                                                        Unnamed: 0  \\\n",
       "beer_name                       brewery_name                                         \n",
       "! (Old Ale)                     Närke Kulturbryggeri AB                     963409   \n",
       "\"100\"                           The Covey Restaurant & Brewery             1215598   \n",
       "\"100\" Pale Ale                  Aviator Brewing Company                     432226   \n",
       "\"12\"  Belgian Golden Strong Ale Flossmoor Station Restaurant & Brewery      786774   \n",
       "\"33\" Export                     Baltika-Baku                                327910   \n",
       "\n",
       "                                                                        brewery_id  \\\n",
       "beer_name                       brewery_name                                         \n",
       "! (Old Ale)                     Närke Kulturbryggeri AB                      10902   \n",
       "\"100\"                           The Covey Restaurant & Brewery               13338   \n",
       "\"100\" Pale Ale                  Aviator Brewing Company                      18635   \n",
       "\"12\"  Belgian Golden Strong Ale Flossmoor Station Restaurant & Brewery         612   \n",
       "\"33\" Export                     Baltika-Baku                                 13640   \n",
       "\n",
       "                                                                        review_time  \\\n",
       "beer_name                       brewery_name                                          \n",
       "! (Old Ale)                     Närke Kulturbryggeri AB                  1271637765   \n",
       "\"100\"                           The Covey Restaurant & Brewery           1240078389   \n",
       "\"100\" Pale Ale                  Aviator Brewing Company                  1245965069   \n",
       "\"12\"  Belgian Golden Strong Ale Flossmoor Station Restaurant & Brewery   1218928899   \n",
       "\"33\" Export                     Baltika-Baku                             1145713783   \n",
       "\n",
       "                                                                        review_overall  \\\n",
       "beer_name                       brewery_name                                             \n",
       "! (Old Ale)                     Närke Kulturbryggeri AB                            4.0   \n",
       "\"100\"                           The Covey Restaurant & Brewery                     4.0   \n",
       "\"100\" Pale Ale                  Aviator Brewing Company                            4.0   \n",
       "\"12\"  Belgian Golden Strong Ale Flossmoor Station Restaurant & Brewery             4.0   \n",
       "\"33\" Export                     Baltika-Baku                                       3.0   \n",
       "\n",
       "                                                                        review_aroma  \\\n",
       "beer_name                       brewery_name                                           \n",
       "! (Old Ale)                     Närke Kulturbryggeri AB                          4.5   \n",
       "\"100\"                           The Covey Restaurant & Brewery                   3.5   \n",
       "\"100\" Pale Ale                  Aviator Brewing Company                          4.0   \n",
       "\"12\"  Belgian Golden Strong Ale Flossmoor Station Restaurant & Brewery           3.5   \n",
       "\"33\" Export                     Baltika-Baku                                     2.5   \n",
       "\n",
       "                                                                        review_appearance  \\\n",
       "beer_name                       brewery_name                                                \n",
       "! (Old Ale)                     Närke Kulturbryggeri AB                               4.0   \n",
       "\"100\"                           The Covey Restaurant & Brewery                        4.0   \n",
       "\"100\" Pale Ale                  Aviator Brewing Company                               3.5   \n",
       "\"12\"  Belgian Golden Strong Ale Flossmoor Station Restaurant & Brewery                4.5   \n",
       "\"33\" Export                     Baltika-Baku                                          3.0   \n",
       "\n",
       "                                                                       review_profilename  \\\n",
       "beer_name                       brewery_name                                                \n",
       "! (Old Ale)                     Närke Kulturbryggeri AB                            tpd975   \n",
       "\"100\"                           The Covey Restaurant & Brewery                   hiikeeba   \n",
       "\"100\" Pale Ale                  Aviator Brewing Company                         atsprings   \n",
       "\"12\"  Belgian Golden Strong Ale Flossmoor Station Restaurant & Brewery       Stonebreaker   \n",
       "\"33\" Export                     Baltika-Baku                                 Globetrotter   \n",
       "\n",
       "                                                                                       beer_style  \\\n",
       "beer_name                       brewery_name                                                        \n",
       "! (Old Ale)                     Närke Kulturbryggeri AB                                   Old Ale   \n",
       "\"100\"                           The Covey Restaurant & Brewery                   Belgian Dark Ale   \n",
       "\"100\" Pale Ale                  Aviator Brewing Company                              American IPA   \n",
       "\"12\"  Belgian Golden Strong Ale Flossmoor Station Restaurant & Brewery    Belgian Strong Pale Ale   \n",
       "\"33\" Export                     Baltika-Baku                            Dortmunder / Export Lager   \n",
       "\n",
       "                                                                        review_palate  \\\n",
       "beer_name                       brewery_name                                            \n",
       "! (Old Ale)                     Närke Kulturbryggeri AB                           4.0   \n",
       "\"100\"                           The Covey Restaurant & Brewery                    4.0   \n",
       "\"100\" Pale Ale                  Aviator Brewing Company                           4.0   \n",
       "\"12\"  Belgian Golden Strong Ale Flossmoor Station Restaurant & Brewery            5.0   \n",
       "\"33\" Export                     Baltika-Baku                                      3.0   \n",
       "\n",
       "                                                                        review_taste  \\\n",
       "beer_name                       brewery_name                                           \n",
       "! (Old Ale)                     Närke Kulturbryggeri AB                          4.5   \n",
       "\"100\"                           The Covey Restaurant & Brewery                   4.5   \n",
       "\"100\" Pale Ale                  Aviator Brewing Company                          4.0   \n",
       "\"12\"  Belgian Golden Strong Ale Flossmoor Station Restaurant & Brewery           4.5   \n",
       "\"33\" Export                     Baltika-Baku                                     2.5   \n",
       "\n",
       "                                                                        beer_abv  \\\n",
       "beer_name                       brewery_name                                       \n",
       "! (Old Ale)                     Närke Kulturbryggeri AB                      8.2   \n",
       "\"100\"                           The Covey Restaurant & Brewery              10.0   \n",
       "\"100\" Pale Ale                  Aviator Brewing Company                      6.6   \n",
       "\"12\"  Belgian Golden Strong Ale Flossmoor Station Restaurant & Brewery       9.0   \n",
       "\"33\" Export                     Baltika-Baku                                 4.8   \n",
       "\n",
       "                                                                        beer_beerid  \\\n",
       "beer_name                       brewery_name                                          \n",
       "! (Old Ale)                     Närke Kulturbryggeri AB                       57645   \n",
       "\"100\"                           The Covey Restaurant & Brewery                49236   \n",
       "\"100\" Pale Ale                  Aviator Brewing Company                       50696   \n",
       "\"12\"  Belgian Golden Strong Ale Flossmoor Station Restaurant & Brewery        44353   \n",
       "\"33\" Export                     Baltika-Baku                                  30080   \n",
       "\n",
       "                                                                                       main_style  \n",
       "beer_name                       brewery_name                                                       \n",
       "! (Old Ale)                     Närke Kulturbryggeri AB                               Strong Ales  \n",
       "\"100\"                           The Covey Restaurant & Brewery                          Dark Ales  \n",
       "\"100\" Pale Ale                  Aviator Brewing Company                           India Pale Ales  \n",
       "\"12\"  Belgian Golden Strong Ale Flossmoor Station Restaurant & Brewery                Strong Ales  \n",
       "\"33\" Export                     Baltika-Baku                            Pilseners and Pale Lagers  "
      ]
     },
     "execution_count": 10,
     "metadata": {},
     "output_type": "execute_result"
    }
   ],
   "source": [
    "# Preview\n",
    "beeers.last().head()"
   ]
  },
  {
   "cell_type": "code",
   "execution_count": 11,
   "metadata": {},
   "outputs": [
    {
     "data": {
      "text/html": [
       "<div>\n",
       "<style scoped>\n",
       "    .dataframe tbody tr th:only-of-type {\n",
       "        vertical-align: middle;\n",
       "    }\n",
       "\n",
       "    .dataframe tbody tr th {\n",
       "        vertical-align: top;\n",
       "    }\n",
       "\n",
       "    .dataframe thead th {\n",
       "        text-align: right;\n",
       "    }\n",
       "</style>\n",
       "<table border=\"1\" class=\"dataframe\">\n",
       "  <thead>\n",
       "    <tr style=\"text-align: right;\">\n",
       "      <th></th>\n",
       "      <th>beer_name</th>\n",
       "      <th>brewery_name</th>\n",
       "      <th>Unnamed: 0</th>\n",
       "      <th>brewery_id</th>\n",
       "      <th>review_time</th>\n",
       "      <th>review_overall</th>\n",
       "      <th>review_aroma</th>\n",
       "      <th>review_appearance</th>\n",
       "      <th>review_profilename</th>\n",
       "      <th>beer_style</th>\n",
       "      <th>review_palate</th>\n",
       "      <th>review_taste</th>\n",
       "      <th>beer_abv</th>\n",
       "      <th>beer_beerid</th>\n",
       "      <th>main_style</th>\n",
       "    </tr>\n",
       "  </thead>\n",
       "  <tbody>\n",
       "    <tr>\n",
       "      <th>0</th>\n",
       "      <td>! (Old Ale)</td>\n",
       "      <td>Närke Kulturbryggeri AB</td>\n",
       "      <td>963409</td>\n",
       "      <td>10902</td>\n",
       "      <td>1271637765</td>\n",
       "      <td>4.0</td>\n",
       "      <td>4.5</td>\n",
       "      <td>4.0</td>\n",
       "      <td>tpd975</td>\n",
       "      <td>Old Ale</td>\n",
       "      <td>4.0</td>\n",
       "      <td>4.5</td>\n",
       "      <td>8.2</td>\n",
       "      <td>57645</td>\n",
       "      <td>Strong Ales</td>\n",
       "    </tr>\n",
       "    <tr>\n",
       "      <th>1</th>\n",
       "      <td>\"100\"</td>\n",
       "      <td>The Covey Restaurant &amp; Brewery</td>\n",
       "      <td>1215598</td>\n",
       "      <td>13338</td>\n",
       "      <td>1240078389</td>\n",
       "      <td>4.0</td>\n",
       "      <td>3.5</td>\n",
       "      <td>4.0</td>\n",
       "      <td>hiikeeba</td>\n",
       "      <td>Belgian Dark Ale</td>\n",
       "      <td>4.0</td>\n",
       "      <td>4.5</td>\n",
       "      <td>10.0</td>\n",
       "      <td>49236</td>\n",
       "      <td>Dark Ales</td>\n",
       "    </tr>\n",
       "    <tr>\n",
       "      <th>2</th>\n",
       "      <td>\"100\" Pale Ale</td>\n",
       "      <td>Aviator Brewing Company</td>\n",
       "      <td>432226</td>\n",
       "      <td>18635</td>\n",
       "      <td>1245965069</td>\n",
       "      <td>4.0</td>\n",
       "      <td>4.0</td>\n",
       "      <td>3.5</td>\n",
       "      <td>atsprings</td>\n",
       "      <td>American IPA</td>\n",
       "      <td>4.0</td>\n",
       "      <td>4.0</td>\n",
       "      <td>6.6</td>\n",
       "      <td>50696</td>\n",
       "      <td>India Pale Ales</td>\n",
       "    </tr>\n",
       "    <tr>\n",
       "      <th>3</th>\n",
       "      <td>\"12\"  Belgian Golden Strong Ale</td>\n",
       "      <td>Flossmoor Station Restaurant &amp; Brewery</td>\n",
       "      <td>786774</td>\n",
       "      <td>612</td>\n",
       "      <td>1218928899</td>\n",
       "      <td>4.0</td>\n",
       "      <td>3.5</td>\n",
       "      <td>4.5</td>\n",
       "      <td>Stonebreaker</td>\n",
       "      <td>Belgian Strong Pale Ale</td>\n",
       "      <td>5.0</td>\n",
       "      <td>4.5</td>\n",
       "      <td>9.0</td>\n",
       "      <td>44353</td>\n",
       "      <td>Strong Ales</td>\n",
       "    </tr>\n",
       "    <tr>\n",
       "      <th>4</th>\n",
       "      <td>\"33\" Export</td>\n",
       "      <td>Baltika-Baku</td>\n",
       "      <td>327910</td>\n",
       "      <td>13640</td>\n",
       "      <td>1145713783</td>\n",
       "      <td>3.0</td>\n",
       "      <td>2.5</td>\n",
       "      <td>3.0</td>\n",
       "      <td>Globetrotter</td>\n",
       "      <td>Dortmunder / Export Lager</td>\n",
       "      <td>3.0</td>\n",
       "      <td>2.5</td>\n",
       "      <td>4.8</td>\n",
       "      <td>30080</td>\n",
       "      <td>Pilseners and Pale Lagers</td>\n",
       "    </tr>\n",
       "  </tbody>\n",
       "</table>\n",
       "</div>"
      ],
      "text/plain": [
       "                         beer_name                            brewery_name  \\\n",
       "0                      ! (Old Ale)                 Närke Kulturbryggeri AB   \n",
       "1                            \"100\"          The Covey Restaurant & Brewery   \n",
       "2                   \"100\" Pale Ale                 Aviator Brewing Company   \n",
       "3  \"12\"  Belgian Golden Strong Ale  Flossmoor Station Restaurant & Brewery   \n",
       "4                      \"33\" Export                            Baltika-Baku   \n",
       "\n",
       "   Unnamed: 0  brewery_id  review_time  review_overall  review_aroma  \\\n",
       "0      963409       10902   1271637765             4.0           4.5   \n",
       "1     1215598       13338   1240078389             4.0           3.5   \n",
       "2      432226       18635   1245965069             4.0           4.0   \n",
       "3      786774         612   1218928899             4.0           3.5   \n",
       "4      327910       13640   1145713783             3.0           2.5   \n",
       "\n",
       "   review_appearance review_profilename                 beer_style  \\\n",
       "0                4.0             tpd975                    Old Ale   \n",
       "1                4.0           hiikeeba           Belgian Dark Ale   \n",
       "2                3.5          atsprings               American IPA   \n",
       "3                4.5       Stonebreaker    Belgian Strong Pale Ale   \n",
       "4                3.0       Globetrotter  Dortmunder / Export Lager   \n",
       "\n",
       "   review_palate  review_taste  beer_abv  beer_beerid  \\\n",
       "0            4.0           4.5       8.2        57645   \n",
       "1            4.0           4.5      10.0        49236   \n",
       "2            4.0           4.0       6.6        50696   \n",
       "3            5.0           4.5       9.0        44353   \n",
       "4            3.0           2.5       4.8        30080   \n",
       "\n",
       "                  main_style  \n",
       "0                Strong Ales  \n",
       "1                  Dark Ales  \n",
       "2            India Pale Ales  \n",
       "3                Strong Ales  \n",
       "4  Pilseners and Pale Lagers  "
      ]
     },
     "execution_count": 11,
     "metadata": {},
     "output_type": "execute_result"
    }
   ],
   "source": [
    "# Create dataframe using last values\n",
    "beerID_df = beeers.last()\n",
    "beerID_df = beerID_df.reset_index()\n",
    "beerID_df.head()"
   ]
  },
  {
   "cell_type": "code",
   "execution_count": 12,
   "metadata": {},
   "outputs": [],
   "source": [
    "# Create average value dataframe\n",
    "beer_Avg_df = beeers.mean()"
   ]
  },
  {
   "cell_type": "code",
   "execution_count": 13,
   "metadata": {},
   "outputs": [
    {
     "data": {
      "text/html": [
       "<div>\n",
       "<style scoped>\n",
       "    .dataframe tbody tr th:only-of-type {\n",
       "        vertical-align: middle;\n",
       "    }\n",
       "\n",
       "    .dataframe tbody tr th {\n",
       "        vertical-align: top;\n",
       "    }\n",
       "\n",
       "    .dataframe thead th {\n",
       "        text-align: right;\n",
       "    }\n",
       "</style>\n",
       "<table border=\"1\" class=\"dataframe\">\n",
       "  <thead>\n",
       "    <tr style=\"text-align: right;\">\n",
       "      <th></th>\n",
       "      <th>beer_name</th>\n",
       "      <th>brewery_name</th>\n",
       "      <th>review_overall</th>\n",
       "      <th>review_aroma</th>\n",
       "      <th>review_appearance</th>\n",
       "      <th>review_palate</th>\n",
       "      <th>review_taste</th>\n",
       "      <th>beer_abv</th>\n",
       "      <th>beer_beerid</th>\n",
       "    </tr>\n",
       "  </thead>\n",
       "  <tbody>\n",
       "    <tr>\n",
       "      <th>0</th>\n",
       "      <td>! (Old Ale)</td>\n",
       "      <td>Närke Kulturbryggeri AB</td>\n",
       "      <td>4.0</td>\n",
       "      <td>4.5</td>\n",
       "      <td>4.00</td>\n",
       "      <td>4.000000</td>\n",
       "      <td>4.5</td>\n",
       "      <td>8.2</td>\n",
       "      <td>57645.0</td>\n",
       "    </tr>\n",
       "    <tr>\n",
       "      <th>1</th>\n",
       "      <td>\"100\"</td>\n",
       "      <td>The Covey Restaurant &amp; Brewery</td>\n",
       "      <td>4.0</td>\n",
       "      <td>4.0</td>\n",
       "      <td>4.00</td>\n",
       "      <td>4.000000</td>\n",
       "      <td>4.4</td>\n",
       "      <td>10.0</td>\n",
       "      <td>49236.0</td>\n",
       "    </tr>\n",
       "    <tr>\n",
       "      <th>2</th>\n",
       "      <td>\"100\" Pale Ale</td>\n",
       "      <td>Aviator Brewing Company</td>\n",
       "      <td>4.0</td>\n",
       "      <td>4.0</td>\n",
       "      <td>3.50</td>\n",
       "      <td>4.000000</td>\n",
       "      <td>4.0</td>\n",
       "      <td>6.6</td>\n",
       "      <td>50696.0</td>\n",
       "    </tr>\n",
       "    <tr>\n",
       "      <th>3</th>\n",
       "      <td>\"12\"  Belgian Golden Strong Ale</td>\n",
       "      <td>Flossmoor Station Restaurant &amp; Brewery</td>\n",
       "      <td>4.0</td>\n",
       "      <td>3.5</td>\n",
       "      <td>4.25</td>\n",
       "      <td>4.750000</td>\n",
       "      <td>4.5</td>\n",
       "      <td>9.0</td>\n",
       "      <td>44353.0</td>\n",
       "    </tr>\n",
       "    <tr>\n",
       "      <th>4</th>\n",
       "      <td>\"33\" Export</td>\n",
       "      <td>Baltika-Baku</td>\n",
       "      <td>3.0</td>\n",
       "      <td>3.0</td>\n",
       "      <td>3.00</td>\n",
       "      <td>3.166667</td>\n",
       "      <td>3.0</td>\n",
       "      <td>4.8</td>\n",
       "      <td>30080.0</td>\n",
       "    </tr>\n",
       "  </tbody>\n",
       "</table>\n",
       "</div>"
      ],
      "text/plain": [
       "                         beer_name                            brewery_name  \\\n",
       "0                      ! (Old Ale)                 Närke Kulturbryggeri AB   \n",
       "1                            \"100\"          The Covey Restaurant & Brewery   \n",
       "2                   \"100\" Pale Ale                 Aviator Brewing Company   \n",
       "3  \"12\"  Belgian Golden Strong Ale  Flossmoor Station Restaurant & Brewery   \n",
       "4                      \"33\" Export                            Baltika-Baku   \n",
       "\n",
       "   review_overall  review_aroma  review_appearance  review_palate  \\\n",
       "0             4.0           4.5               4.00       4.000000   \n",
       "1             4.0           4.0               4.00       4.000000   \n",
       "2             4.0           4.0               3.50       4.000000   \n",
       "3             4.0           3.5               4.25       4.750000   \n",
       "4             3.0           3.0               3.00       3.166667   \n",
       "\n",
       "   review_taste  beer_abv  beer_beerid  \n",
       "0           4.5       8.2      57645.0  \n",
       "1           4.4      10.0      49236.0  \n",
       "2           4.0       6.6      50696.0  \n",
       "3           4.5       9.0      44353.0  \n",
       "4           3.0       4.8      30080.0  "
      ]
     },
     "execution_count": 13,
     "metadata": {},
     "output_type": "execute_result"
    }
   ],
   "source": [
    "# Reset index\n",
    "beer_Avg_df = beer_Avg_df.reset_index()\n",
    "beer_Avg_df = beer_Avg_df.drop(['Unnamed: 0','brewery_id','review_time'], axis=1)\n",
    "beer_Avg_df.head()"
   ]
  },
  {
   "cell_type": "code",
   "execution_count": 14,
   "metadata": {},
   "outputs": [],
   "source": [
    "# Remove excess columns form ID df\n",
    "beerID_df = beerID_df[['beer_beerid', 'beer_name', 'brewery_name', 'main_style', 'beer_style']]"
   ]
  },
  {
   "cell_type": "code",
   "execution_count": 15,
   "metadata": {},
   "outputs": [
    {
     "data": {
      "text/html": [
       "<div>\n",
       "<style scoped>\n",
       "    .dataframe tbody tr th:only-of-type {\n",
       "        vertical-align: middle;\n",
       "    }\n",
       "\n",
       "    .dataframe tbody tr th {\n",
       "        vertical-align: top;\n",
       "    }\n",
       "\n",
       "    .dataframe thead th {\n",
       "        text-align: right;\n",
       "    }\n",
       "</style>\n",
       "<table border=\"1\" class=\"dataframe\">\n",
       "  <thead>\n",
       "    <tr style=\"text-align: right;\">\n",
       "      <th></th>\n",
       "      <th>beer_beerid</th>\n",
       "      <th>beer_name</th>\n",
       "      <th>brewery_name</th>\n",
       "      <th>main_style</th>\n",
       "      <th>beer_style</th>\n",
       "    </tr>\n",
       "  </thead>\n",
       "  <tbody>\n",
       "    <tr>\n",
       "      <th>0</th>\n",
       "      <td>57645</td>\n",
       "      <td>! (Old Ale)</td>\n",
       "      <td>Närke Kulturbryggeri AB</td>\n",
       "      <td>Strong Ales</td>\n",
       "      <td>Old Ale</td>\n",
       "    </tr>\n",
       "    <tr>\n",
       "      <th>1</th>\n",
       "      <td>49236</td>\n",
       "      <td>\"100\"</td>\n",
       "      <td>The Covey Restaurant &amp; Brewery</td>\n",
       "      <td>Dark Ales</td>\n",
       "      <td>Belgian Dark Ale</td>\n",
       "    </tr>\n",
       "    <tr>\n",
       "      <th>2</th>\n",
       "      <td>50696</td>\n",
       "      <td>\"100\" Pale Ale</td>\n",
       "      <td>Aviator Brewing Company</td>\n",
       "      <td>India Pale Ales</td>\n",
       "      <td>American IPA</td>\n",
       "    </tr>\n",
       "    <tr>\n",
       "      <th>3</th>\n",
       "      <td>44353</td>\n",
       "      <td>\"12\"  Belgian Golden Strong Ale</td>\n",
       "      <td>Flossmoor Station Restaurant &amp; Brewery</td>\n",
       "      <td>Strong Ales</td>\n",
       "      <td>Belgian Strong Pale Ale</td>\n",
       "    </tr>\n",
       "    <tr>\n",
       "      <th>4</th>\n",
       "      <td>30080</td>\n",
       "      <td>\"33\" Export</td>\n",
       "      <td>Baltika-Baku</td>\n",
       "      <td>Pilseners and Pale Lagers</td>\n",
       "      <td>Dortmunder / Export Lager</td>\n",
       "    </tr>\n",
       "  </tbody>\n",
       "</table>\n",
       "</div>"
      ],
      "text/plain": [
       "   beer_beerid                        beer_name  \\\n",
       "0        57645                      ! (Old Ale)   \n",
       "1        49236                            \"100\"   \n",
       "2        50696                   \"100\" Pale Ale   \n",
       "3        44353  \"12\"  Belgian Golden Strong Ale   \n",
       "4        30080                      \"33\" Export   \n",
       "\n",
       "                             brewery_name                 main_style  \\\n",
       "0                 Närke Kulturbryggeri AB                Strong Ales   \n",
       "1          The Covey Restaurant & Brewery                  Dark Ales   \n",
       "2                 Aviator Brewing Company            India Pale Ales   \n",
       "3  Flossmoor Station Restaurant & Brewery                Strong Ales   \n",
       "4                            Baltika-Baku  Pilseners and Pale Lagers   \n",
       "\n",
       "                  beer_style  \n",
       "0                    Old Ale  \n",
       "1           Belgian Dark Ale  \n",
       "2               American IPA  \n",
       "3    Belgian Strong Pale Ale  \n",
       "4  Dortmunder / Export Lager  "
      ]
     },
     "execution_count": 15,
     "metadata": {},
     "output_type": "execute_result"
    }
   ],
   "source": [
    "# Preview to verify\n",
    "beerID_df.head()"
   ]
  },
  {
   "cell_type": "code",
   "execution_count": 16,
   "metadata": {},
   "outputs": [
    {
     "data": {
      "text/plain": [
       "beer_beerid     0\n",
       "beer_name       0\n",
       "brewery_name    0\n",
       "main_style      0\n",
       "beer_style      0\n",
       "dtype: int64"
      ]
     },
     "execution_count": 16,
     "metadata": {},
     "output_type": "execute_result"
    }
   ],
   "source": [
    "# Check for nulll values\n",
    "beerID_df.isnull().sum()"
   ]
  },
  {
   "cell_type": "markdown",
   "metadata": {},
   "source": [
    "## Create identifying functions"
   ]
  },
  {
   "cell_type": "code",
   "execution_count": 17,
   "metadata": {},
   "outputs": [],
   "source": [
    "# Finds beer style and id from beer name and brewery\n",
    "def findBeerID_Style(beerName, breweryName):\n",
    "    name_df = beerID_df[beerID_df['beer_name'] == beerName]\n",
    "    beer_style = name_df['beer_style'][name_df['brewery_name'] == breweryName].iloc[0]\n",
    "    beer_id = name_df['beer_beerid'][name_df['brewery_name'] == breweryName].iloc[0]\n",
    "    return beer_style, beer_id"
   ]
  },
  {
   "cell_type": "code",
   "execution_count": 18,
   "metadata": {},
   "outputs": [],
   "source": [
    "# Finds beer information for each beerid in df\n",
    "def findBeers(dataframe):\n",
    "    beer_ids = dataframe['beer_beerid']\n",
    "    new_df = pd.DataFrame(beer_Avg_df[beer_Avg_df['beer_beerid'] == beer_ids[0]])\n",
    "    for i in beer_ids:\n",
    "        avg_df = beer_Avg_df[beer_Avg_df['beer_beerid'] == i]\n",
    "        new_df = new_df.append(avg_df)\n",
    "    dataframe = dataframe.merge(new_df, how='left', on='beer_beerid')\n",
    "    dataframe = dataframe.drop(dataframe.index[0])\n",
    "    dataframe = dataframe.reset_index(drop=True)\n",
    "    return dataframe"
   ]
  },
  {
   "cell_type": "markdown",
   "metadata": {},
   "source": [
    "### Check functions"
   ]
  },
  {
   "cell_type": "code",
   "execution_count": 19,
   "metadata": {},
   "outputs": [
    {
     "data": {
      "text/plain": [
       "('Old Ale', 57645)"
      ]
     },
     "execution_count": 19,
     "metadata": {},
     "output_type": "execute_result"
    }
   ],
   "source": [
    "findBeerID_Style('! (Old Ale)', 'Närke Kulturbryggeri AB')"
   ]
  },
  {
   "cell_type": "code",
   "execution_count": 20,
   "metadata": {},
   "outputs": [
    {
     "data": {
      "text/html": [
       "<div>\n",
       "<style scoped>\n",
       "    .dataframe tbody tr th:only-of-type {\n",
       "        vertical-align: middle;\n",
       "    }\n",
       "\n",
       "    .dataframe tbody tr th {\n",
       "        vertical-align: top;\n",
       "    }\n",
       "\n",
       "    .dataframe thead th {\n",
       "        text-align: right;\n",
       "    }\n",
       "</style>\n",
       "<table border=\"1\" class=\"dataframe\">\n",
       "  <thead>\n",
       "    <tr style=\"text-align: right;\">\n",
       "      <th></th>\n",
       "      <th>beer_beerid</th>\n",
       "      <th>beer_style</th>\n",
       "    </tr>\n",
       "  </thead>\n",
       "  <tbody>\n",
       "    <tr>\n",
       "      <th>0</th>\n",
       "      <td>57645</td>\n",
       "      <td>Old Ale</td>\n",
       "    </tr>\n",
       "  </tbody>\n",
       "</table>\n",
       "</div>"
      ],
      "text/plain": [
       "   beer_beerid beer_style\n",
       "0        57645    Old Ale"
      ]
     },
     "execution_count": 20,
     "metadata": {},
     "output_type": "execute_result"
    }
   ],
   "source": [
    "#  Create dataframe\n",
    "example = findBeerID_Style('! (Old Ale)', 'Närke Kulturbryggeri AB')\n",
    "test_df = pd.DataFrame({'beer_beerid': [example[1]], 'beer_style': [example[0]]})\n",
    "test_df"
   ]
  },
  {
   "cell_type": "code",
   "execution_count": 21,
   "metadata": {},
   "outputs": [
    {
     "data": {
      "text/html": [
       "<div>\n",
       "<style scoped>\n",
       "    .dataframe tbody tr th:only-of-type {\n",
       "        vertical-align: middle;\n",
       "    }\n",
       "\n",
       "    .dataframe tbody tr th {\n",
       "        vertical-align: top;\n",
       "    }\n",
       "\n",
       "    .dataframe thead th {\n",
       "        text-align: right;\n",
       "    }\n",
       "</style>\n",
       "<table border=\"1\" class=\"dataframe\">\n",
       "  <thead>\n",
       "    <tr style=\"text-align: right;\">\n",
       "      <th></th>\n",
       "      <th>beer_beerid</th>\n",
       "      <th>beer_style</th>\n",
       "      <th>beer_name</th>\n",
       "      <th>brewery_name</th>\n",
       "      <th>review_overall</th>\n",
       "      <th>review_aroma</th>\n",
       "      <th>review_appearance</th>\n",
       "      <th>review_palate</th>\n",
       "      <th>review_taste</th>\n",
       "      <th>beer_abv</th>\n",
       "    </tr>\n",
       "  </thead>\n",
       "  <tbody>\n",
       "    <tr>\n",
       "      <th>0</th>\n",
       "      <td>57645</td>\n",
       "      <td>Old Ale</td>\n",
       "      <td>! (Old Ale)</td>\n",
       "      <td>Närke Kulturbryggeri AB</td>\n",
       "      <td>4.0</td>\n",
       "      <td>4.5</td>\n",
       "      <td>4.0</td>\n",
       "      <td>4.0</td>\n",
       "      <td>4.5</td>\n",
       "      <td>8.2</td>\n",
       "    </tr>\n",
       "  </tbody>\n",
       "</table>\n",
       "</div>"
      ],
      "text/plain": [
       "   beer_beerid beer_style    beer_name             brewery_name  \\\n",
       "0        57645    Old Ale  ! (Old Ale)  Närke Kulturbryggeri AB   \n",
       "\n",
       "   review_overall  review_aroma  review_appearance  review_palate  \\\n",
       "0             4.0           4.5                4.0            4.0   \n",
       "\n",
       "   review_taste  beer_abv  \n",
       "0           4.5       8.2  "
      ]
     },
     "execution_count": 21,
     "metadata": {},
     "output_type": "execute_result"
    }
   ],
   "source": [
    "findBeers(test_df)"
   ]
  },
  {
   "cell_type": "markdown",
   "metadata": {},
   "source": [
    "# Create models"
   ]
  },
  {
   "cell_type": "markdown",
   "metadata": {},
   "source": [
    "### Format data"
   ]
  },
  {
   "cell_type": "code",
   "execution_count": 22,
   "metadata": {},
   "outputs": [
    {
     "data": {
      "text/plain": [
       "review_profilename     object\n",
       "beer_beerid             int64\n",
       "review_overall        float64\n",
       "main_style             object\n",
       "dtype: object"
      ]
     },
     "execution_count": 22,
     "metadata": {},
     "output_type": "execute_result"
    }
   ],
   "source": [
    "df_beers.dtypes"
   ]
  },
  {
   "cell_type": "code",
   "execution_count": 23,
   "metadata": {},
   "outputs": [
    {
     "data": {
      "text/plain": [
       "review_profilename     object\n",
       "beer_beerid            object\n",
       "review_overall        float64\n",
       "main_style             object\n",
       "dtype: object"
      ]
     },
     "execution_count": 23,
     "metadata": {},
     "output_type": "execute_result"
    }
   ],
   "source": [
    "df_beers['beer_beerid'] = [str(x) for x in df_beers['beer_beerid']]\n",
    "df_beers.dtypes"
   ]
  },
  {
   "cell_type": "code",
   "execution_count": 24,
   "metadata": {},
   "outputs": [],
   "source": [
    "# Create SFrame\n",
    "df_SF = tr.SFrame(df_beers)"
   ]
  },
  {
   "cell_type": "code",
   "execution_count": 25,
   "metadata": {},
   "outputs": [],
   "source": [
    "# Split into test/train data\n",
    "training, test = tr.recommender.util.random_split_by_user(df_SF, 'review_profilename', 'beer_beerid',item_test_proportion=0.2, random_seed = 1)"
   ]
  },
  {
   "cell_type": "markdown",
   "metadata": {},
   "source": [
    "## Item Similarity Model - All Data"
   ]
  },
  {
   "cell_type": "code",
   "execution_count": 26,
   "metadata": {},
   "outputs": [],
   "source": [
    "# Run model \n",
    "# model = tr.recommender.item_similarity_recommender.create(df_SF, user_id='review_profilename', item_id='beer_beerid', target='review_overall')"
   ]
  },
  {
   "cell_type": "code",
   "execution_count": 46,
   "metadata": {},
   "outputs": [],
   "source": [
    "# Save model - load model\n",
    "# model.save('jupyter_folder/item_similarity_id.model')\n",
    "model = tr.load_model('jupyter_folder/item_similarity_id.model')"
   ]
  },
  {
   "cell_type": "markdown",
   "metadata": {},
   "source": [
    "### New user test data"
   ]
  },
  {
   "cell_type": "code",
   "execution_count": 39,
   "metadata": {},
   "outputs": [
    {
     "data": {
      "text/html": [
       "<div>\n",
       "<style scoped>\n",
       "    .dataframe tbody tr th:only-of-type {\n",
       "        vertical-align: middle;\n",
       "    }\n",
       "\n",
       "    .dataframe tbody tr th {\n",
       "        vertical-align: top;\n",
       "    }\n",
       "\n",
       "    .dataframe thead th {\n",
       "        text-align: right;\n",
       "    }\n",
       "</style>\n",
       "<table border=\"1\" class=\"dataframe\">\n",
       "  <thead>\n",
       "    <tr style=\"text-align: right;\">\n",
       "      <th></th>\n",
       "      <th>beer_beerid</th>\n",
       "      <th>beer_name</th>\n",
       "      <th>brewery_name</th>\n",
       "      <th>main_style</th>\n",
       "      <th>beer_style</th>\n",
       "    </tr>\n",
       "  </thead>\n",
       "  <tbody>\n",
       "    <tr>\n",
       "      <th>0</th>\n",
       "      <td>57645</td>\n",
       "      <td>! (Old Ale)</td>\n",
       "      <td>Närke Kulturbryggeri AB</td>\n",
       "      <td>Strong Ales</td>\n",
       "      <td>Old Ale</td>\n",
       "    </tr>\n",
       "    <tr>\n",
       "      <th>1</th>\n",
       "      <td>49236</td>\n",
       "      <td>\"100\"</td>\n",
       "      <td>The Covey Restaurant &amp; Brewery</td>\n",
       "      <td>Dark Ales</td>\n",
       "      <td>Belgian Dark Ale</td>\n",
       "    </tr>\n",
       "    <tr>\n",
       "      <th>2</th>\n",
       "      <td>50696</td>\n",
       "      <td>\"100\" Pale Ale</td>\n",
       "      <td>Aviator Brewing Company</td>\n",
       "      <td>India Pale Ales</td>\n",
       "      <td>American IPA</td>\n",
       "    </tr>\n",
       "    <tr>\n",
       "      <th>3</th>\n",
       "      <td>44353</td>\n",
       "      <td>\"12\"  Belgian Golden Strong Ale</td>\n",
       "      <td>Flossmoor Station Restaurant &amp; Brewery</td>\n",
       "      <td>Strong Ales</td>\n",
       "      <td>Belgian Strong Pale Ale</td>\n",
       "    </tr>\n",
       "    <tr>\n",
       "      <th>4</th>\n",
       "      <td>30080</td>\n",
       "      <td>\"33\" Export</td>\n",
       "      <td>Baltika-Baku</td>\n",
       "      <td>Pilseners and Pale Lagers</td>\n",
       "      <td>Dortmunder / Export Lager</td>\n",
       "    </tr>\n",
       "  </tbody>\n",
       "</table>\n",
       "</div>"
      ],
      "text/plain": [
       "   beer_beerid                        beer_name  \\\n",
       "0        57645                      ! (Old Ale)   \n",
       "1        49236                            \"100\"   \n",
       "2        50696                   \"100\" Pale Ale   \n",
       "3        44353  \"12\"  Belgian Golden Strong Ale   \n",
       "4        30080                      \"33\" Export   \n",
       "\n",
       "                             brewery_name                 main_style  \\\n",
       "0                 Närke Kulturbryggeri AB                Strong Ales   \n",
       "1          The Covey Restaurant & Brewery                  Dark Ales   \n",
       "2                 Aviator Brewing Company            India Pale Ales   \n",
       "3  Flossmoor Station Restaurant & Brewery                Strong Ales   \n",
       "4                            Baltika-Baku  Pilseners and Pale Lagers   \n",
       "\n",
       "                  beer_style  \n",
       "0                    Old Ale  \n",
       "1           Belgian Dark Ale  \n",
       "2               American IPA  \n",
       "3    Belgian Strong Pale Ale  \n",
       "4  Dortmunder / Export Lager  "
      ]
     },
     "execution_count": 39,
     "metadata": {},
     "output_type": "execute_result"
    }
   ],
   "source": [
    "beerID_df.head()"
   ]
  },
  {
   "cell_type": "code",
   "execution_count": 42,
   "metadata": {},
   "outputs": [
    {
     "data": {
      "text/html": [
       "<div>\n",
       "<style scoped>\n",
       "    .dataframe tbody tr th:only-of-type {\n",
       "        vertical-align: middle;\n",
       "    }\n",
       "\n",
       "    .dataframe tbody tr th {\n",
       "        vertical-align: top;\n",
       "    }\n",
       "\n",
       "    .dataframe thead th {\n",
       "        text-align: right;\n",
       "    }\n",
       "</style>\n",
       "<table border=\"1\" class=\"dataframe\">\n",
       "  <thead>\n",
       "    <tr style=\"text-align: right;\">\n",
       "      <th></th>\n",
       "      <th>beer_beerid</th>\n",
       "      <th>beer_name</th>\n",
       "      <th>brewery_name</th>\n",
       "      <th>main_style</th>\n",
       "      <th>beer_style</th>\n",
       "    </tr>\n",
       "  </thead>\n",
       "  <tbody>\n",
       "    <tr>\n",
       "      <th>25466</th>\n",
       "      <td>650</td>\n",
       "      <td>Guinness Extra Stout (Original)</td>\n",
       "      <td>Guinness Ltd.</td>\n",
       "      <td>Stouts</td>\n",
       "      <td>Irish Dry Stout</td>\n",
       "    </tr>\n",
       "  </tbody>\n",
       "</table>\n",
       "</div>"
      ],
      "text/plain": [
       "       beer_beerid                        beer_name   brewery_name main_style  \\\n",
       "25466          650  Guinness Extra Stout (Original)  Guinness Ltd.     Stouts   \n",
       "\n",
       "            beer_style  \n",
       "25466  Irish Dry Stout  "
      ]
     },
     "execution_count": 42,
     "metadata": {},
     "output_type": "execute_result"
    }
   ],
   "source": [
    "beerID_df[beerID_df['beer_name'] == 'Guinness Extra Stout (Original)']"
   ]
  },
  {
   "cell_type": "code",
   "execution_count": 26,
   "metadata": {},
   "outputs": [],
   "source": [
    "beer1_st, beer1_id = findBeerID_Style('Samuel Adams Octoberfest', 'Boston Beer Company (Samuel Adams)')\n",
    "beer2_st, beer2_id = findBeerID_Style('Pulaski Pilsner', \"Vino's Brewpub\")\n",
    "beer3_st, beer3_id = findBeerID_Style('Stella Artois', 'Stella Artois')"
   ]
  },
  {
   "cell_type": "code",
   "execution_count": 27,
   "metadata": {},
   "outputs": [],
   "source": [
    "user_info = tr.SFrame({'review_profilename': ['new_user','new_user','new_user'], 'beer_beerid': [beer1_id,beer2_id,beer3_id], 'main_style': [beer1_st,beer2_st,beer3_st], 'review_overall': [5.0,4.5,4.0]})"
   ]
  },
  {
   "cell_type": "code",
   "execution_count": 43,
   "metadata": {},
   "outputs": [],
   "source": [
    "beer1B_st, beer1B_id = findBeerID_Style('Triple Chocolate Stout', 'Airways Brewing Company')\n",
    "beer2B_st, beer2B_id = findBeerID_Style('Founders Breakfast Stout', \"Founders Brewing Company\")\n",
    "beer3B_st, beer3B_id = findBeerID_Style('Guinness Extra Stout (Original)', 'Guinness Ltd.')"
   ]
  },
  {
   "cell_type": "code",
   "execution_count": 44,
   "metadata": {},
   "outputs": [],
   "source": [
    "user2_info = tr.SFrame({'review_profilename': ['new_user2','new_user2','new_user2'], 'beer_beerid': [beer1B_id,beer2B_id,beer3B_id], 'main_style': [beer1B_st,beer2B_st,beer3B_st], 'review_overall': [5.0,4.5,4.0]})"
   ]
  },
  {
   "cell_type": "code",
   "execution_count": 30,
   "metadata": {},
   "outputs": [
    {
     "name": "stdout",
     "output_type": "stream",
     "text": [
      "+--------------------+-------------+----------------+------+\n",
      "| review_profilename | beer_beerid |     score      | rank |\n",
      "+--------------------+-------------+----------------+------+\n",
      "|      new_user      |     1013    | 0.287420551777 |  1   |\n",
      "|      new_user      |     4083    | 0.28710396409  |  2   |\n",
      "|      new_user      |     2671    | 0.281532007456 |  3   |\n",
      "|      new_user      |     680     | 0.280811485052 |  4   |\n",
      "|      new_user      |     412     | 0.280441898108 |  5   |\n",
      "|      new_user      |      88     | 0.280221506357 |  6   |\n",
      "|      new_user      |     1904    | 0.278480520248 |  7   |\n",
      "|      new_user      |     2093    | 0.276632959843 |  8   |\n",
      "|      new_user      |     1708    | 0.273175606728 |  9   |\n",
      "|      new_user      |     131     | 0.267840100527 |  10  |\n",
      "|      new_user      |     1005    | 0.267036730051 |  11  |\n",
      "|      new_user      |     3158    | 0.262170200348 |  12  |\n",
      "|      new_user      |      92     | 0.260610797405 |  13  |\n",
      "|      new_user      |     731     | 0.259610339403 |  14  |\n",
      "|      new_user      |      34     | 0.25958042264  |  15  |\n",
      "|      new_user      |     6108    | 0.258893814087 |  16  |\n",
      "|      new_user      |     1160    | 0.254665037394 |  17  |\n",
      "|      new_user      |     1010    | 0.249226288795 |  18  |\n",
      "|      new_user      |     1056    | 0.245853928328 |  19  |\n",
      "|      new_user      |     141     | 0.244640126228 |  20  |\n",
      "|      new_user      |     1093    | 0.242249370813 |  21  |\n",
      "|      new_user      |     8951    | 0.241754025221 |  22  |\n",
      "|      new_user      |     224     | 0.236022729874 |  23  |\n",
      "|      new_user      |     695     | 0.233276067972 |  24  |\n",
      "|      new_user      |      90     | 0.230691652298 |  25  |\n",
      "+--------------------+-------------+----------------+------+\n",
      "[25 rows x 4 columns]\n",
      "\n"
     ]
    }
   ],
   "source": [
    "recommend1 = model.recommend(['new_user'], new_observation_data = user_info, k=25)\n",
    "recommend1.print_rows(25)"
   ]
  },
  {
   "cell_type": "code",
   "execution_count": 31,
   "metadata": {
    "scrolled": true
   },
   "outputs": [
    {
     "data": {
      "text/html": [
       "<div>\n",
       "<style scoped>\n",
       "    .dataframe tbody tr th:only-of-type {\n",
       "        vertical-align: middle;\n",
       "    }\n",
       "\n",
       "    .dataframe tbody tr th {\n",
       "        vertical-align: top;\n",
       "    }\n",
       "\n",
       "    .dataframe thead th {\n",
       "        text-align: right;\n",
       "    }\n",
       "</style>\n",
       "<table border=\"1\" class=\"dataframe\">\n",
       "  <thead>\n",
       "    <tr style=\"text-align: right;\">\n",
       "      <th></th>\n",
       "      <th>beer_beerid</th>\n",
       "      <th>rank</th>\n",
       "      <th>review_profilename</th>\n",
       "      <th>score</th>\n",
       "      <th>beer_name</th>\n",
       "      <th>brewery_name</th>\n",
       "      <th>review_overall</th>\n",
       "      <th>review_aroma</th>\n",
       "      <th>review_appearance</th>\n",
       "      <th>review_palate</th>\n",
       "      <th>review_taste</th>\n",
       "      <th>beer_abv</th>\n",
       "    </tr>\n",
       "  </thead>\n",
       "  <tbody>\n",
       "    <tr>\n",
       "      <th>0</th>\n",
       "      <td>1013</td>\n",
       "      <td>1</td>\n",
       "      <td>new_user</td>\n",
       "      <td>0.287421</td>\n",
       "      <td>Storm King Stout</td>\n",
       "      <td>Victory Brewing Company</td>\n",
       "      <td>4.091150</td>\n",
       "      <td>4.070555</td>\n",
       "      <td>4.304445</td>\n",
       "      <td>4.138458</td>\n",
       "      <td>4.211664</td>\n",
       "      <td>9.1</td>\n",
       "    </tr>\n",
       "    <tr>\n",
       "      <th>1</th>\n",
       "      <td>4083</td>\n",
       "      <td>2</td>\n",
       "      <td>new_user</td>\n",
       "      <td>0.287104</td>\n",
       "      <td>Stone Ruination IPA</td>\n",
       "      <td>Stone Brewing Co.</td>\n",
       "      <td>4.161612</td>\n",
       "      <td>4.341531</td>\n",
       "      <td>4.179179</td>\n",
       "      <td>4.183432</td>\n",
       "      <td>4.351331</td>\n",
       "      <td>7.7</td>\n",
       "    </tr>\n",
       "    <tr>\n",
       "      <th>2</th>\n",
       "      <td>2671</td>\n",
       "      <td>3</td>\n",
       "      <td>new_user</td>\n",
       "      <td>0.281532</td>\n",
       "      <td>Sierra Nevada Bigfoot Barleywine Style Ale</td>\n",
       "      <td>Sierra Nevada Brewing Co.</td>\n",
       "      <td>3.966091</td>\n",
       "      <td>4.155698</td>\n",
       "      <td>4.258628</td>\n",
       "      <td>4.126204</td>\n",
       "      <td>4.189005</td>\n",
       "      <td>9.6</td>\n",
       "    </tr>\n",
       "    <tr>\n",
       "      <th>3</th>\n",
       "      <td>680</td>\n",
       "      <td>4</td>\n",
       "      <td>new_user</td>\n",
       "      <td>0.280811</td>\n",
       "      <td>Brooklyn Black Chocolate Stout</td>\n",
       "      <td>Brooklyn Brewery</td>\n",
       "      <td>4.032284</td>\n",
       "      <td>4.110544</td>\n",
       "      <td>4.293829</td>\n",
       "      <td>4.165304</td>\n",
       "      <td>4.220883</td>\n",
       "      <td>10.0</td>\n",
       "    </tr>\n",
       "    <tr>\n",
       "      <th>4</th>\n",
       "      <td>412</td>\n",
       "      <td>5</td>\n",
       "      <td>new_user</td>\n",
       "      <td>0.280442</td>\n",
       "      <td>Old Rasputin Russian Imperial Stout</td>\n",
       "      <td>North Coast Brewing Co.</td>\n",
       "      <td>4.174221</td>\n",
       "      <td>4.198650</td>\n",
       "      <td>4.373995</td>\n",
       "      <td>4.231758</td>\n",
       "      <td>4.342173</td>\n",
       "      <td>9.0</td>\n",
       "    </tr>\n",
       "    <tr>\n",
       "      <th>5</th>\n",
       "      <td>88</td>\n",
       "      <td>6</td>\n",
       "      <td>new_user</td>\n",
       "      <td>0.280222</td>\n",
       "      <td>Stone IPA (India Pale Ale)</td>\n",
       "      <td>Stone Brewing Co.</td>\n",
       "      <td>4.257670</td>\n",
       "      <td>4.238641</td>\n",
       "      <td>4.135728</td>\n",
       "      <td>4.138252</td>\n",
       "      <td>4.297087</td>\n",
       "      <td>6.9</td>\n",
       "    </tr>\n",
       "    <tr>\n",
       "      <th>6</th>\n",
       "      <td>1904</td>\n",
       "      <td>7</td>\n",
       "      <td>new_user</td>\n",
       "      <td>0.278481</td>\n",
       "      <td>Sierra Nevada Celebration Ale</td>\n",
       "      <td>Sierra Nevada Brewing Co.</td>\n",
       "      <td>4.168667</td>\n",
       "      <td>4.082333</td>\n",
       "      <td>4.225167</td>\n",
       "      <td>4.076000</td>\n",
       "      <td>4.190000</td>\n",
       "      <td>6.8</td>\n",
       "    </tr>\n",
       "    <tr>\n",
       "      <th>7</th>\n",
       "      <td>2093</td>\n",
       "      <td>8</td>\n",
       "      <td>new_user</td>\n",
       "      <td>0.276633</td>\n",
       "      <td>90 Minute IPA</td>\n",
       "      <td>Dogfish Head Brewery</td>\n",
       "      <td>4.145745</td>\n",
       "      <td>4.213526</td>\n",
       "      <td>4.192097</td>\n",
       "      <td>4.181763</td>\n",
       "      <td>4.325988</td>\n",
       "      <td>9.0</td>\n",
       "    </tr>\n",
       "    <tr>\n",
       "      <th>8</th>\n",
       "      <td>1708</td>\n",
       "      <td>9</td>\n",
       "      <td>new_user</td>\n",
       "      <td>0.273176</td>\n",
       "      <td>St. Bernardus Abt 12</td>\n",
       "      <td>Brouwerij St. Bernardus NV</td>\n",
       "      <td>4.327921</td>\n",
       "      <td>4.318448</td>\n",
       "      <td>4.362201</td>\n",
       "      <td>4.368290</td>\n",
       "      <td>4.487145</td>\n",
       "      <td>10.0</td>\n",
       "    </tr>\n",
       "    <tr>\n",
       "      <th>9</th>\n",
       "      <td>131</td>\n",
       "      <td>10</td>\n",
       "      <td>new_user</td>\n",
       "      <td>0.267840</td>\n",
       "      <td>Ayinger Celebrator Doppelbock</td>\n",
       "      <td>Privatbrauerei Franz Inselkammer KG / Brauerei...</td>\n",
       "      <td>4.299275</td>\n",
       "      <td>4.244203</td>\n",
       "      <td>4.253865</td>\n",
       "      <td>4.304348</td>\n",
       "      <td>4.428502</td>\n",
       "      <td>6.7</td>\n",
       "    </tr>\n",
       "    <tr>\n",
       "      <th>10</th>\n",
       "      <td>1005</td>\n",
       "      <td>11</td>\n",
       "      <td>new_user</td>\n",
       "      <td>0.267037</td>\n",
       "      <td>HopDevil Ale</td>\n",
       "      <td>Victory Brewing Company</td>\n",
       "      <td>4.114683</td>\n",
       "      <td>3.995656</td>\n",
       "      <td>4.093180</td>\n",
       "      <td>4.019114</td>\n",
       "      <td>4.143788</td>\n",
       "      <td>6.7</td>\n",
       "    </tr>\n",
       "    <tr>\n",
       "      <th>11</th>\n",
       "      <td>3158</td>\n",
       "      <td>12</td>\n",
       "      <td>new_user</td>\n",
       "      <td>0.262170</td>\n",
       "      <td>Hop Rod Rye</td>\n",
       "      <td>Bear Republic Brewing Co.</td>\n",
       "      <td>4.217459</td>\n",
       "      <td>4.209880</td>\n",
       "      <td>4.295609</td>\n",
       "      <td>4.225823</td>\n",
       "      <td>4.342394</td>\n",
       "      <td>8.0</td>\n",
       "    </tr>\n",
       "    <tr>\n",
       "      <th>12</th>\n",
       "      <td>92</td>\n",
       "      <td>13</td>\n",
       "      <td>new_user</td>\n",
       "      <td>0.260611</td>\n",
       "      <td>Arrogant Bastard Ale</td>\n",
       "      <td>Stone Brewing Co.</td>\n",
       "      <td>4.078402</td>\n",
       "      <td>4.119268</td>\n",
       "      <td>4.296413</td>\n",
       "      <td>4.143121</td>\n",
       "      <td>4.278846</td>\n",
       "      <td>7.2</td>\n",
       "    </tr>\n",
       "    <tr>\n",
       "      <th>13</th>\n",
       "      <td>731</td>\n",
       "      <td>14</td>\n",
       "      <td>new_user</td>\n",
       "      <td>0.259610</td>\n",
       "      <td>Weihenstephaner Hefeweissbier</td>\n",
       "      <td>Bayerische Staatsbrauerei Weihenstephan</td>\n",
       "      <td>4.515901</td>\n",
       "      <td>4.296315</td>\n",
       "      <td>4.380363</td>\n",
       "      <td>4.283190</td>\n",
       "      <td>4.425038</td>\n",
       "      <td>5.4</td>\n",
       "    </tr>\n",
       "    <tr>\n",
       "      <th>14</th>\n",
       "      <td>34</td>\n",
       "      <td>15</td>\n",
       "      <td>new_user</td>\n",
       "      <td>0.259580</td>\n",
       "      <td>La Fin Du Monde</td>\n",
       "      <td>Unibroue</td>\n",
       "      <td>4.298027</td>\n",
       "      <td>4.231977</td>\n",
       "      <td>4.193919</td>\n",
       "      <td>4.264398</td>\n",
       "      <td>4.396093</td>\n",
       "      <td>9.0</td>\n",
       "    </tr>\n",
       "    <tr>\n",
       "      <th>15</th>\n",
       "      <td>6108</td>\n",
       "      <td>16</td>\n",
       "      <td>new_user</td>\n",
       "      <td>0.258894</td>\n",
       "      <td>60 Minute IPA</td>\n",
       "      <td>Dogfish Head Brewery</td>\n",
       "      <td>4.172727</td>\n",
       "      <td>3.996768</td>\n",
       "      <td>3.966061</td>\n",
       "      <td>4.006667</td>\n",
       "      <td>4.118990</td>\n",
       "      <td>6.0</td>\n",
       "    </tr>\n",
       "    <tr>\n",
       "      <th>16</th>\n",
       "      <td>1160</td>\n",
       "      <td>17</td>\n",
       "      <td>new_user</td>\n",
       "      <td>0.254665</td>\n",
       "      <td>Stone Imperial Russian Stout</td>\n",
       "      <td>Stone Brewing Co.</td>\n",
       "      <td>4.244311</td>\n",
       "      <td>4.289824</td>\n",
       "      <td>4.403821</td>\n",
       "      <td>4.384714</td>\n",
       "      <td>4.451911</td>\n",
       "      <td>10.5</td>\n",
       "    </tr>\n",
       "    <tr>\n",
       "      <th>17</th>\n",
       "      <td>1010</td>\n",
       "      <td>18</td>\n",
       "      <td>new_user</td>\n",
       "      <td>0.249226</td>\n",
       "      <td>Prima Pils</td>\n",
       "      <td>Victory Brewing Company</td>\n",
       "      <td>4.242083</td>\n",
       "      <td>3.938808</td>\n",
       "      <td>3.952764</td>\n",
       "      <td>4.011809</td>\n",
       "      <td>4.124799</td>\n",
       "      <td>5.3</td>\n",
       "    </tr>\n",
       "    <tr>\n",
       "      <th>18</th>\n",
       "      <td>1056</td>\n",
       "      <td>19</td>\n",
       "      <td>new_user</td>\n",
       "      <td>0.245854</td>\n",
       "      <td>Double Bastard Ale</td>\n",
       "      <td>Stone Brewing Co.</td>\n",
       "      <td>4.112372</td>\n",
       "      <td>4.223663</td>\n",
       "      <td>4.267423</td>\n",
       "      <td>4.282010</td>\n",
       "      <td>4.366288</td>\n",
       "      <td>10.5</td>\n",
       "    </tr>\n",
       "    <tr>\n",
       "      <th>19</th>\n",
       "      <td>141</td>\n",
       "      <td>20</td>\n",
       "      <td>new_user</td>\n",
       "      <td>0.244640</td>\n",
       "      <td>Hennepin (Farmhouse Saison)</td>\n",
       "      <td>Brewery Ommegang</td>\n",
       "      <td>4.250000</td>\n",
       "      <td>4.076902</td>\n",
       "      <td>4.237138</td>\n",
       "      <td>4.127814</td>\n",
       "      <td>4.218917</td>\n",
       "      <td>7.7</td>\n",
       "    </tr>\n",
       "    <tr>\n",
       "      <th>20</th>\n",
       "      <td>1093</td>\n",
       "      <td>21</td>\n",
       "      <td>new_user</td>\n",
       "      <td>0.242249</td>\n",
       "      <td>Two Hearted Ale</td>\n",
       "      <td>Bell's Brewery, Inc.</td>\n",
       "      <td>4.329729</td>\n",
       "      <td>4.266496</td>\n",
       "      <td>4.153959</td>\n",
       "      <td>4.138746</td>\n",
       "      <td>4.318915</td>\n",
       "      <td>7.0</td>\n",
       "    </tr>\n",
       "    <tr>\n",
       "      <th>21</th>\n",
       "      <td>8951</td>\n",
       "      <td>22</td>\n",
       "      <td>new_user</td>\n",
       "      <td>0.241754</td>\n",
       "      <td>Oaked Arrogant Bastard Ale</td>\n",
       "      <td>Stone Brewing Co.</td>\n",
       "      <td>4.109281</td>\n",
       "      <td>4.143114</td>\n",
       "      <td>4.258383</td>\n",
       "      <td>4.164371</td>\n",
       "      <td>4.266766</td>\n",
       "      <td>7.2</td>\n",
       "    </tr>\n",
       "    <tr>\n",
       "      <th>22</th>\n",
       "      <td>224</td>\n",
       "      <td>23</td>\n",
       "      <td>new_user</td>\n",
       "      <td>0.236023</td>\n",
       "      <td>Schneider Aventinus</td>\n",
       "      <td>Weisses Bräuhaus G. Schneider &amp; Sohn GmbH</td>\n",
       "      <td>4.234334</td>\n",
       "      <td>4.269352</td>\n",
       "      <td>4.178515</td>\n",
       "      <td>4.195366</td>\n",
       "      <td>4.388362</td>\n",
       "      <td>8.2</td>\n",
       "    </tr>\n",
       "    <tr>\n",
       "      <th>23</th>\n",
       "      <td>695</td>\n",
       "      <td>24</td>\n",
       "      <td>new_user</td>\n",
       "      <td>0.233276</td>\n",
       "      <td>Duvel</td>\n",
       "      <td>Brouwerij Duvel Moortgat NV</td>\n",
       "      <td>4.342245</td>\n",
       "      <td>4.151224</td>\n",
       "      <td>4.512857</td>\n",
       "      <td>4.257347</td>\n",
       "      <td>4.329592</td>\n",
       "      <td>8.5</td>\n",
       "    </tr>\n",
       "    <tr>\n",
       "      <th>24</th>\n",
       "      <td>90</td>\n",
       "      <td>25</td>\n",
       "      <td>new_user</td>\n",
       "      <td>0.230692</td>\n",
       "      <td>Stone Smoked Porter</td>\n",
       "      <td>Stone Brewing Co.</td>\n",
       "      <td>4.071516</td>\n",
       "      <td>3.944309</td>\n",
       "      <td>4.153987</td>\n",
       "      <td>4.014303</td>\n",
       "      <td>4.097687</td>\n",
       "      <td>5.9</td>\n",
       "    </tr>\n",
       "  </tbody>\n",
       "</table>\n",
       "</div>"
      ],
      "text/plain": [
       "    beer_beerid  rank review_profilename     score  \\\n",
       "0          1013     1           new_user  0.287421   \n",
       "1          4083     2           new_user  0.287104   \n",
       "2          2671     3           new_user  0.281532   \n",
       "3           680     4           new_user  0.280811   \n",
       "4           412     5           new_user  0.280442   \n",
       "5            88     6           new_user  0.280222   \n",
       "6          1904     7           new_user  0.278481   \n",
       "7          2093     8           new_user  0.276633   \n",
       "8          1708     9           new_user  0.273176   \n",
       "9           131    10           new_user  0.267840   \n",
       "10         1005    11           new_user  0.267037   \n",
       "11         3158    12           new_user  0.262170   \n",
       "12           92    13           new_user  0.260611   \n",
       "13          731    14           new_user  0.259610   \n",
       "14           34    15           new_user  0.259580   \n",
       "15         6108    16           new_user  0.258894   \n",
       "16         1160    17           new_user  0.254665   \n",
       "17         1010    18           new_user  0.249226   \n",
       "18         1056    19           new_user  0.245854   \n",
       "19          141    20           new_user  0.244640   \n",
       "20         1093    21           new_user  0.242249   \n",
       "21         8951    22           new_user  0.241754   \n",
       "22          224    23           new_user  0.236023   \n",
       "23          695    24           new_user  0.233276   \n",
       "24           90    25           new_user  0.230692   \n",
       "\n",
       "                                     beer_name  \\\n",
       "0                             Storm King Stout   \n",
       "1                          Stone Ruination IPA   \n",
       "2   Sierra Nevada Bigfoot Barleywine Style Ale   \n",
       "3               Brooklyn Black Chocolate Stout   \n",
       "4          Old Rasputin Russian Imperial Stout   \n",
       "5                   Stone IPA (India Pale Ale)   \n",
       "6                Sierra Nevada Celebration Ale   \n",
       "7                                90 Minute IPA   \n",
       "8                         St. Bernardus Abt 12   \n",
       "9                Ayinger Celebrator Doppelbock   \n",
       "10                                HopDevil Ale   \n",
       "11                                 Hop Rod Rye   \n",
       "12                        Arrogant Bastard Ale   \n",
       "13               Weihenstephaner Hefeweissbier   \n",
       "14                             La Fin Du Monde   \n",
       "15                               60 Minute IPA   \n",
       "16                Stone Imperial Russian Stout   \n",
       "17                                  Prima Pils   \n",
       "18                          Double Bastard Ale   \n",
       "19                 Hennepin (Farmhouse Saison)   \n",
       "20                             Two Hearted Ale   \n",
       "21                  Oaked Arrogant Bastard Ale   \n",
       "22                         Schneider Aventinus   \n",
       "23                                       Duvel   \n",
       "24                         Stone Smoked Porter   \n",
       "\n",
       "                                         brewery_name  review_overall  \\\n",
       "0                             Victory Brewing Company        4.091150   \n",
       "1                                   Stone Brewing Co.        4.161612   \n",
       "2                           Sierra Nevada Brewing Co.        3.966091   \n",
       "3                                    Brooklyn Brewery        4.032284   \n",
       "4                             North Coast Brewing Co.        4.174221   \n",
       "5                                   Stone Brewing Co.        4.257670   \n",
       "6                           Sierra Nevada Brewing Co.        4.168667   \n",
       "7                                Dogfish Head Brewery        4.145745   \n",
       "8                          Brouwerij St. Bernardus NV        4.327921   \n",
       "9   Privatbrauerei Franz Inselkammer KG / Brauerei...        4.299275   \n",
       "10                            Victory Brewing Company        4.114683   \n",
       "11                          Bear Republic Brewing Co.        4.217459   \n",
       "12                                  Stone Brewing Co.        4.078402   \n",
       "13            Bayerische Staatsbrauerei Weihenstephan        4.515901   \n",
       "14                                           Unibroue        4.298027   \n",
       "15                               Dogfish Head Brewery        4.172727   \n",
       "16                                  Stone Brewing Co.        4.244311   \n",
       "17                            Victory Brewing Company        4.242083   \n",
       "18                                  Stone Brewing Co.        4.112372   \n",
       "19                                   Brewery Ommegang        4.250000   \n",
       "20                               Bell's Brewery, Inc.        4.329729   \n",
       "21                                  Stone Brewing Co.        4.109281   \n",
       "22          Weisses Bräuhaus G. Schneider & Sohn GmbH        4.234334   \n",
       "23                        Brouwerij Duvel Moortgat NV        4.342245   \n",
       "24                                  Stone Brewing Co.        4.071516   \n",
       "\n",
       "    review_aroma  review_appearance  review_palate  review_taste  beer_abv  \n",
       "0       4.070555           4.304445       4.138458      4.211664       9.1  \n",
       "1       4.341531           4.179179       4.183432      4.351331       7.7  \n",
       "2       4.155698           4.258628       4.126204      4.189005       9.6  \n",
       "3       4.110544           4.293829       4.165304      4.220883      10.0  \n",
       "4       4.198650           4.373995       4.231758      4.342173       9.0  \n",
       "5       4.238641           4.135728       4.138252      4.297087       6.9  \n",
       "6       4.082333           4.225167       4.076000      4.190000       6.8  \n",
       "7       4.213526           4.192097       4.181763      4.325988       9.0  \n",
       "8       4.318448           4.362201       4.368290      4.487145      10.0  \n",
       "9       4.244203           4.253865       4.304348      4.428502       6.7  \n",
       "10      3.995656           4.093180       4.019114      4.143788       6.7  \n",
       "11      4.209880           4.295609       4.225823      4.342394       8.0  \n",
       "12      4.119268           4.296413       4.143121      4.278846       7.2  \n",
       "13      4.296315           4.380363       4.283190      4.425038       5.4  \n",
       "14      4.231977           4.193919       4.264398      4.396093       9.0  \n",
       "15      3.996768           3.966061       4.006667      4.118990       6.0  \n",
       "16      4.289824           4.403821       4.384714      4.451911      10.5  \n",
       "17      3.938808           3.952764       4.011809      4.124799       5.3  \n",
       "18      4.223663           4.267423       4.282010      4.366288      10.5  \n",
       "19      4.076902           4.237138       4.127814      4.218917       7.7  \n",
       "20      4.266496           4.153959       4.138746      4.318915       7.0  \n",
       "21      4.143114           4.258383       4.164371      4.266766       7.2  \n",
       "22      4.269352           4.178515       4.195366      4.388362       8.2  \n",
       "23      4.151224           4.512857       4.257347      4.329592       8.5  \n",
       "24      3.944309           4.153987       4.014303      4.097687       5.9  "
      ]
     },
     "execution_count": 31,
     "metadata": {},
     "output_type": "execute_result"
    }
   ],
   "source": [
    "# Create dataframe with all beer info\n",
    "recommend1_df = pd.DataFrame(recommend1)\n",
    "recommend1_df['beer_beerid'] = [int(x) for x in recommend1_df['beer_beerid']]\n",
    "recommend1_df = findBeers(recommend1_df)\n",
    "recommend1_df"
   ]
  },
  {
   "cell_type": "code",
   "execution_count": 47,
   "metadata": {},
   "outputs": [
    {
     "name": "stdout",
     "output_type": "stream",
     "text": [
      "+--------------------+-------------+----------------+------+\n",
      "| review_profilename | beer_beerid |     score      | rank |\n",
      "+--------------------+-------------+----------------+------+\n",
      "|     new_user2      |     1013    | 0.287420551777 |  1   |\n",
      "|     new_user2      |     4083    | 0.28710396409  |  2   |\n",
      "|     new_user2      |     2671    | 0.281532007456 |  3   |\n",
      "|     new_user2      |     680     | 0.280811485052 |  4   |\n",
      "|     new_user2      |     412     | 0.280441898108 |  5   |\n",
      "|     new_user2      |      88     | 0.280221506357 |  6   |\n",
      "|     new_user2      |     1904    | 0.278480520248 |  7   |\n",
      "|     new_user2      |     2093    | 0.276632959843 |  8   |\n",
      "|     new_user2      |     1708    | 0.273175606728 |  9   |\n",
      "|     new_user2      |     131     | 0.267840100527 |  10  |\n",
      "|     new_user2      |     1005    | 0.267036730051 |  11  |\n",
      "|     new_user2      |     3158    | 0.262170200348 |  12  |\n",
      "|     new_user2      |      92     | 0.260610797405 |  13  |\n",
      "|     new_user2      |     731     | 0.259610339403 |  14  |\n",
      "|     new_user2      |      34     | 0.25958042264  |  15  |\n",
      "|     new_user2      |     6108    | 0.258893814087 |  16  |\n",
      "|     new_user2      |     1160    | 0.254665037394 |  17  |\n",
      "|     new_user2      |     1010    | 0.249226288795 |  18  |\n",
      "|     new_user2      |     1056    | 0.245853928328 |  19  |\n",
      "|     new_user2      |     141     | 0.244640126228 |  20  |\n",
      "|     new_user2      |     1093    | 0.242249370813 |  21  |\n",
      "|     new_user2      |     8951    | 0.241754025221 |  22  |\n",
      "|     new_user2      |     224     | 0.236022729874 |  23  |\n",
      "|     new_user2      |     695     | 0.233276067972 |  24  |\n",
      "|     new_user2      |      90     | 0.230691652298 |  25  |\n",
      "+--------------------+-------------+----------------+------+\n",
      "[25 rows x 4 columns]\n",
      "\n"
     ]
    }
   ],
   "source": [
    "recommend1B = model.recommend(['new_user2'], new_observation_data = user2_info, k=25)\n",
    "recommend1B.print_rows(25)"
   ]
  },
  {
   "cell_type": "code",
   "execution_count": null,
   "metadata": {},
   "outputs": [],
   "source": []
  },
  {
   "cell_type": "code",
   "execution_count": 36,
   "metadata": {
    "scrolled": true
   },
   "outputs": [
    {
     "data": {
      "text/html": [
       "<pre>recommendations finished on 1000/33387 queries. users per second: 292.26</pre>"
      ],
      "text/plain": [
       "recommendations finished on 1000/33387 queries. users per second: 292.26"
      ]
     },
     "metadata": {},
     "output_type": "display_data"
    },
    {
     "data": {
      "text/html": [
       "<pre>recommendations finished on 2000/33387 queries. users per second: 467.565</pre>"
      ],
      "text/plain": [
       "recommendations finished on 2000/33387 queries. users per second: 467.565"
      ]
     },
     "metadata": {},
     "output_type": "display_data"
    },
    {
     "data": {
      "text/html": [
       "<pre>recommendations finished on 3000/33387 queries. users per second: 584.199</pre>"
      ],
      "text/plain": [
       "recommendations finished on 3000/33387 queries. users per second: 584.199"
      ]
     },
     "metadata": {},
     "output_type": "display_data"
    },
    {
     "data": {
      "text/html": [
       "<pre>recommendations finished on 4000/33387 queries. users per second: 632.078</pre>"
      ],
      "text/plain": [
       "recommendations finished on 4000/33387 queries. users per second: 632.078"
      ]
     },
     "metadata": {},
     "output_type": "display_data"
    },
    {
     "data": {
      "text/html": [
       "<pre>recommendations finished on 5000/33387 queries. users per second: 703.571</pre>"
      ],
      "text/plain": [
       "recommendations finished on 5000/33387 queries. users per second: 703.571"
      ]
     },
     "metadata": {},
     "output_type": "display_data"
    },
    {
     "data": {
      "text/html": [
       "<pre>recommendations finished on 6000/33387 queries. users per second: 760.198</pre>"
      ],
      "text/plain": [
       "recommendations finished on 6000/33387 queries. users per second: 760.198"
      ]
     },
     "metadata": {},
     "output_type": "display_data"
    },
    {
     "data": {
      "text/html": [
       "<pre>recommendations finished on 7000/33387 queries. users per second: 802.042</pre>"
      ],
      "text/plain": [
       "recommendations finished on 7000/33387 queries. users per second: 802.042"
      ]
     },
     "metadata": {},
     "output_type": "display_data"
    },
    {
     "data": {
      "text/html": [
       "<pre>recommendations finished on 8000/33387 queries. users per second: 834.571</pre>"
      ],
      "text/plain": [
       "recommendations finished on 8000/33387 queries. users per second: 834.571"
      ]
     },
     "metadata": {},
     "output_type": "display_data"
    },
    {
     "data": {
      "text/html": [
       "<pre>recommendations finished on 9000/33387 queries. users per second: 865.087</pre>"
      ],
      "text/plain": [
       "recommendations finished on 9000/33387 queries. users per second: 865.087"
      ]
     },
     "metadata": {},
     "output_type": "display_data"
    },
    {
     "data": {
      "text/html": [
       "<pre>recommendations finished on 10000/33387 queries. users per second: 890.206</pre>"
      ],
      "text/plain": [
       "recommendations finished on 10000/33387 queries. users per second: 890.206"
      ]
     },
     "metadata": {},
     "output_type": "display_data"
    },
    {
     "data": {
      "text/html": [
       "<pre>recommendations finished on 11000/33387 queries. users per second: 893.594</pre>"
      ],
      "text/plain": [
       "recommendations finished on 11000/33387 queries. users per second: 893.594"
      ]
     },
     "metadata": {},
     "output_type": "display_data"
    },
    {
     "data": {
      "text/html": [
       "<pre>recommendations finished on 12000/33387 queries. users per second: 917.349</pre>"
      ],
      "text/plain": [
       "recommendations finished on 12000/33387 queries. users per second: 917.349"
      ]
     },
     "metadata": {},
     "output_type": "display_data"
    },
    {
     "data": {
      "text/html": [
       "<pre>recommendations finished on 13000/33387 queries. users per second: 937.077</pre>"
      ],
      "text/plain": [
       "recommendations finished on 13000/33387 queries. users per second: 937.077"
      ]
     },
     "metadata": {},
     "output_type": "display_data"
    },
    {
     "data": {
      "text/html": [
       "<pre>recommendations finished on 14000/33387 queries. users per second: 954.338</pre>"
      ],
      "text/plain": [
       "recommendations finished on 14000/33387 queries. users per second: 954.338"
      ]
     },
     "metadata": {},
     "output_type": "display_data"
    },
    {
     "data": {
      "text/html": [
       "<pre>recommendations finished on 15000/33387 queries. users per second: 970.144</pre>"
      ],
      "text/plain": [
       "recommendations finished on 15000/33387 queries. users per second: 970.144"
      ]
     },
     "metadata": {},
     "output_type": "display_data"
    },
    {
     "data": {
      "text/html": [
       "<pre>recommendations finished on 16000/33387 queries. users per second: 980.29</pre>"
      ],
      "text/plain": [
       "recommendations finished on 16000/33387 queries. users per second: 980.29"
      ]
     },
     "metadata": {},
     "output_type": "display_data"
    },
    {
     "data": {
      "text/html": [
       "<pre>recommendations finished on 17000/33387 queries. users per second: 987.874</pre>"
      ],
      "text/plain": [
       "recommendations finished on 17000/33387 queries. users per second: 987.874"
      ]
     },
     "metadata": {},
     "output_type": "display_data"
    },
    {
     "data": {
      "text/html": [
       "<pre>recommendations finished on 18000/33387 queries. users per second: 983.826</pre>"
      ],
      "text/plain": [
       "recommendations finished on 18000/33387 queries. users per second: 983.826"
      ]
     },
     "metadata": {},
     "output_type": "display_data"
    },
    {
     "data": {
      "text/html": [
       "<pre>recommendations finished on 19000/33387 queries. users per second: 990.739</pre>"
      ],
      "text/plain": [
       "recommendations finished on 19000/33387 queries. users per second: 990.739"
      ]
     },
     "metadata": {},
     "output_type": "display_data"
    },
    {
     "data": {
      "text/html": [
       "<pre>recommendations finished on 20000/33387 queries. users per second: 998.988</pre>"
      ],
      "text/plain": [
       "recommendations finished on 20000/33387 queries. users per second: 998.988"
      ]
     },
     "metadata": {},
     "output_type": "display_data"
    },
    {
     "data": {
      "text/html": [
       "<pre>recommendations finished on 21000/33387 queries. users per second: 1008.43</pre>"
      ],
      "text/plain": [
       "recommendations finished on 21000/33387 queries. users per second: 1008.43"
      ]
     },
     "metadata": {},
     "output_type": "display_data"
    },
    {
     "data": {
      "text/html": [
       "<pre>recommendations finished on 22000/33387 queries. users per second: 1015.71</pre>"
      ],
      "text/plain": [
       "recommendations finished on 22000/33387 queries. users per second: 1015.71"
      ]
     },
     "metadata": {},
     "output_type": "display_data"
    },
    {
     "data": {
      "text/html": [
       "<pre>recommendations finished on 23000/33387 queries. users per second: 1021.65</pre>"
      ],
      "text/plain": [
       "recommendations finished on 23000/33387 queries. users per second: 1021.65"
      ]
     },
     "metadata": {},
     "output_type": "display_data"
    },
    {
     "data": {
      "text/html": [
       "<pre>recommendations finished on 24000/33387 queries. users per second: 1013.3</pre>"
      ],
      "text/plain": [
       "recommendations finished on 24000/33387 queries. users per second: 1013.3"
      ]
     },
     "metadata": {},
     "output_type": "display_data"
    },
    {
     "data": {
      "text/html": [
       "<pre>recommendations finished on 25000/33387 queries. users per second: 1011.6</pre>"
      ],
      "text/plain": [
       "recommendations finished on 25000/33387 queries. users per second: 1011.6"
      ]
     },
     "metadata": {},
     "output_type": "display_data"
    },
    {
     "data": {
      "text/html": [
       "<pre>recommendations finished on 26000/33387 queries. users per second: 1016.41</pre>"
      ],
      "text/plain": [
       "recommendations finished on 26000/33387 queries. users per second: 1016.41"
      ]
     },
     "metadata": {},
     "output_type": "display_data"
    },
    {
     "data": {
      "text/html": [
       "<pre>recommendations finished on 27000/33387 queries. users per second: 1021.21</pre>"
      ],
      "text/plain": [
       "recommendations finished on 27000/33387 queries. users per second: 1021.21"
      ]
     },
     "metadata": {},
     "output_type": "display_data"
    },
    {
     "data": {
      "text/html": [
       "<pre>recommendations finished on 28000/33387 queries. users per second: 1020.31</pre>"
      ],
      "text/plain": [
       "recommendations finished on 28000/33387 queries. users per second: 1020.31"
      ]
     },
     "metadata": {},
     "output_type": "display_data"
    },
    {
     "data": {
      "text/html": [
       "<pre>recommendations finished on 29000/33387 queries. users per second: 1022.45</pre>"
      ],
      "text/plain": [
       "recommendations finished on 29000/33387 queries. users per second: 1022.45"
      ]
     },
     "metadata": {},
     "output_type": "display_data"
    },
    {
     "data": {
      "text/html": [
       "<pre>recommendations finished on 30000/33387 queries. users per second: 1019.76</pre>"
      ],
      "text/plain": [
       "recommendations finished on 30000/33387 queries. users per second: 1019.76"
      ]
     },
     "metadata": {},
     "output_type": "display_data"
    },
    {
     "data": {
      "text/html": [
       "<pre>recommendations finished on 31000/33387 queries. users per second: 1019.05</pre>"
      ],
      "text/plain": [
       "recommendations finished on 31000/33387 queries. users per second: 1019.05"
      ]
     },
     "metadata": {},
     "output_type": "display_data"
    },
    {
     "data": {
      "text/html": [
       "<pre>recommendations finished on 32000/33387 queries. users per second: 1023.65</pre>"
      ],
      "text/plain": [
       "recommendations finished on 32000/33387 queries. users per second: 1023.65"
      ]
     },
     "metadata": {},
     "output_type": "display_data"
    },
    {
     "data": {
      "text/html": [
       "<pre>recommendations finished on 33000/33387 queries. users per second: 1028.11</pre>"
      ],
      "text/plain": [
       "recommendations finished on 33000/33387 queries. users per second: 1028.11"
      ]
     },
     "metadata": {},
     "output_type": "display_data"
    },
    {
     "name": "stdout",
     "output_type": "stream",
     "text": [
      "\n",
      "Precision and recall summary statistics by cutoff\n",
      "+--------+----------------+-------------+\n",
      "| cutoff | mean_precision | mean_recall |\n",
      "+--------+----------------+-------------+\n",
      "|   1    |      0.0       |     0.0     |\n",
      "|   2    |      0.0       |     0.0     |\n",
      "|   3    |      0.0       |     0.0     |\n",
      "|   4    |      0.0       |     0.0     |\n",
      "|   5    |      0.0       |     0.0     |\n",
      "|   6    |      0.0       |     0.0     |\n",
      "|   7    |      0.0       |     0.0     |\n",
      "|   8    |      0.0       |     0.0     |\n",
      "|   9    |      0.0       |     0.0     |\n",
      "|   10   |      0.0       |     0.0     |\n",
      "+--------+----------------+-------------+\n",
      "[10 rows x 3 columns]\n",
      "\n",
      "\n",
      "Overall RMSE: 3.87039792408\n",
      "\n",
      "Per User RMSE (best)\n",
      "+--------------------+-------+----------------+\n",
      "| review_profilename | count |      rmse      |\n",
      "+--------------------+-------+----------------+\n",
      "|      BrewTat       |   6   | 0.552770798393 |\n",
      "+--------------------+-------+----------------+\n",
      "[1 rows x 3 columns]\n",
      "\n",
      "\n",
      "Per User RMSE (worst)\n",
      "+--------------------+-------+------+\n",
      "| review_profilename | count | rmse |\n",
      "+--------------------+-------+------+\n",
      "|       tooic        |   1   | 5.0  |\n",
      "+--------------------+-------+------+\n",
      "[1 rows x 3 columns]\n",
      "\n",
      "\n",
      "Per Item RMSE (best)\n",
      "+-------------+-------+----------------+\n",
      "| beer_beerid | count |      rmse      |\n",
      "+-------------+-------+----------------+\n",
      "|    12228    |   1   | 0.416666666667 |\n",
      "+-------------+-------+----------------+\n",
      "[1 rows x 3 columns]\n",
      "\n",
      "\n",
      "Per Item RMSE (worst)\n",
      "+-------------+-------+------+\n",
      "| beer_beerid | count | rmse |\n",
      "+-------------+-------+------+\n",
      "|    68563    |   1   | 5.0  |\n",
      "+-------------+-------+------+\n",
      "[1 rows x 3 columns]\n",
      "\n"
     ]
    },
    {
     "data": {
      "text/plain": [
       "{'precision_recall_by_user': Columns:\n",
       " \treview_profilename\tstr\n",
       " \tcutoff\tint\n",
       " \tprecision\tfloat\n",
       " \trecall\tfloat\n",
       " \tcount\tint\n",
       " \n",
       " Rows: 600966\n",
       " \n",
       " Data:\n",
       " +--------------------+--------+-----------+--------+-------+\n",
       " | review_profilename | cutoff | precision | recall | count |\n",
       " +--------------------+--------+-----------+--------+-------+\n",
       " |      stcules       |   1    |    0.0    |  0.0   |  1788 |\n",
       " |      stcules       |   2    |    0.0    |  0.0   |  1788 |\n",
       " |      stcules       |   3    |    0.0    |  0.0   |  1788 |\n",
       " |      stcules       |   4    |    0.0    |  0.0   |  1788 |\n",
       " |      stcules       |   5    |    0.0    |  0.0   |  1788 |\n",
       " |      stcules       |   6    |    0.0    |  0.0   |  1788 |\n",
       " |      stcules       |   7    |    0.0    |  0.0   |  1788 |\n",
       " |      stcules       |   8    |    0.0    |  0.0   |  1788 |\n",
       " |      stcules       |   9    |    0.0    |  0.0   |  1788 |\n",
       " |      stcules       |   10   |    0.0    |  0.0   |  1788 |\n",
       " +--------------------+--------+-----------+--------+-------+\n",
       " [600966 rows x 5 columns]\n",
       " Note: Only the head of the SFrame is printed.\n",
       " You can use print_rows(num_rows=m, num_columns=n) to print more rows and columns.,\n",
       " 'precision_recall_overall': Columns:\n",
       " \tcutoff\tint\n",
       " \tprecision\tfloat\n",
       " \trecall\tfloat\n",
       " \n",
       " Rows: 18\n",
       " \n",
       " Data:\n",
       " +--------+-----------+--------+\n",
       " | cutoff | precision | recall |\n",
       " +--------+-----------+--------+\n",
       " |   1    |    0.0    |  0.0   |\n",
       " |   2    |    0.0    |  0.0   |\n",
       " |   3    |    0.0    |  0.0   |\n",
       " |   4    |    0.0    |  0.0   |\n",
       " |   5    |    0.0    |  0.0   |\n",
       " |   6    |    0.0    |  0.0   |\n",
       " |   7    |    0.0    |  0.0   |\n",
       " |   8    |    0.0    |  0.0   |\n",
       " |   9    |    0.0    |  0.0   |\n",
       " |   10   |    0.0    |  0.0   |\n",
       " +--------+-----------+--------+\n",
       " [18 rows x 3 columns]\n",
       " Note: Only the head of the SFrame is printed.\n",
       " You can use print_rows(num_rows=m, num_columns=n) to print more rows and columns.,\n",
       " 'rmse_by_item': Columns:\n",
       " \tbeer_beerid\tstr\n",
       " \tcount\tint\n",
       " \trmse\tfloat\n",
       " \n",
       " Rows: 66051\n",
       " \n",
       " Data:\n",
       " +-------------+-------+---------------+\n",
       " | beer_beerid | count |      rmse     |\n",
       " +-------------+-------+---------------+\n",
       " |    31998    |   1   | 3.49431089756 |\n",
       " |    64985    |   2   | 3.25316533847 |\n",
       " |    27164    |   2   | 4.30235680215 |\n",
       " |    73084    |   14  | 4.22071339337 |\n",
       " |    69129    |   1   | 3.47570583984 |\n",
       " |    33646    |   14  | 4.14635127436 |\n",
       " |     432     |  256  | 3.82395202283 |\n",
       " |    33589    |   7   | 4.11654008057 |\n",
       " |    38234    |   4   | 3.94412455276 |\n",
       " |     8467    |   2   | 3.49457810768 |\n",
       " +-------------+-------+---------------+\n",
       " [66051 rows x 3 columns]\n",
       " Note: Only the head of the SFrame is printed.\n",
       " You can use print_rows(num_rows=m, num_columns=n) to print more rows and columns.,\n",
       " 'rmse_by_user': Columns:\n",
       " \treview_profilename\tstr\n",
       " \tcount\tint\n",
       " \trmse\tfloat\n",
       " \n",
       " Rows: 33387\n",
       " \n",
       " Data:\n",
       " +--------------------+-------+---------------+\n",
       " | review_profilename | count |      rmse     |\n",
       " +--------------------+-------+---------------+\n",
       " |      mclennan      |   1   |      4.0      |\n",
       " |       tooic        |   1   |      5.0      |\n",
       " |       arakis       |   1   |      4.5      |\n",
       " |    blindeyesr3d    |   1   |      3.5      |\n",
       " |     vecernicek     |   1   |      5.0      |\n",
       " |     beersujit      |   1   |      4.0      |\n",
       " |    GrantDuthie     |   2   | 4.03112887415 |\n",
       " |    BuckeyeSlim     |   44  | 3.80616028188 |\n",
       " |      britner       |   1   |      5.0      |\n",
       " |    flintsilver7    |   3   | 3.06865877325 |\n",
       " +--------------------+-------+---------------+\n",
       " [33387 rows x 3 columns]\n",
       " Note: Only the head of the SFrame is printed.\n",
       " You can use print_rows(num_rows=m, num_columns=n) to print more rows and columns.,\n",
       " 'rmse_overall': 3.870397924076427}"
      ]
     },
     "execution_count": 36,
     "metadata": {},
     "output_type": "execute_result"
    }
   ],
   "source": [
    "model.evaluate(df_SF)"
   ]
  },
  {
   "cell_type": "markdown",
   "metadata": {},
   "source": [
    "#### Since the score cannot be tested using the train/test method, a new model will have to be created to understand the accuracy and loss"
   ]
  },
  {
   "cell_type": "code",
   "execution_count": 28,
   "metadata": {},
   "outputs": [],
   "source": [
    "training_data, validation_data = tr.recommender.util.random_split_by_user(df_SF, 'review_profilename', 'beer_beerid', item_test_proportion=0.15)"
   ]
  },
  {
   "cell_type": "code",
   "execution_count": 29,
   "metadata": {
    "scrolled": true
   },
   "outputs": [
    {
     "data": {
      "text/html": [
       "<pre>Warning: Ignoring columns main_style;</pre>"
      ],
      "text/plain": [
       "Warning: Ignoring columns main_style;"
      ]
     },
     "metadata": {},
     "output_type": "display_data"
    },
    {
     "data": {
      "text/html": [
       "<pre>    To use these columns in scoring predictions, use a model that allows the use of additional features.</pre>"
      ],
      "text/plain": [
       "    To use these columns in scoring predictions, use a model that allows the use of additional features."
      ]
     },
     "metadata": {},
     "output_type": "display_data"
    },
    {
     "data": {
      "text/html": [
       "<pre>Preparing data set.</pre>"
      ],
      "text/plain": [
       "Preparing data set."
      ]
     },
     "metadata": {},
     "output_type": "display_data"
    },
    {
     "data": {
      "text/html": [
       "<pre>    Data has 1578596 observations with 33340 users and 65965 items.</pre>"
      ],
      "text/plain": [
       "    Data has 1578596 observations with 33340 users and 65965 items."
      ]
     },
     "metadata": {},
     "output_type": "display_data"
    },
    {
     "data": {
      "text/html": [
       "<pre>    Data prepared in: 2.04351s</pre>"
      ],
      "text/plain": [
       "    Data prepared in: 2.04351s"
      ]
     },
     "metadata": {},
     "output_type": "display_data"
    },
    {
     "data": {
      "text/html": [
       "<pre>Training model from provided data.</pre>"
      ],
      "text/plain": [
       "Training model from provided data."
      ]
     },
     "metadata": {},
     "output_type": "display_data"
    },
    {
     "data": {
      "text/html": [
       "<pre>Gathering per-item and per-user statistics.</pre>"
      ],
      "text/plain": [
       "Gathering per-item and per-user statistics."
      ]
     },
     "metadata": {},
     "output_type": "display_data"
    },
    {
     "data": {
      "text/html": [
       "<pre>+--------------------------------+------------+</pre>"
      ],
      "text/plain": [
       "+--------------------------------+------------+"
      ]
     },
     "metadata": {},
     "output_type": "display_data"
    },
    {
     "data": {
      "text/html": [
       "<pre>| Elapsed Time (Item Statistics) | % Complete |</pre>"
      ],
      "text/plain": [
       "| Elapsed Time (Item Statistics) | % Complete |"
      ]
     },
     "metadata": {},
     "output_type": "display_data"
    },
    {
     "data": {
      "text/html": [
       "<pre>+--------------------------------+------------+</pre>"
      ],
      "text/plain": [
       "+--------------------------------+------------+"
      ]
     },
     "metadata": {},
     "output_type": "display_data"
    },
    {
     "data": {
      "text/html": [
       "<pre>| 54.964ms                       | 2.75       |</pre>"
      ],
      "text/plain": [
       "| 54.964ms                       | 2.75       |"
      ]
     },
     "metadata": {},
     "output_type": "display_data"
    },
    {
     "data": {
      "text/html": [
       "<pre>| 75.206ms                       | 100        |</pre>"
      ],
      "text/plain": [
       "| 75.206ms                       | 100        |"
      ]
     },
     "metadata": {},
     "output_type": "display_data"
    },
    {
     "data": {
      "text/html": [
       "<pre>+--------------------------------+------------+</pre>"
      ],
      "text/plain": [
       "+--------------------------------+------------+"
      ]
     },
     "metadata": {},
     "output_type": "display_data"
    },
    {
     "data": {
      "text/html": [
       "<pre>Setting up lookup tables.</pre>"
      ],
      "text/plain": [
       "Setting up lookup tables."
      ]
     },
     "metadata": {},
     "output_type": "display_data"
    },
    {
     "data": {
      "text/html": [
       "<pre>Processing data in 3 passes using dense lookup tables.</pre>"
      ],
      "text/plain": [
       "Processing data in 3 passes using dense lookup tables."
      ]
     },
     "metadata": {},
     "output_type": "display_data"
    },
    {
     "data": {
      "text/html": [
       "<pre>+-------------------------------------+------------------+-----------------+</pre>"
      ],
      "text/plain": [
       "+-------------------------------------+------------------+-----------------+"
      ]
     },
     "metadata": {},
     "output_type": "display_data"
    },
    {
     "data": {
      "text/html": [
       "<pre>| Elapsed Time (Constructing Lookups) | Total % Complete | Items Processed |</pre>"
      ],
      "text/plain": [
       "| Elapsed Time (Constructing Lookups) | Total % Complete | Items Processed |"
      ]
     },
     "metadata": {},
     "output_type": "display_data"
    },
    {
     "data": {
      "text/html": [
       "<pre>+-------------------------------------+------------------+-----------------+</pre>"
      ],
      "text/plain": [
       "+-------------------------------------+------------------+-----------------+"
      ]
     },
     "metadata": {},
     "output_type": "display_data"
    },
    {
     "data": {
      "text/html": [
       "<pre>| 13.61s                              | 0                | 61              |</pre>"
      ],
      "text/plain": [
       "| 13.61s                              | 0                | 61              |"
      ]
     },
     "metadata": {},
     "output_type": "display_data"
    },
    {
     "data": {
      "text/html": [
       "<pre>| 16.62s                              | 10.75            | 7229            |</pre>"
      ],
      "text/plain": [
       "| 16.62s                              | 10.75            | 7229            |"
      ]
     },
     "metadata": {},
     "output_type": "display_data"
    },
    {
     "data": {
      "text/html": [
       "<pre>| 19.98s                              | 14.25            | 9536            |</pre>"
      ],
      "text/plain": [
       "| 19.98s                              | 14.25            | 9536            |"
      ]
     },
     "metadata": {},
     "output_type": "display_data"
    },
    {
     "data": {
      "text/html": [
       "<pre>| 23.21s                              | 17               | 11223           |</pre>"
      ],
      "text/plain": [
       "| 23.21s                              | 17               | 11223           |"
      ]
     },
     "metadata": {},
     "output_type": "display_data"
    },
    {
     "data": {
      "text/html": [
       "<pre>| 25.67s                              | 17.75            | 11842           |</pre>"
      ],
      "text/plain": [
       "| 25.67s                              | 17.75            | 11842           |"
      ]
     },
     "metadata": {},
     "output_type": "display_data"
    },
    {
     "data": {
      "text/html": [
       "<pre>| 28.89s                              | 18.5             | 12316           |</pre>"
      ],
      "text/plain": [
       "| 28.89s                              | 18.5             | 12316           |"
      ]
     },
     "metadata": {},
     "output_type": "display_data"
    },
    {
     "data": {
      "text/html": [
       "<pre>| 44.56s                              | 19               | 12652           |</pre>"
      ],
      "text/plain": [
       "| 44.56s                              | 19               | 12652           |"
      ]
     },
     "metadata": {},
     "output_type": "display_data"
    },
    {
     "data": {
      "text/html": [
       "<pre>| 5m 12s                              | 20.5             | 13551           |</pre>"
      ],
      "text/plain": [
       "| 5m 12s                              | 20.5             | 13551           |"
      ]
     },
     "metadata": {},
     "output_type": "display_data"
    },
    {
     "data": {
      "text/html": [
       "<pre>| 8m 58s                              | 23               | 15221           |</pre>"
      ],
      "text/plain": [
       "| 8m 58s                              | 23               | 15221           |"
      ]
     },
     "metadata": {},
     "output_type": "display_data"
    },
    {
     "data": {
      "text/html": [
       "<pre>| 12m 52s                             | 24.75            | 16464           |</pre>"
      ],
      "text/plain": [
       "| 12m 52s                             | 24.75            | 16464           |"
      ]
     },
     "metadata": {},
     "output_type": "display_data"
    },
    {
     "data": {
      "text/html": [
       "<pre>| 14m 31s                             | 25.75            | 16996           |</pre>"
      ],
      "text/plain": [
       "| 14m 31s                             | 25.75            | 16996           |"
      ]
     },
     "metadata": {},
     "output_type": "display_data"
    },
    {
     "data": {
      "text/html": [
       "<pre>| 14m 35s                             | 25.75            | 16997           |</pre>"
      ],
      "text/plain": [
       "| 14m 35s                             | 25.75            | 16997           |"
      ]
     },
     "metadata": {},
     "output_type": "display_data"
    },
    {
     "data": {
      "text/html": [
       "<pre>| 14m 40s                             | 25.75            | 17003           |</pre>"
      ],
      "text/plain": [
       "| 14m 40s                             | 25.75            | 17003           |"
      ]
     },
     "metadata": {},
     "output_type": "display_data"
    },
    {
     "data": {
      "text/html": [
       "<pre>| 14m 45s                             | 25.75            | 17029           |</pre>"
      ],
      "text/plain": [
       "| 14m 45s                             | 25.75            | 17029           |"
      ]
     },
     "metadata": {},
     "output_type": "display_data"
    },
    {
     "data": {
      "text/html": [
       "<pre>| 14m 51s                             | 25.75            | 17036           |</pre>"
      ],
      "text/plain": [
       "| 14m 51s                             | 25.75            | 17036           |"
      ]
     },
     "metadata": {},
     "output_type": "display_data"
    },
    {
     "data": {
      "text/html": [
       "<pre>| 14m 54s                             | 25.75            | 17136           |</pre>"
      ],
      "text/plain": [
       "| 14m 54s                             | 25.75            | 17136           |"
      ]
     },
     "metadata": {},
     "output_type": "display_data"
    },
    {
     "data": {
      "text/html": [
       "<pre>| 15m 13s                             | 26               | 17280           |</pre>"
      ],
      "text/plain": [
       "| 15m 13s                             | 26               | 17280           |"
      ]
     },
     "metadata": {},
     "output_type": "display_data"
    },
    {
     "data": {
      "text/html": [
       "<pre>| 17m 22s                             | 26.75            | 17704           |</pre>"
      ],
      "text/plain": [
       "| 17m 22s                             | 26.75            | 17704           |"
      ]
     },
     "metadata": {},
     "output_type": "display_data"
    },
    {
     "data": {
      "text/html": [
       "<pre>| 17m 25s                             | 26.75            | 17717           |</pre>"
      ],
      "text/plain": [
       "| 17m 25s                             | 26.75            | 17717           |"
      ]
     },
     "metadata": {},
     "output_type": "display_data"
    },
    {
     "data": {
      "text/html": [
       "<pre>| 17m 27s                             | 26.75            | 17719           |</pre>"
      ],
      "text/plain": [
       "| 17m 27s                             | 26.75            | 17719           |"
      ]
     },
     "metadata": {},
     "output_type": "display_data"
    },
    {
     "data": {
      "text/html": [
       "<pre>| 17m 34s                             | 26.75            | 17721           |</pre>"
      ],
      "text/plain": [
       "| 17m 34s                             | 26.75            | 17721           |"
      ]
     },
     "metadata": {},
     "output_type": "display_data"
    },
    {
     "data": {
      "text/html": [
       "<pre>| 17m 43s                             | 26.75            | 17739           |</pre>"
      ],
      "text/plain": [
       "| 17m 43s                             | 26.75            | 17739           |"
      ]
     },
     "metadata": {},
     "output_type": "display_data"
    },
    {
     "data": {
      "text/html": [
       "<pre>| 17m 48s                             | 27               | 17844           |</pre>"
      ],
      "text/plain": [
       "| 17m 48s                             | 27               | 17844           |"
      ]
     },
     "metadata": {},
     "output_type": "display_data"
    },
    {
     "data": {
      "text/html": [
       "<pre>| 18m 3s                              | 27               | 17913           |</pre>"
      ],
      "text/plain": [
       "| 18m 3s                              | 27               | 17913           |"
      ]
     },
     "metadata": {},
     "output_type": "display_data"
    },
    {
     "data": {
      "text/html": [
       "<pre>| 18m 10s                             | 27               | 17924           |</pre>"
      ],
      "text/plain": [
       "| 18m 10s                             | 27               | 17924           |"
      ]
     },
     "metadata": {},
     "output_type": "display_data"
    },
    {
     "data": {
      "text/html": [
       "<pre>| 18m 24s                             | 27               | 17925           |</pre>"
      ],
      "text/plain": [
       "| 18m 24s                             | 27               | 17925           |"
      ]
     },
     "metadata": {},
     "output_type": "display_data"
    },
    {
     "data": {
      "text/html": [
       "<pre>| 18m 30s                             | 27               | 17930           |</pre>"
      ],
      "text/plain": [
       "| 18m 30s                             | 27               | 17930           |"
      ]
     },
     "metadata": {},
     "output_type": "display_data"
    },
    {
     "data": {
      "text/html": [
       "<pre>| 18m 33s                             | 27               | 17961           |</pre>"
      ],
      "text/plain": [
       "| 18m 33s                             | 27               | 17961           |"
      ]
     },
     "metadata": {},
     "output_type": "display_data"
    },
    {
     "data": {
      "text/html": [
       "<pre>| 18m 41s                             | 27.25            | 18075           |</pre>"
      ],
      "text/plain": [
       "| 18m 41s                             | 27.25            | 18075           |"
      ]
     },
     "metadata": {},
     "output_type": "display_data"
    },
    {
     "data": {
      "text/html": [
       "<pre>| 18m 44s                             | 27.25            | 18107           |</pre>"
      ],
      "text/plain": [
       "| 18m 44s                             | 27.25            | 18107           |"
      ]
     },
     "metadata": {},
     "output_type": "display_data"
    },
    {
     "data": {
      "text/html": [
       "<pre>| 18m 49s                             | 27.25            | 18117           |</pre>"
      ],
      "text/plain": [
       "| 18m 49s                             | 27.25            | 18117           |"
      ]
     },
     "metadata": {},
     "output_type": "display_data"
    },
    {
     "data": {
      "text/html": [
       "<pre>| 18m 54s                             | 27.25            | 18117           |</pre>"
      ],
      "text/plain": [
       "| 18m 54s                             | 27.25            | 18117           |"
      ]
     },
     "metadata": {},
     "output_type": "display_data"
    },
    {
     "data": {
      "text/html": [
       "<pre>| 18m 59s                             | 27.25            | 18119           |</pre>"
      ],
      "text/plain": [
       "| 18m 59s                             | 27.25            | 18119           |"
      ]
     },
     "metadata": {},
     "output_type": "display_data"
    },
    {
     "data": {
      "text/html": [
       "<pre>| 19m 1s                              | 27.5             | 18169           |</pre>"
      ],
      "text/plain": [
       "| 19m 1s                              | 27.5             | 18169           |"
      ]
     },
     "metadata": {},
     "output_type": "display_data"
    },
    {
     "data": {
      "text/html": [
       "<pre>| 19m 5s                              | 27.5             | 18183           |</pre>"
      ],
      "text/plain": [
       "| 19m 5s                              | 27.5             | 18183           |"
      ]
     },
     "metadata": {},
     "output_type": "display_data"
    },
    {
     "data": {
      "text/html": [
       "<pre>| 19m 15s                             | 27.5             | 18196           |</pre>"
      ],
      "text/plain": [
       "| 19m 15s                             | 27.5             | 18196           |"
      ]
     },
     "metadata": {},
     "output_type": "display_data"
    },
    {
     "data": {
      "text/html": [
       "<pre>| 19m 19s                             | 27.5             | 18196           |</pre>"
      ],
      "text/plain": [
       "| 19m 19s                             | 27.5             | 18196           |"
      ]
     },
     "metadata": {},
     "output_type": "display_data"
    },
    {
     "data": {
      "text/html": [
       "<pre>| 20m 7s                              | 27.75            | 18390           |</pre>"
      ],
      "text/plain": [
       "| 20m 7s                              | 27.75            | 18390           |"
      ]
     },
     "metadata": {},
     "output_type": "display_data"
    },
    {
     "data": {
      "text/html": [
       "<pre>| 20m 14s                             | 27.75            | 18395           |</pre>"
      ],
      "text/plain": [
       "| 20m 14s                             | 27.75            | 18395           |"
      ]
     },
     "metadata": {},
     "output_type": "display_data"
    },
    {
     "data": {
      "text/html": [
       "<pre>| 20m 20s                             | 27.75            | 18397           |</pre>"
      ],
      "text/plain": [
       "| 20m 20s                             | 27.75            | 18397           |"
      ]
     },
     "metadata": {},
     "output_type": "display_data"
    },
    {
     "data": {
      "text/html": [
       "<pre>| 20m 21s                             | 27.75            | 18431           |</pre>"
      ],
      "text/plain": [
       "| 20m 21s                             | 27.75            | 18431           |"
      ]
     },
     "metadata": {},
     "output_type": "display_data"
    },
    {
     "data": {
      "text/html": [
       "<pre>| 20m 24s                             | 27.75            | 18432           |</pre>"
      ],
      "text/plain": [
       "| 20m 24s                             | 27.75            | 18432           |"
      ]
     },
     "metadata": {},
     "output_type": "display_data"
    },
    {
     "data": {
      "text/html": [
       "<pre>| 20m 28s                             | 27.75            | 18449           |</pre>"
      ],
      "text/plain": [
       "| 20m 28s                             | 27.75            | 18449           |"
      ]
     },
     "metadata": {},
     "output_type": "display_data"
    },
    {
     "data": {
      "text/html": [
       "<pre>| 20m 30s                             | 27.75            | 18450           |</pre>"
      ],
      "text/plain": [
       "| 20m 30s                             | 27.75            | 18450           |"
      ]
     },
     "metadata": {},
     "output_type": "display_data"
    },
    {
     "data": {
      "text/html": [
       "<pre>| 20m 32s                             | 28               | 18483           |</pre>"
      ],
      "text/plain": [
       "| 20m 32s                             | 28               | 18483           |"
      ]
     },
     "metadata": {},
     "output_type": "display_data"
    },
    {
     "data": {
      "text/html": [
       "<pre>| 20m 36s                             | 28               | 18483           |</pre>"
      ],
      "text/plain": [
       "| 20m 36s                             | 28               | 18483           |"
      ]
     },
     "metadata": {},
     "output_type": "display_data"
    },
    {
     "data": {
      "text/html": [
       "<pre>| 20m 44s                             | 28               | 18542           |</pre>"
      ],
      "text/plain": [
       "| 20m 44s                             | 28               | 18542           |"
      ]
     },
     "metadata": {},
     "output_type": "display_data"
    },
    {
     "data": {
      "text/html": [
       "<pre>| 20m 48s                             | 28               | 18575           |</pre>"
      ],
      "text/plain": [
       "| 20m 48s                             | 28               | 18575           |"
      ]
     },
     "metadata": {},
     "output_type": "display_data"
    },
    {
     "data": {
      "text/html": [
       "<pre>| 20m 52s                             | 28               | 18586           |</pre>"
      ],
      "text/plain": [
       "| 20m 52s                             | 28               | 18586           |"
      ]
     },
     "metadata": {},
     "output_type": "display_data"
    },
    {
     "data": {
      "text/html": [
       "<pre>| 20m 57s                             | 28               | 18599           |</pre>"
      ],
      "text/plain": [
       "| 20m 57s                             | 28               | 18599           |"
      ]
     },
     "metadata": {},
     "output_type": "display_data"
    },
    {
     "data": {
      "text/html": [
       "<pre>| 21m 3s                              | 28               | 18601           |</pre>"
      ],
      "text/plain": [
       "| 21m 3s                              | 28               | 18601           |"
      ]
     },
     "metadata": {},
     "output_type": "display_data"
    },
    {
     "data": {
      "text/html": [
       "<pre>| 21m 37s                             | 28.25            | 18682           |</pre>"
      ],
      "text/plain": [
       "| 21m 37s                             | 28.25            | 18682           |"
      ]
     },
     "metadata": {},
     "output_type": "display_data"
    },
    {
     "data": {
      "text/html": [
       "<pre>| 21m 42s                             | 28.25            | 18685           |</pre>"
      ],
      "text/plain": [
       "| 21m 42s                             | 28.25            | 18685           |"
      ]
     },
     "metadata": {},
     "output_type": "display_data"
    },
    {
     "data": {
      "text/html": [
       "<pre>| 21m 46s                             | 28.25            | 18686           |</pre>"
      ],
      "text/plain": [
       "| 21m 46s                             | 28.25            | 18686           |"
      ]
     },
     "metadata": {},
     "output_type": "display_data"
    },
    {
     "data": {
      "text/html": [
       "<pre>| 21m 47s                             | 28.25            | 18695           |</pre>"
      ],
      "text/plain": [
       "| 21m 47s                             | 28.25            | 18695           |"
      ]
     },
     "metadata": {},
     "output_type": "display_data"
    },
    {
     "data": {
      "text/html": [
       "<pre>| 21m 50s                             | 28.25            | 18713           |</pre>"
      ],
      "text/plain": [
       "| 21m 50s                             | 28.25            | 18713           |"
      ]
     },
     "metadata": {},
     "output_type": "display_data"
    },
    {
     "data": {
      "text/html": [
       "<pre>| 21m 56s                             | 28.25            | 18719           |</pre>"
      ],
      "text/plain": [
       "| 21m 56s                             | 28.25            | 18719           |"
      ]
     },
     "metadata": {},
     "output_type": "display_data"
    },
    {
     "data": {
      "text/html": [
       "<pre>| 22m 0s                              | 28.25            | 18733           |</pre>"
      ],
      "text/plain": [
       "| 22m 0s                              | 28.25            | 18733           |"
      ]
     },
     "metadata": {},
     "output_type": "display_data"
    },
    {
     "data": {
      "text/html": [
       "<pre>| 22m 3s                              | 28.25            | 18735           |</pre>"
      ],
      "text/plain": [
       "| 22m 3s                              | 28.25            | 18735           |"
      ]
     },
     "metadata": {},
     "output_type": "display_data"
    },
    {
     "data": {
      "text/html": [
       "<pre>| 22m 7s                              | 28.25            | 18749           |</pre>"
      ],
      "text/plain": [
       "| 22m 7s                              | 28.25            | 18749           |"
      ]
     },
     "metadata": {},
     "output_type": "display_data"
    },
    {
     "data": {
      "text/html": [
       "<pre>| 22m 10s                             | 28.25            | 18756           |</pre>"
      ],
      "text/plain": [
       "| 22m 10s                             | 28.25            | 18756           |"
      ]
     },
     "metadata": {},
     "output_type": "display_data"
    },
    {
     "data": {
      "text/html": [
       "<pre>| 22m 12s                             | 28.25            | 18785           |</pre>"
      ],
      "text/plain": [
       "| 22m 12s                             | 28.25            | 18785           |"
      ]
     },
     "metadata": {},
     "output_type": "display_data"
    },
    {
     "data": {
      "text/html": [
       "<pre>| 22m 15s                             | 28.25            | 18785           |</pre>"
      ],
      "text/plain": [
       "| 22m 15s                             | 28.25            | 18785           |"
      ]
     },
     "metadata": {},
     "output_type": "display_data"
    },
    {
     "data": {
      "text/html": [
       "<pre>| 22m 19s                             | 28.5             | 18806           |</pre>"
      ],
      "text/plain": [
       "| 22m 19s                             | 28.5             | 18806           |"
      ]
     },
     "metadata": {},
     "output_type": "display_data"
    },
    {
     "data": {
      "text/html": [
       "<pre>| 22m 21s                             | 28.5             | 18831           |</pre>"
      ],
      "text/plain": [
       "| 22m 21s                             | 28.5             | 18831           |"
      ]
     },
     "metadata": {},
     "output_type": "display_data"
    },
    {
     "data": {
      "text/html": [
       "<pre>| 22m 53s                             | 28.5             | 18936           |</pre>"
      ],
      "text/plain": [
       "| 22m 53s                             | 28.5             | 18936           |"
      ]
     },
     "metadata": {},
     "output_type": "display_data"
    },
    {
     "data": {
      "text/html": [
       "<pre>| 22m 57s                             | 28.5             | 18956           |</pre>"
      ],
      "text/plain": [
       "| 22m 57s                             | 28.5             | 18956           |"
      ]
     },
     "metadata": {},
     "output_type": "display_data"
    },
    {
     "data": {
      "text/html": [
       "<pre>| 23m 2s                              | 28.5             | 18956           |</pre>"
      ],
      "text/plain": [
       "| 23m 2s                              | 28.5             | 18956           |"
      ]
     },
     "metadata": {},
     "output_type": "display_data"
    },
    {
     "data": {
      "text/html": [
       "<pre>| 23m 3s                              | 28.5             | 18956           |</pre>"
      ],
      "text/plain": [
       "| 23m 3s                              | 28.5             | 18956           |"
      ]
     },
     "metadata": {},
     "output_type": "display_data"
    },
    {
     "data": {
      "text/html": [
       "<pre>| 23m 5s                              | 28.75            | 19006           |</pre>"
      ],
      "text/plain": [
       "| 23m 5s                              | 28.75            | 19006           |"
      ]
     },
     "metadata": {},
     "output_type": "display_data"
    },
    {
     "data": {
      "text/html": [
       "<pre>| 23m 9s                              | 28.75            | 19030           |</pre>"
      ],
      "text/plain": [
       "| 23m 9s                              | 28.75            | 19030           |"
      ]
     },
     "metadata": {},
     "output_type": "display_data"
    },
    {
     "data": {
      "text/html": [
       "<pre>| 23m 12s                             | 28.75            | 19051           |</pre>"
      ],
      "text/plain": [
       "| 23m 12s                             | 28.75            | 19051           |"
      ]
     },
     "metadata": {},
     "output_type": "display_data"
    },
    {
     "data": {
      "text/html": [
       "<pre>| 23m 15s                             | 28.75            | 19091           |</pre>"
      ],
      "text/plain": [
       "| 23m 15s                             | 28.75            | 19091           |"
      ]
     },
     "metadata": {},
     "output_type": "display_data"
    },
    {
     "data": {
      "text/html": [
       "<pre>| 23m 17s                             | 28.75            | 19096           |</pre>"
      ],
      "text/plain": [
       "| 23m 17s                             | 28.75            | 19096           |"
      ]
     },
     "metadata": {},
     "output_type": "display_data"
    },
    {
     "data": {
      "text/html": [
       "<pre>| 23m 21s                             | 28.75            | 19115           |</pre>"
      ],
      "text/plain": [
       "| 23m 21s                             | 28.75            | 19115           |"
      ]
     },
     "metadata": {},
     "output_type": "display_data"
    },
    {
     "data": {
      "text/html": [
       "<pre>| 23m 23s                             | 29               | 19181           |</pre>"
      ],
      "text/plain": [
       "| 23m 23s                             | 29               | 19181           |"
      ]
     },
     "metadata": {},
     "output_type": "display_data"
    },
    {
     "data": {
      "text/html": [
       "<pre>| 23m 27s                             | 29               | 19186           |</pre>"
      ],
      "text/plain": [
       "| 23m 27s                             | 29               | 19186           |"
      ]
     },
     "metadata": {},
     "output_type": "display_data"
    },
    {
     "data": {
      "text/html": [
       "<pre>| 23m 30s                             | 29               | 19202           |</pre>"
      ],
      "text/plain": [
       "| 23m 30s                             | 29               | 19202           |"
      ]
     },
     "metadata": {},
     "output_type": "display_data"
    },
    {
     "data": {
      "text/html": [
       "<pre>| 30m 21s                             | 31.5             | 20903           |</pre>"
      ],
      "text/plain": [
       "| 30m 21s                             | 31.5             | 20903           |"
      ]
     },
     "metadata": {},
     "output_type": "display_data"
    },
    {
     "data": {
      "text/html": [
       "<pre>| 30m 25s                             | 31.5             | 20915           |</pre>"
      ],
      "text/plain": [
       "| 30m 25s                             | 31.5             | 20915           |"
      ]
     },
     "metadata": {},
     "output_type": "display_data"
    },
    {
     "data": {
      "text/html": [
       "<pre>| 30m 27s                             | 31.5             | 20925           |</pre>"
      ],
      "text/plain": [
       "| 30m 27s                             | 31.5             | 20925           |"
      ]
     },
     "metadata": {},
     "output_type": "display_data"
    },
    {
     "data": {
      "text/html": [
       "<pre>| 30m 30s                             | 31.75            | 20979           |</pre>"
      ],
      "text/plain": [
       "| 30m 30s                             | 31.75            | 20979           |"
      ]
     },
     "metadata": {},
     "output_type": "display_data"
    },
    {
     "data": {
      "text/html": [
       "<pre>| 30m 34s                             | 31.75            | 21014           |</pre>"
      ],
      "text/plain": [
       "| 30m 34s                             | 31.75            | 21014           |"
      ]
     },
     "metadata": {},
     "output_type": "display_data"
    },
    {
     "data": {
      "text/html": [
       "<pre>| 30m 37s                             | 31.75            | 21014           |</pre>"
      ],
      "text/plain": [
       "| 30m 37s                             | 31.75            | 21014           |"
      ]
     },
     "metadata": {},
     "output_type": "display_data"
    },
    {
     "data": {
      "text/html": [
       "<pre>| 30m 39s                             | 31.75            | 21042           |</pre>"
      ],
      "text/plain": [
       "| 30m 39s                             | 31.75            | 21042           |"
      ]
     },
     "metadata": {},
     "output_type": "display_data"
    },
    {
     "data": {
      "text/html": [
       "<pre>| 30m 42s                             | 31.75            | 21066           |</pre>"
      ],
      "text/plain": [
       "| 30m 42s                             | 31.75            | 21066           |"
      ]
     },
     "metadata": {},
     "output_type": "display_data"
    },
    {
     "data": {
      "text/html": [
       "<pre>| 30m 45s                             | 31.75            | 21074           |</pre>"
      ],
      "text/plain": [
       "| 30m 45s                             | 31.75            | 21074           |"
      ]
     },
     "metadata": {},
     "output_type": "display_data"
    },
    {
     "data": {
      "text/html": [
       "<pre>| 30m 49s                             | 31.75            | 21077           |</pre>"
      ],
      "text/plain": [
       "| 30m 49s                             | 31.75            | 21077           |"
      ]
     },
     "metadata": {},
     "output_type": "display_data"
    },
    {
     "data": {
      "text/html": [
       "<pre>| 30m 51s                             | 31.75            | 21080           |</pre>"
      ],
      "text/plain": [
       "| 30m 51s                             | 31.75            | 21080           |"
      ]
     },
     "metadata": {},
     "output_type": "display_data"
    },
    {
     "data": {
      "text/html": [
       "<pre>| 30m 54s                             | 31.75            | 21098           |</pre>"
      ],
      "text/plain": [
       "| 30m 54s                             | 31.75            | 21098           |"
      ]
     },
     "metadata": {},
     "output_type": "display_data"
    },
    {
     "data": {
      "text/html": [
       "<pre>| 30m 58s                             | 32               | 21113           |</pre>"
      ],
      "text/plain": [
       "| 30m 58s                             | 32               | 21113           |"
      ]
     },
     "metadata": {},
     "output_type": "display_data"
    },
    {
     "data": {
      "text/html": [
       "<pre>| 31m 0s                              | 32               | 21116           |</pre>"
      ],
      "text/plain": [
       "| 31m 0s                              | 32               | 21116           |"
      ]
     },
     "metadata": {},
     "output_type": "display_data"
    },
    {
     "data": {
      "text/html": [
       "<pre>| 31m 6s                              | 32               | 21120           |</pre>"
      ],
      "text/plain": [
       "| 31m 6s                              | 32               | 21120           |"
      ]
     },
     "metadata": {},
     "output_type": "display_data"
    },
    {
     "data": {
      "text/html": [
       "<pre>| 31m 10s                             | 32               | 21139           |</pre>"
      ],
      "text/plain": [
       "| 31m 10s                             | 32               | 21139           |"
      ]
     },
     "metadata": {},
     "output_type": "display_data"
    },
    {
     "data": {
      "text/html": [
       "<pre>| 31m 12s                             | 32               | 21139           |</pre>"
      ],
      "text/plain": [
       "| 31m 12s                             | 32               | 21139           |"
      ]
     },
     "metadata": {},
     "output_type": "display_data"
    },
    {
     "data": {
      "text/html": [
       "<pre>| 31m 15s                             | 32               | 21158           |</pre>"
      ],
      "text/plain": [
       "| 31m 15s                             | 32               | 21158           |"
      ]
     },
     "metadata": {},
     "output_type": "display_data"
    },
    {
     "data": {
      "text/html": [
       "<pre>| 31m 19s                             | 32               | 21168           |</pre>"
      ],
      "text/plain": [
       "| 31m 19s                             | 32               | 21168           |"
      ]
     },
     "metadata": {},
     "output_type": "display_data"
    },
    {
     "data": {
      "text/html": [
       "<pre>| 31m 21s                             | 32               | 21210           |</pre>"
      ],
      "text/plain": [
       "| 31m 21s                             | 32               | 21210           |"
      ]
     },
     "metadata": {},
     "output_type": "display_data"
    },
    {
     "data": {
      "text/html": [
       "<pre>| 31m 24s                             | 32               | 21223           |</pre>"
      ],
      "text/plain": [
       "| 31m 24s                             | 32               | 21223           |"
      ]
     },
     "metadata": {},
     "output_type": "display_data"
    },
    {
     "data": {
      "text/html": [
       "<pre>| 31m 28s                             | 32               | 21236           |</pre>"
      ],
      "text/plain": [
       "| 31m 28s                             | 32               | 21236           |"
      ]
     },
     "metadata": {},
     "output_type": "display_data"
    },
    {
     "data": {
      "text/html": [
       "<pre>| 31m 31s                             | 32.25            | 21314           |</pre>"
      ],
      "text/plain": [
       "| 31m 31s                             | 32.25            | 21314           |"
      ]
     },
     "metadata": {},
     "output_type": "display_data"
    },
    {
     "data": {
      "text/html": [
       "<pre>| 31m 33s                             | 32.25            | 21335           |</pre>"
      ],
      "text/plain": [
       "| 31m 33s                             | 32.25            | 21335           |"
      ]
     },
     "metadata": {},
     "output_type": "display_data"
    },
    {
     "data": {
      "text/html": [
       "<pre>| 31m 36s                             | 32.25            | 21367           |</pre>"
      ],
      "text/plain": [
       "| 31m 36s                             | 32.25            | 21367           |"
      ]
     },
     "metadata": {},
     "output_type": "display_data"
    },
    {
     "data": {
      "text/html": [
       "<pre>| 31m 39s                             | 32.25            | 21421           |</pre>"
      ],
      "text/plain": [
       "| 31m 39s                             | 32.25            | 21421           |"
      ]
     },
     "metadata": {},
     "output_type": "display_data"
    },
    {
     "data": {
      "text/html": [
       "<pre>| 31m 43s                             | 32.5             | 21450           |</pre>"
      ],
      "text/plain": [
       "| 31m 43s                             | 32.5             | 21450           |"
      ]
     },
     "metadata": {},
     "output_type": "display_data"
    },
    {
     "data": {
      "text/html": [
       "<pre>| 31m 45s                             | 32.5             | 21489           |</pre>"
      ],
      "text/plain": [
       "| 31m 45s                             | 32.5             | 21489           |"
      ]
     },
     "metadata": {},
     "output_type": "display_data"
    },
    {
     "data": {
      "text/html": [
       "<pre>| 31m 48s                             | 32.5             | 21540           |</pre>"
      ],
      "text/plain": [
       "| 31m 48s                             | 32.5             | 21540           |"
      ]
     },
     "metadata": {},
     "output_type": "display_data"
    },
    {
     "data": {
      "text/html": [
       "<pre>| 31m 51s                             | 32.5             | 21548           |</pre>"
      ],
      "text/plain": [
       "| 31m 51s                             | 32.5             | 21548           |"
      ]
     },
     "metadata": {},
     "output_type": "display_data"
    },
    {
     "data": {
      "text/html": [
       "<pre>| 31m 54s                             | 32.5             | 21552           |</pre>"
      ],
      "text/plain": [
       "| 31m 54s                             | 32.5             | 21552           |"
      ]
     },
     "metadata": {},
     "output_type": "display_data"
    },
    {
     "data": {
      "text/html": [
       "<pre>| 31m 57s                             | 32.5             | 21583           |</pre>"
      ],
      "text/plain": [
       "| 31m 57s                             | 32.5             | 21583           |"
      ]
     },
     "metadata": {},
     "output_type": "display_data"
    },
    {
     "data": {
      "text/html": [
       "<pre>| 32m 1s                              | 32.75            | 21609           |</pre>"
      ],
      "text/plain": [
       "| 32m 1s                              | 32.75            | 21609           |"
      ]
     },
     "metadata": {},
     "output_type": "display_data"
    },
    {
     "data": {
      "text/html": [
       "<pre>| 32m 3s                              | 32.75            | 21612           |</pre>"
      ],
      "text/plain": [
       "| 32m 3s                              | 32.75            | 21612           |"
      ]
     },
     "metadata": {},
     "output_type": "display_data"
    },
    {
     "data": {
      "text/html": [
       "<pre>| 32m 6s                              | 32.75            | 21645           |</pre>"
      ],
      "text/plain": [
       "| 32m 6s                              | 32.75            | 21645           |"
      ]
     },
     "metadata": {},
     "output_type": "display_data"
    },
    {
     "data": {
      "text/html": [
       "<pre>| 32m 9s                              | 32.75            | 21667           |</pre>"
      ],
      "text/plain": [
       "| 32m 9s                              | 32.75            | 21667           |"
      ]
     },
     "metadata": {},
     "output_type": "display_data"
    },
    {
     "data": {
      "text/html": [
       "<pre>| 32m 12s                             | 32.75            | 21694           |</pre>"
      ],
      "text/plain": [
       "| 32m 12s                             | 32.75            | 21694           |"
      ]
     },
     "metadata": {},
     "output_type": "display_data"
    },
    {
     "data": {
      "text/html": [
       "<pre>| 32m 15s                             | 32.75            | 21702           |</pre>"
      ],
      "text/plain": [
       "| 32m 15s                             | 32.75            | 21702           |"
      ]
     },
     "metadata": {},
     "output_type": "display_data"
    },
    {
     "data": {
      "text/html": [
       "<pre>| 32m 19s                             | 32.75            | 21725           |</pre>"
      ],
      "text/plain": [
       "| 32m 19s                             | 32.75            | 21725           |"
      ]
     },
     "metadata": {},
     "output_type": "display_data"
    },
    {
     "data": {
      "text/html": [
       "<pre>| 32m 21s                             | 32.75            | 21737           |</pre>"
      ],
      "text/plain": [
       "| 32m 21s                             | 32.75            | 21737           |"
      ]
     },
     "metadata": {},
     "output_type": "display_data"
    },
    {
     "data": {
      "text/html": [
       "<pre>| 32m 24s                             | 32.75            | 21759           |</pre>"
      ],
      "text/plain": [
       "| 32m 24s                             | 32.75            | 21759           |"
      ]
     },
     "metadata": {},
     "output_type": "display_data"
    },
    {
     "data": {
      "text/html": [
       "<pre>| 32m 27s                             | 33               | 21775           |</pre>"
      ],
      "text/plain": [
       "| 32m 27s                             | 33               | 21775           |"
      ]
     },
     "metadata": {},
     "output_type": "display_data"
    },
    {
     "data": {
      "text/html": [
       "<pre>| 32m 30s                             | 33               | 21799           |</pre>"
      ],
      "text/plain": [
       "| 32m 30s                             | 33               | 21799           |"
      ]
     },
     "metadata": {},
     "output_type": "display_data"
    },
    {
     "data": {
      "text/html": [
       "<pre>| 32m 33s                             | 33               | 21832           |</pre>"
      ],
      "text/plain": [
       "| 32m 33s                             | 33               | 21832           |"
      ]
     },
     "metadata": {},
     "output_type": "display_data"
    },
    {
     "data": {
      "text/html": [
       "<pre>| 32m 36s                             | 33               | 21859           |</pre>"
      ],
      "text/plain": [
       "| 32m 36s                             | 33               | 21859           |"
      ]
     },
     "metadata": {},
     "output_type": "display_data"
    },
    {
     "data": {
      "text/html": [
       "<pre>| 32m 39s                             | 33               | 21884           |</pre>"
      ],
      "text/plain": [
       "| 32m 39s                             | 33               | 21884           |"
      ]
     },
     "metadata": {},
     "output_type": "display_data"
    },
    {
     "data": {
      "text/html": [
       "<pre>| 32m 42s                             | 33               | 21898           |</pre>"
      ],
      "text/plain": [
       "| 32m 42s                             | 33               | 21898           |"
      ]
     },
     "metadata": {},
     "output_type": "display_data"
    },
    {
     "data": {
      "text/html": [
       "<pre>| 32m 45s                             | 33               | 21901           |</pre>"
      ],
      "text/plain": [
       "| 32m 45s                             | 33               | 21901           |"
      ]
     },
     "metadata": {},
     "output_type": "display_data"
    },
    {
     "data": {
      "text/html": [
       "<pre>| 32m 48s                             | 33               | 21911           |</pre>"
      ],
      "text/plain": [
       "| 32m 48s                             | 33               | 21911           |"
      ]
     },
     "metadata": {},
     "output_type": "display_data"
    },
    {
     "data": {
      "text/html": [
       "<pre>| 32m 51s                             | 33               | 21919           |</pre>"
      ],
      "text/plain": [
       "| 32m 51s                             | 33               | 21919           |"
      ]
     },
     "metadata": {},
     "output_type": "display_data"
    },
    {
     "data": {
      "text/html": [
       "<pre>| 32m 54s                             | 33               | 21932           |</pre>"
      ],
      "text/plain": [
       "| 32m 54s                             | 33               | 21932           |"
      ]
     },
     "metadata": {},
     "output_type": "display_data"
    },
    {
     "data": {
      "text/html": [
       "<pre>| 32m 57s                             | 33.25            | 21935           |</pre>"
      ],
      "text/plain": [
       "| 32m 57s                             | 33.25            | 21935           |"
      ]
     },
     "metadata": {},
     "output_type": "display_data"
    },
    {
     "data": {
      "text/html": [
       "<pre>| 33m 0s                              | 33.25            | 21939           |</pre>"
      ],
      "text/plain": [
       "| 33m 0s                              | 33.25            | 21939           |"
      ]
     },
     "metadata": {},
     "output_type": "display_data"
    },
    {
     "data": {
      "text/html": [
       "<pre>| 33m 3s                              | 33.25            | 21952           |</pre>"
      ],
      "text/plain": [
       "| 33m 3s                              | 33.25            | 21952           |"
      ]
     },
     "metadata": {},
     "output_type": "display_data"
    },
    {
     "data": {
      "text/html": [
       "<pre>| 33m 8s                              | 33.25            | 21956           |</pre>"
      ],
      "text/plain": [
       "| 33m 8s                              | 33.25            | 21956           |"
      ]
     },
     "metadata": {},
     "output_type": "display_data"
    },
    {
     "data": {
      "text/html": [
       "<pre>| 33m 9s                              | 33.25            | 21959           |</pre>"
      ],
      "text/plain": [
       "| 33m 9s                              | 33.25            | 21959           |"
      ]
     },
     "metadata": {},
     "output_type": "display_data"
    },
    {
     "data": {
      "text/html": [
       "<pre>| 33m 12s                             | 33.25            | 21968           |</pre>"
      ],
      "text/plain": [
       "| 33m 12s                             | 33.25            | 21968           |"
      ]
     },
     "metadata": {},
     "output_type": "display_data"
    },
    {
     "data": {
      "text/html": [
       "<pre>| 33m 15s                             | 33.25            | 21971           |</pre>"
      ],
      "text/plain": [
       "| 33m 15s                             | 33.25            | 21971           |"
      ]
     },
     "metadata": {},
     "output_type": "display_data"
    },
    {
     "data": {
      "text/html": [
       "<pre>| 33m 19s                             | 33.25            | 21974           |</pre>"
      ],
      "text/plain": [
       "| 33m 19s                             | 33.25            | 21974           |"
      ]
     },
     "metadata": {},
     "output_type": "display_data"
    },
    {
     "data": {
      "text/html": [
       "<pre>| 33m 21s                             | 33.25            | 21976           |</pre>"
      ],
      "text/plain": [
       "| 33m 21s                             | 33.25            | 21976           |"
      ]
     },
     "metadata": {},
     "output_type": "display_data"
    },
    {
     "data": {
      "text/html": [
       "<pre>| 33m 24s                             | 33.25            | 21986           |</pre>"
      ],
      "text/plain": [
       "| 33m 24s                             | 33.25            | 21986           |"
      ]
     },
     "metadata": {},
     "output_type": "display_data"
    },
    {
     "data": {
      "text/html": [
       "<pre>| 1h 49m                              | 33.25            | 22049           |</pre>"
      ],
      "text/plain": [
       "| 1h 49m                              | 33.25            | 22049           |"
      ]
     },
     "metadata": {},
     "output_type": "display_data"
    },
    {
     "data": {
      "text/html": [
       "<pre>| 1h 49m                              | 33.5             | 22125           |</pre>"
      ],
      "text/plain": [
       "| 1h 49m                              | 33.5             | 22125           |"
      ]
     },
     "metadata": {},
     "output_type": "display_data"
    },
    {
     "data": {
      "text/html": [
       "<pre>| 1h 49m                              | 33.75            | 22300           |</pre>"
      ],
      "text/plain": [
       "| 1h 49m                              | 33.75            | 22300           |"
      ]
     },
     "metadata": {},
     "output_type": "display_data"
    },
    {
     "data": {
      "text/html": [
       "<pre>| 1h 49m                              | 39.5             | 26096           |</pre>"
      ],
      "text/plain": [
       "| 1h 49m                              | 39.5             | 26096           |"
      ]
     },
     "metadata": {},
     "output_type": "display_data"
    },
    {
     "data": {
      "text/html": [
       "<pre>| 1h 49m                              | 42               | 27712           |</pre>"
      ],
      "text/plain": [
       "| 1h 49m                              | 42               | 27712           |"
      ]
     },
     "metadata": {},
     "output_type": "display_data"
    },
    {
     "data": {
      "text/html": [
       "<pre>| 1h 49m                              | 42               | 27739           |</pre>"
      ],
      "text/plain": [
       "| 1h 49m                              | 42               | 27739           |"
      ]
     },
     "metadata": {},
     "output_type": "display_data"
    },
    {
     "data": {
      "text/html": [
       "<pre>| 1h 49m                              | 42               | 27742           |</pre>"
      ],
      "text/plain": [
       "| 1h 49m                              | 42               | 27742           |"
      ]
     },
     "metadata": {},
     "output_type": "display_data"
    },
    {
     "data": {
      "text/html": [
       "<pre>| 1h 49m                              | 45               | 29797           |</pre>"
      ],
      "text/plain": [
       "| 1h 49m                              | 45               | 29797           |"
      ]
     },
     "metadata": {},
     "output_type": "display_data"
    },
    {
     "data": {
      "text/html": [
       "<pre>| 1h 49m                              | 48.75            | 32317           |</pre>"
      ],
      "text/plain": [
       "| 1h 49m                              | 48.75            | 32317           |"
      ]
     },
     "metadata": {},
     "output_type": "display_data"
    },
    {
     "data": {
      "text/html": [
       "<pre>| 1h 49m                              | 52.75            | 34887           |</pre>"
      ],
      "text/plain": [
       "| 1h 49m                              | 52.75            | 34887           |"
      ]
     },
     "metadata": {},
     "output_type": "display_data"
    },
    {
     "data": {
      "text/html": [
       "<pre>| 1h 49m                              | 53.5             | 35402           |</pre>"
      ],
      "text/plain": [
       "| 1h 49m                              | 53.5             | 35402           |"
      ]
     },
     "metadata": {},
     "output_type": "display_data"
    },
    {
     "data": {
      "text/html": [
       "<pre>| 1h 49m                              | 53.5             | 35402           |</pre>"
      ],
      "text/plain": [
       "| 1h 49m                              | 53.5             | 35402           |"
      ]
     },
     "metadata": {},
     "output_type": "display_data"
    },
    {
     "data": {
      "text/html": [
       "<pre>| 1h 50m                              | 53.75            | 35614           |</pre>"
      ],
      "text/plain": [
       "| 1h 50m                              | 53.75            | 35614           |"
      ]
     },
     "metadata": {},
     "output_type": "display_data"
    },
    {
     "data": {
      "text/html": [
       "<pre>| 1h 50m                              | 54               | 35662           |</pre>"
      ],
      "text/plain": [
       "| 1h 50m                              | 54               | 35662           |"
      ]
     },
     "metadata": {},
     "output_type": "display_data"
    },
    {
     "data": {
      "text/html": [
       "<pre>| 1h 50m                              | 54               | 35759           |</pre>"
      ],
      "text/plain": [
       "| 1h 50m                              | 54               | 35759           |"
      ]
     },
     "metadata": {},
     "output_type": "display_data"
    },
    {
     "data": {
      "text/html": [
       "<pre>| 1h 50m                              | 54.25            | 35907           |</pre>"
      ],
      "text/plain": [
       "| 1h 50m                              | 54.25            | 35907           |"
      ]
     },
     "metadata": {},
     "output_type": "display_data"
    },
    {
     "data": {
      "text/html": [
       "<pre>| 1h 50m                              | 54.5             | 35999           |</pre>"
      ],
      "text/plain": [
       "| 1h 50m                              | 54.5             | 35999           |"
      ]
     },
     "metadata": {},
     "output_type": "display_data"
    },
    {
     "data": {
      "text/html": [
       "<pre>| 1h 50m                              | 54.75            | 36165           |</pre>"
      ],
      "text/plain": [
       "| 1h 50m                              | 54.75            | 36165           |"
      ]
     },
     "metadata": {},
     "output_type": "display_data"
    },
    {
     "data": {
      "text/html": [
       "<pre>| 1h 50m                              | 54.75            | 36261           |</pre>"
      ],
      "text/plain": [
       "| 1h 50m                              | 54.75            | 36261           |"
      ]
     },
     "metadata": {},
     "output_type": "display_data"
    },
    {
     "data": {
      "text/html": [
       "<pre>| 1h 50m                              | 55.5             | 36630           |</pre>"
      ],
      "text/plain": [
       "| 1h 50m                              | 55.5             | 36630           |"
      ]
     },
     "metadata": {},
     "output_type": "display_data"
    },
    {
     "data": {
      "text/html": [
       "<pre>| 1h 50m                              | 55.5             | 36636           |</pre>"
      ],
      "text/plain": [
       "| 1h 50m                              | 55.5             | 36636           |"
      ]
     },
     "metadata": {},
     "output_type": "display_data"
    },
    {
     "data": {
      "text/html": [
       "<pre>| 1h 50m                              | 55.5             | 36717           |</pre>"
      ],
      "text/plain": [
       "| 1h 50m                              | 55.5             | 36717           |"
      ]
     },
     "metadata": {},
     "output_type": "display_data"
    },
    {
     "data": {
      "text/html": [
       "<pre>| 1h 50m                              | 55.5             | 36745           |</pre>"
      ],
      "text/plain": [
       "| 1h 50m                              | 55.5             | 36745           |"
      ]
     },
     "metadata": {},
     "output_type": "display_data"
    },
    {
     "data": {
      "text/html": [
       "<pre>| 1h 50m                              | 55.75            | 36801           |</pre>"
      ],
      "text/plain": [
       "| 1h 50m                              | 55.75            | 36801           |"
      ]
     },
     "metadata": {},
     "output_type": "display_data"
    },
    {
     "data": {
      "text/html": [
       "<pre>| 1h 51m                              | 55.75            | 36833           |</pre>"
      ],
      "text/plain": [
       "| 1h 51m                              | 55.75            | 36833           |"
      ]
     },
     "metadata": {},
     "output_type": "display_data"
    },
    {
     "data": {
      "text/html": [
       "<pre>| 1h 51m                              | 55.75            | 36843           |</pre>"
      ],
      "text/plain": [
       "| 1h 51m                              | 55.75            | 36843           |"
      ]
     },
     "metadata": {},
     "output_type": "display_data"
    },
    {
     "data": {
      "text/html": [
       "<pre>| 1h 51m                              | 55.75            | 36912           |</pre>"
      ],
      "text/plain": [
       "| 1h 51m                              | 55.75            | 36912           |"
      ]
     },
     "metadata": {},
     "output_type": "display_data"
    },
    {
     "data": {
      "text/html": [
       "<pre>| 1h 51m                              | 55.75            | 36914           |</pre>"
      ],
      "text/plain": [
       "| 1h 51m                              | 55.75            | 36914           |"
      ]
     },
     "metadata": {},
     "output_type": "display_data"
    },
    {
     "data": {
      "text/html": [
       "<pre>| 1h 51m                              | 56               | 36951           |</pre>"
      ],
      "text/plain": [
       "| 1h 51m                              | 56               | 36951           |"
      ]
     },
     "metadata": {},
     "output_type": "display_data"
    },
    {
     "data": {
      "text/html": [
       "<pre>| 1h 51m                              | 56               | 37068           |</pre>"
      ],
      "text/plain": [
       "| 1h 51m                              | 56               | 37068           |"
      ]
     },
     "metadata": {},
     "output_type": "display_data"
    },
    {
     "data": {
      "text/html": [
       "<pre>| 1h 51m                              | 56.25            | 37109           |</pre>"
      ],
      "text/plain": [
       "| 1h 51m                              | 56.25            | 37109           |"
      ]
     },
     "metadata": {},
     "output_type": "display_data"
    },
    {
     "data": {
      "text/html": [
       "<pre>| 1h 51m                              | 56.5             | 37311           |</pre>"
      ],
      "text/plain": [
       "| 1h 51m                              | 56.5             | 37311           |"
      ]
     },
     "metadata": {},
     "output_type": "display_data"
    },
    {
     "data": {
      "text/html": [
       "<pre>| 1h 51m                              | 56.5             | 37372           |</pre>"
      ],
      "text/plain": [
       "| 1h 51m                              | 56.5             | 37372           |"
      ]
     },
     "metadata": {},
     "output_type": "display_data"
    },
    {
     "data": {
      "text/html": [
       "<pre>| 1h 51m                              | 56.5             | 37409           |</pre>"
      ],
      "text/plain": [
       "| 1h 51m                              | 56.5             | 37409           |"
      ]
     },
     "metadata": {},
     "output_type": "display_data"
    },
    {
     "data": {
      "text/html": [
       "<pre>| 1h 51m                              | 56.5             | 37424           |</pre>"
      ],
      "text/plain": [
       "| 1h 51m                              | 56.5             | 37424           |"
      ]
     },
     "metadata": {},
     "output_type": "display_data"
    },
    {
     "data": {
      "text/html": [
       "<pre>| 1h 51m                              | 56.5             | 37425           |</pre>"
      ],
      "text/plain": [
       "| 1h 51m                              | 56.5             | 37425           |"
      ]
     },
     "metadata": {},
     "output_type": "display_data"
    },
    {
     "data": {
      "text/html": [
       "<pre>| 1h 52m                              | 56.5             | 37434           |</pre>"
      ],
      "text/plain": [
       "| 1h 52m                              | 56.5             | 37434           |"
      ]
     },
     "metadata": {},
     "output_type": "display_data"
    },
    {
     "data": {
      "text/html": [
       "<pre>| 1h 52m                              | 56.75            | 37510           |</pre>"
      ],
      "text/plain": [
       "| 1h 52m                              | 56.75            | 37510           |"
      ]
     },
     "metadata": {},
     "output_type": "display_data"
    },
    {
     "data": {
      "text/html": [
       "<pre>| 1h 52m                              | 56.75            | 37557           |</pre>"
      ],
      "text/plain": [
       "| 1h 52m                              | 56.75            | 37557           |"
      ]
     },
     "metadata": {},
     "output_type": "display_data"
    },
    {
     "data": {
      "text/html": [
       "<pre>| 1h 52m                              | 57               | 37624           |</pre>"
      ],
      "text/plain": [
       "| 1h 52m                              | 57               | 37624           |"
      ]
     },
     "metadata": {},
     "output_type": "display_data"
    },
    {
     "data": {
      "text/html": [
       "<pre>| 1h 52m                              | 57               | 37627           |</pre>"
      ],
      "text/plain": [
       "| 1h 52m                              | 57               | 37627           |"
      ]
     },
     "metadata": {},
     "output_type": "display_data"
    },
    {
     "data": {
      "text/html": [
       "<pre>| 1h 52m                              | 57               | 37687           |</pre>"
      ],
      "text/plain": [
       "| 1h 52m                              | 57               | 37687           |"
      ]
     },
     "metadata": {},
     "output_type": "display_data"
    },
    {
     "data": {
      "text/html": [
       "<pre>| 1h 52m                              | 57               | 37691           |</pre>"
      ],
      "text/plain": [
       "| 1h 52m                              | 57               | 37691           |"
      ]
     },
     "metadata": {},
     "output_type": "display_data"
    },
    {
     "data": {
      "text/html": [
       "<pre>| 1h 52m                              | 57.25            | 37810           |</pre>"
      ],
      "text/plain": [
       "| 1h 52m                              | 57.25            | 37810           |"
      ]
     },
     "metadata": {},
     "output_type": "display_data"
    },
    {
     "data": {
      "text/html": [
       "<pre>| 1h 52m                              | 57.25            | 37839           |</pre>"
      ],
      "text/plain": [
       "| 1h 52m                              | 57.25            | 37839           |"
      ]
     },
     "metadata": {},
     "output_type": "display_data"
    },
    {
     "data": {
      "text/html": [
       "<pre>| 1h 52m                              | 57.5             | 38053           |</pre>"
      ],
      "text/plain": [
       "| 1h 52m                              | 57.5             | 38053           |"
      ]
     },
     "metadata": {},
     "output_type": "display_data"
    },
    {
     "data": {
      "text/html": [
       "<pre>| 1h 52m                              | 57.75            | 38161           |</pre>"
      ],
      "text/plain": [
       "| 1h 52m                              | 57.75            | 38161           |"
      ]
     },
     "metadata": {},
     "output_type": "display_data"
    },
    {
     "data": {
      "text/html": [
       "<pre>| 1h 52m                              | 58.25            | 38440           |</pre>"
      ],
      "text/plain": [
       "| 1h 52m                              | 58.25            | 38440           |"
      ]
     },
     "metadata": {},
     "output_type": "display_data"
    },
    {
     "data": {
      "text/html": [
       "<pre>| 1h 52m                              | 58.5             | 38643           |</pre>"
      ],
      "text/plain": [
       "| 1h 52m                              | 58.5             | 38643           |"
      ]
     },
     "metadata": {},
     "output_type": "display_data"
    },
    {
     "data": {
      "text/html": [
       "<pre>| 1h 52m                              | 58.5             | 38711           |</pre>"
      ],
      "text/plain": [
       "| 1h 52m                              | 58.5             | 38711           |"
      ]
     },
     "metadata": {},
     "output_type": "display_data"
    },
    {
     "data": {
      "text/html": [
       "<pre>| 1h 53m                              | 58.75            | 38908           |</pre>"
      ],
      "text/plain": [
       "| 1h 53m                              | 58.75            | 38908           |"
      ]
     },
     "metadata": {},
     "output_type": "display_data"
    },
    {
     "data": {
      "text/html": [
       "<pre>| 1h 53m                              | 59               | 38930           |</pre>"
      ],
      "text/plain": [
       "| 1h 53m                              | 59               | 38930           |"
      ]
     },
     "metadata": {},
     "output_type": "display_data"
    },
    {
     "data": {
      "text/html": [
       "<pre>| 1h 53m                              | 59               | 38948           |</pre>"
      ],
      "text/plain": [
       "| 1h 53m                              | 59               | 38948           |"
      ]
     },
     "metadata": {},
     "output_type": "display_data"
    },
    {
     "data": {
      "text/html": [
       "<pre>| 1h 53m                              | 59               | 38948           |</pre>"
      ],
      "text/plain": [
       "| 1h 53m                              | 59               | 38948           |"
      ]
     },
     "metadata": {},
     "output_type": "display_data"
    },
    {
     "data": {
      "text/html": [
       "<pre>| 1h 53m                              | 59               | 38948           |</pre>"
      ],
      "text/plain": [
       "| 1h 53m                              | 59               | 38948           |"
      ]
     },
     "metadata": {},
     "output_type": "display_data"
    },
    {
     "data": {
      "text/html": [
       "<pre>| 1h 53m                              | 59               | 38949           |</pre>"
      ],
      "text/plain": [
       "| 1h 53m                              | 59               | 38949           |"
      ]
     },
     "metadata": {},
     "output_type": "display_data"
    },
    {
     "data": {
      "text/html": [
       "<pre>| 1h 53m                              | 59               | 38984           |</pre>"
      ],
      "text/plain": [
       "| 1h 53m                              | 59               | 38984           |"
      ]
     },
     "metadata": {},
     "output_type": "display_data"
    },
    {
     "data": {
      "text/html": [
       "<pre>| 1h 53m                              | 59               | 39006           |</pre>"
      ],
      "text/plain": [
       "| 1h 53m                              | 59               | 39006           |"
      ]
     },
     "metadata": {},
     "output_type": "display_data"
    },
    {
     "data": {
      "text/html": [
       "<pre>| 1h 53m                              | 59               | 39008           |</pre>"
      ],
      "text/plain": [
       "| 1h 53m                              | 59               | 39008           |"
      ]
     },
     "metadata": {},
     "output_type": "display_data"
    },
    {
     "data": {
      "text/html": [
       "<pre>| 1h 53m                              | 59               | 39082           |</pre>"
      ],
      "text/plain": [
       "| 1h 53m                              | 59               | 39082           |"
      ]
     },
     "metadata": {},
     "output_type": "display_data"
    },
    {
     "data": {
      "text/html": [
       "<pre>| 1h 53m                              | 59.25            | 39088           |</pre>"
      ],
      "text/plain": [
       "| 1h 53m                              | 59.25            | 39088           |"
      ]
     },
     "metadata": {},
     "output_type": "display_data"
    },
    {
     "data": {
      "text/html": [
       "<pre>| 1h 53m                              | 59.25            | 39106           |</pre>"
      ],
      "text/plain": [
       "| 1h 53m                              | 59.25            | 39106           |"
      ]
     },
     "metadata": {},
     "output_type": "display_data"
    },
    {
     "data": {
      "text/html": [
       "<pre>| 1h 53m                              | 59.25            | 39106           |</pre>"
      ],
      "text/plain": [
       "| 1h 53m                              | 59.25            | 39106           |"
      ]
     },
     "metadata": {},
     "output_type": "display_data"
    },
    {
     "data": {
      "text/html": [
       "<pre>| 1h 53m                              | 59.25            | 39228           |</pre>"
      ],
      "text/plain": [
       "| 1h 53m                              | 59.25            | 39228           |"
      ]
     },
     "metadata": {},
     "output_type": "display_data"
    },
    {
     "data": {
      "text/html": [
       "<pre>| 1h 54m                              | 59.5             | 39296           |</pre>"
      ],
      "text/plain": [
       "| 1h 54m                              | 59.5             | 39296           |"
      ]
     },
     "metadata": {},
     "output_type": "display_data"
    },
    {
     "data": {
      "text/html": [
       "<pre>| 1h 54m                              | 59.5             | 39349           |</pre>"
      ],
      "text/plain": [
       "| 1h 54m                              | 59.5             | 39349           |"
      ]
     },
     "metadata": {},
     "output_type": "display_data"
    },
    {
     "data": {
      "text/html": [
       "<pre>| 1h 54m                              | 59.5             | 39370           |</pre>"
      ],
      "text/plain": [
       "| 1h 54m                              | 59.5             | 39370           |"
      ]
     },
     "metadata": {},
     "output_type": "display_data"
    },
    {
     "data": {
      "text/html": [
       "<pre>| 1h 54m                              | 59.5             | 39389           |</pre>"
      ],
      "text/plain": [
       "| 1h 54m                              | 59.5             | 39389           |"
      ]
     },
     "metadata": {},
     "output_type": "display_data"
    },
    {
     "data": {
      "text/html": [
       "<pre>| 1h 54m                              | 59.5             | 39391           |</pre>"
      ],
      "text/plain": [
       "| 1h 54m                              | 59.5             | 39391           |"
      ]
     },
     "metadata": {},
     "output_type": "display_data"
    },
    {
     "data": {
      "text/html": [
       "<pre>| 1h 54m                              | 59.5             | 39399           |</pre>"
      ],
      "text/plain": [
       "| 1h 54m                              | 59.5             | 39399           |"
      ]
     },
     "metadata": {},
     "output_type": "display_data"
    },
    {
     "data": {
      "text/html": [
       "<pre>| 1h 54m                              | 59.5             | 39399           |</pre>"
      ],
      "text/plain": [
       "| 1h 54m                              | 59.5             | 39399           |"
      ]
     },
     "metadata": {},
     "output_type": "display_data"
    },
    {
     "data": {
      "text/html": [
       "<pre>| 1h 54m                              | 59.5             | 39400           |</pre>"
      ],
      "text/plain": [
       "| 1h 54m                              | 59.5             | 39400           |"
      ]
     },
     "metadata": {},
     "output_type": "display_data"
    },
    {
     "data": {
      "text/html": [
       "<pre>| 1h 54m                              | 59.75            | 39422           |</pre>"
      ],
      "text/plain": [
       "| 1h 54m                              | 59.75            | 39422           |"
      ]
     },
     "metadata": {},
     "output_type": "display_data"
    },
    {
     "data": {
      "text/html": [
       "<pre>| 1h 54m                              | 59.75            | 39556           |</pre>"
      ],
      "text/plain": [
       "| 1h 54m                              | 59.75            | 39556           |"
      ]
     },
     "metadata": {},
     "output_type": "display_data"
    },
    {
     "data": {
      "text/html": [
       "<pre>| 1h 54m                              | 60               | 39650           |</pre>"
      ],
      "text/plain": [
       "| 1h 54m                              | 60               | 39650           |"
      ]
     },
     "metadata": {},
     "output_type": "display_data"
    },
    {
     "data": {
      "text/html": [
       "<pre>| 1h 54m                              | 60               | 39664           |</pre>"
      ],
      "text/plain": [
       "| 1h 54m                              | 60               | 39664           |"
      ]
     },
     "metadata": {},
     "output_type": "display_data"
    },
    {
     "data": {
      "text/html": [
       "<pre>| 1h 54m                              | 60               | 39664           |</pre>"
      ],
      "text/plain": [
       "| 1h 54m                              | 60               | 39664           |"
      ]
     },
     "metadata": {},
     "output_type": "display_data"
    },
    {
     "data": {
      "text/html": [
       "<pre>| 1h 55m                              | 60               | 39674           |</pre>"
      ],
      "text/plain": [
       "| 1h 55m                              | 60               | 39674           |"
      ]
     },
     "metadata": {},
     "output_type": "display_data"
    },
    {
     "data": {
      "text/html": [
       "<pre>| 1h 55m                              | 60               | 39674           |</pre>"
      ],
      "text/plain": [
       "| 1h 55m                              | 60               | 39674           |"
      ]
     },
     "metadata": {},
     "output_type": "display_data"
    },
    {
     "data": {
      "text/html": [
       "<pre>| 1h 55m                              | 60               | 39707           |</pre>"
      ],
      "text/plain": [
       "| 1h 55m                              | 60               | 39707           |"
      ]
     },
     "metadata": {},
     "output_type": "display_data"
    },
    {
     "data": {
      "text/html": [
       "<pre>| 1h 55m                              | 60               | 39711           |</pre>"
      ],
      "text/plain": [
       "| 1h 55m                              | 60               | 39711           |"
      ]
     },
     "metadata": {},
     "output_type": "display_data"
    },
    {
     "data": {
      "text/html": [
       "<pre>| 1h 55m                              | 60               | 39722           |</pre>"
      ],
      "text/plain": [
       "| 1h 55m                              | 60               | 39722           |"
      ]
     },
     "metadata": {},
     "output_type": "display_data"
    },
    {
     "data": {
      "text/html": [
       "<pre>| 1h 55m                              | 60.25            | 39774           |</pre>"
      ],
      "text/plain": [
       "| 1h 55m                              | 60.25            | 39774           |"
      ]
     },
     "metadata": {},
     "output_type": "display_data"
    },
    {
     "data": {
      "text/html": [
       "<pre>| 1h 55m                              | 60.25            | 39826           |</pre>"
      ],
      "text/plain": [
       "| 1h 55m                              | 60.25            | 39826           |"
      ]
     },
     "metadata": {},
     "output_type": "display_data"
    },
    {
     "data": {
      "text/html": [
       "<pre>| 1h 55m                              | 60.25            | 39886           |</pre>"
      ],
      "text/plain": [
       "| 1h 55m                              | 60.25            | 39886           |"
      ]
     },
     "metadata": {},
     "output_type": "display_data"
    },
    {
     "data": {
      "text/html": [
       "<pre>| 1h 55m                              | 60.5             | 39960           |</pre>"
      ],
      "text/plain": [
       "| 1h 55m                              | 60.5             | 39960           |"
      ]
     },
     "metadata": {},
     "output_type": "display_data"
    },
    {
     "data": {
      "text/html": [
       "<pre>| 1h 56m                              | 60.5             | 39962           |</pre>"
      ],
      "text/plain": [
       "| 1h 56m                              | 60.5             | 39962           |"
      ]
     },
     "metadata": {},
     "output_type": "display_data"
    },
    {
     "data": {
      "text/html": [
       "<pre>| 1h 56m                              | 60.5             | 39982           |</pre>"
      ],
      "text/plain": [
       "| 1h 56m                              | 60.5             | 39982           |"
      ]
     },
     "metadata": {},
     "output_type": "display_data"
    },
    {
     "data": {
      "text/html": [
       "<pre>| 1h 56m                              | 60.5             | 40052           |</pre>"
      ],
      "text/plain": [
       "| 1h 56m                              | 60.5             | 40052           |"
      ]
     },
     "metadata": {},
     "output_type": "display_data"
    },
    {
     "data": {
      "text/html": [
       "<pre>| 1h 56m                              | 60.5             | 40053           |</pre>"
      ],
      "text/plain": [
       "| 1h 56m                              | 60.5             | 40053           |"
      ]
     },
     "metadata": {},
     "output_type": "display_data"
    },
    {
     "data": {
      "text/html": [
       "<pre>| 1h 56m                              | 60.5             | 40071           |</pre>"
      ],
      "text/plain": [
       "| 1h 56m                              | 60.5             | 40071           |"
      ]
     },
     "metadata": {},
     "output_type": "display_data"
    },
    {
     "data": {
      "text/html": [
       "<pre>| 1h 56m                              | 60.75            | 40092           |</pre>"
      ],
      "text/plain": [
       "| 1h 56m                              | 60.75            | 40092           |"
      ]
     },
     "metadata": {},
     "output_type": "display_data"
    },
    {
     "data": {
      "text/html": [
       "<pre>| 1h 56m                              | 60.75            | 40114           |</pre>"
      ],
      "text/plain": [
       "| 1h 56m                              | 60.75            | 40114           |"
      ]
     },
     "metadata": {},
     "output_type": "display_data"
    },
    {
     "data": {
      "text/html": [
       "<pre>| 1h 56m                              | 60.75            | 40124           |</pre>"
      ],
      "text/plain": [
       "| 1h 56m                              | 60.75            | 40124           |"
      ]
     },
     "metadata": {},
     "output_type": "display_data"
    },
    {
     "data": {
      "text/html": [
       "<pre>| 1h 56m                              | 60.75            | 40130           |</pre>"
      ],
      "text/plain": [
       "| 1h 56m                              | 60.75            | 40130           |"
      ]
     },
     "metadata": {},
     "output_type": "display_data"
    },
    {
     "data": {
      "text/html": [
       "<pre>| 1h 56m                              | 60.75            | 40156           |</pre>"
      ],
      "text/plain": [
       "| 1h 56m                              | 60.75            | 40156           |"
      ]
     },
     "metadata": {},
     "output_type": "display_data"
    },
    {
     "data": {
      "text/html": [
       "<pre>| 1h 56m                              | 60.75            | 40168           |</pre>"
      ],
      "text/plain": [
       "| 1h 56m                              | 60.75            | 40168           |"
      ]
     },
     "metadata": {},
     "output_type": "display_data"
    },
    {
     "data": {
      "text/html": [
       "<pre>| 1h 56m                              | 60.75            | 40169           |</pre>"
      ],
      "text/plain": [
       "| 1h 56m                              | 60.75            | 40169           |"
      ]
     },
     "metadata": {},
     "output_type": "display_data"
    },
    {
     "data": {
      "text/html": [
       "<pre>| 1h 56m                              | 60.75            | 40172           |</pre>"
      ],
      "text/plain": [
       "| 1h 56m                              | 60.75            | 40172           |"
      ]
     },
     "metadata": {},
     "output_type": "display_data"
    },
    {
     "data": {
      "text/html": [
       "<pre>| 1h 56m                              | 60.75            | 40213           |</pre>"
      ],
      "text/plain": [
       "| 1h 56m                              | 60.75            | 40213           |"
      ]
     },
     "metadata": {},
     "output_type": "display_data"
    },
    {
     "data": {
      "text/html": [
       "<pre>| 1h 56m                              | 60.75            | 40215           |</pre>"
      ],
      "text/plain": [
       "| 1h 56m                              | 60.75            | 40215           |"
      ]
     },
     "metadata": {},
     "output_type": "display_data"
    },
    {
     "data": {
      "text/html": [
       "<pre>| 1h 57m                              | 60.75            | 40216           |</pre>"
      ],
      "text/plain": [
       "| 1h 57m                              | 60.75            | 40216           |"
      ]
     },
     "metadata": {},
     "output_type": "display_data"
    },
    {
     "data": {
      "text/html": [
       "<pre>| 1h 57m                              | 60.75            | 40218           |</pre>"
      ],
      "text/plain": [
       "| 1h 57m                              | 60.75            | 40218           |"
      ]
     },
     "metadata": {},
     "output_type": "display_data"
    },
    {
     "data": {
      "text/html": [
       "<pre>| 1h 57m                              | 61               | 40272           |</pre>"
      ],
      "text/plain": [
       "| 1h 57m                              | 61               | 40272           |"
      ]
     },
     "metadata": {},
     "output_type": "display_data"
    },
    {
     "data": {
      "text/html": [
       "<pre>| 1h 57m                              | 61               | 40299           |</pre>"
      ],
      "text/plain": [
       "| 1h 57m                              | 61               | 40299           |"
      ]
     },
     "metadata": {},
     "output_type": "display_data"
    },
    {
     "data": {
      "text/html": [
       "<pre>| 1h 57m                              | 61               | 40324           |</pre>"
      ],
      "text/plain": [
       "| 1h 57m                              | 61               | 40324           |"
      ]
     },
     "metadata": {},
     "output_type": "display_data"
    },
    {
     "data": {
      "text/html": [
       "<pre>| 1h 57m                              | 61.25            | 40417           |</pre>"
      ],
      "text/plain": [
       "| 1h 57m                              | 61.25            | 40417           |"
      ]
     },
     "metadata": {},
     "output_type": "display_data"
    },
    {
     "data": {
      "text/html": [
       "<pre>| 1h 57m                              | 61.25            | 40555           |</pre>"
      ],
      "text/plain": [
       "| 1h 57m                              | 61.25            | 40555           |"
      ]
     },
     "metadata": {},
     "output_type": "display_data"
    },
    {
     "data": {
      "text/html": [
       "<pre>| 1h 57m                              | 61.5             | 40577           |</pre>"
      ],
      "text/plain": [
       "| 1h 57m                              | 61.5             | 40577           |"
      ]
     },
     "metadata": {},
     "output_type": "display_data"
    },
    {
     "data": {
      "text/html": [
       "<pre>| 1h 57m                              | 61.5             | 40589           |</pre>"
      ],
      "text/plain": [
       "| 1h 57m                              | 61.5             | 40589           |"
      ]
     },
     "metadata": {},
     "output_type": "display_data"
    },
    {
     "data": {
      "text/html": [
       "<pre>| 1h 57m                              | 61.5             | 40625           |</pre>"
      ],
      "text/plain": [
       "| 1h 57m                              | 61.5             | 40625           |"
      ]
     },
     "metadata": {},
     "output_type": "display_data"
    },
    {
     "data": {
      "text/html": [
       "<pre>| 1h 57m                              | 61.5             | 40627           |</pre>"
      ],
      "text/plain": [
       "| 1h 57m                              | 61.5             | 40627           |"
      ]
     },
     "metadata": {},
     "output_type": "display_data"
    },
    {
     "data": {
      "text/html": [
       "<pre>| 1h 57m                              | 61.5             | 40631           |</pre>"
      ],
      "text/plain": [
       "| 1h 57m                              | 61.5             | 40631           |"
      ]
     },
     "metadata": {},
     "output_type": "display_data"
    },
    {
     "data": {
      "text/html": [
       "<pre>| 1h 58m                              | 61.5             | 40665           |</pre>"
      ],
      "text/plain": [
       "| 1h 58m                              | 61.5             | 40665           |"
      ]
     },
     "metadata": {},
     "output_type": "display_data"
    },
    {
     "data": {
      "text/html": [
       "<pre>| 1h 58m                              | 61.5             | 40671           |</pre>"
      ],
      "text/plain": [
       "| 1h 58m                              | 61.5             | 40671           |"
      ]
     },
     "metadata": {},
     "output_type": "display_data"
    },
    {
     "data": {
      "text/html": [
       "<pre>| 1h 58m                              | 61.5             | 40696           |</pre>"
      ],
      "text/plain": [
       "| 1h 58m                              | 61.5             | 40696           |"
      ]
     },
     "metadata": {},
     "output_type": "display_data"
    },
    {
     "data": {
      "text/html": [
       "<pre>| 1h 58m                              | 61.5             | 40722           |</pre>"
      ],
      "text/plain": [
       "| 1h 58m                              | 61.5             | 40722           |"
      ]
     },
     "metadata": {},
     "output_type": "display_data"
    },
    {
     "data": {
      "text/html": [
       "<pre>| 1h 58m                              | 61.75            | 40742           |</pre>"
      ],
      "text/plain": [
       "| 1h 58m                              | 61.75            | 40742           |"
      ]
     },
     "metadata": {},
     "output_type": "display_data"
    },
    {
     "data": {
      "text/html": [
       "<pre>| 1h 58m                              | 61.75            | 40770           |</pre>"
      ],
      "text/plain": [
       "| 1h 58m                              | 61.75            | 40770           |"
      ]
     },
     "metadata": {},
     "output_type": "display_data"
    },
    {
     "data": {
      "text/html": [
       "<pre>| 1h 58m                              | 61.75            | 40796           |</pre>"
      ],
      "text/plain": [
       "| 1h 58m                              | 61.75            | 40796           |"
      ]
     },
     "metadata": {},
     "output_type": "display_data"
    },
    {
     "data": {
      "text/html": [
       "<pre>| 1h 58m                              | 61.75            | 40797           |</pre>"
      ],
      "text/plain": [
       "| 1h 58m                              | 61.75            | 40797           |"
      ]
     },
     "metadata": {},
     "output_type": "display_data"
    },
    {
     "data": {
      "text/html": [
       "<pre>| 1h 58m                              | 61.75            | 40812           |</pre>"
      ],
      "text/plain": [
       "| 1h 58m                              | 61.75            | 40812           |"
      ]
     },
     "metadata": {},
     "output_type": "display_data"
    },
    {
     "data": {
      "text/html": [
       "<pre>| 1h 58m                              | 61.75            | 40825           |</pre>"
      ],
      "text/plain": [
       "| 1h 58m                              | 61.75            | 40825           |"
      ]
     },
     "metadata": {},
     "output_type": "display_data"
    },
    {
     "data": {
      "text/html": [
       "<pre>| 1h 58m                              | 61.75            | 40831           |</pre>"
      ],
      "text/plain": [
       "| 1h 58m                              | 61.75            | 40831           |"
      ]
     },
     "metadata": {},
     "output_type": "display_data"
    },
    {
     "data": {
      "text/html": [
       "<pre>| 1h 58m                              | 61.75            | 40889           |</pre>"
      ],
      "text/plain": [
       "| 1h 58m                              | 61.75            | 40889           |"
      ]
     },
     "metadata": {},
     "output_type": "display_data"
    },
    {
     "data": {
      "text/html": [
       "<pre>| 1h 58m                              | 61.75            | 40889           |</pre>"
      ],
      "text/plain": [
       "| 1h 58m                              | 61.75            | 40889           |"
      ]
     },
     "metadata": {},
     "output_type": "display_data"
    },
    {
     "data": {
      "text/html": [
       "<pre>| 1h 58m                              | 61.75            | 40890           |</pre>"
      ],
      "text/plain": [
       "| 1h 58m                              | 61.75            | 40890           |"
      ]
     },
     "metadata": {},
     "output_type": "display_data"
    },
    {
     "data": {
      "text/html": [
       "<pre>| 1h 58m                              | 62               | 40965           |</pre>"
      ],
      "text/plain": [
       "| 1h 58m                              | 62               | 40965           |"
      ]
     },
     "metadata": {},
     "output_type": "display_data"
    },
    {
     "data": {
      "text/html": [
       "<pre>| 1h 58m                              | 62               | 41020           |</pre>"
      ],
      "text/plain": [
       "| 1h 58m                              | 62               | 41020           |"
      ]
     },
     "metadata": {},
     "output_type": "display_data"
    },
    {
     "data": {
      "text/html": [
       "<pre>| 1h 59m                              | 62               | 41023           |</pre>"
      ],
      "text/plain": [
       "| 1h 59m                              | 62               | 41023           |"
      ]
     },
     "metadata": {},
     "output_type": "display_data"
    },
    {
     "data": {
      "text/html": [
       "<pre>| 1h 59m                              | 62               | 41053           |</pre>"
      ],
      "text/plain": [
       "| 1h 59m                              | 62               | 41053           |"
      ]
     },
     "metadata": {},
     "output_type": "display_data"
    },
    {
     "data": {
      "text/html": [
       "<pre>| 1h 59m                              | 62.25            | 41071           |</pre>"
      ],
      "text/plain": [
       "| 1h 59m                              | 62.25            | 41071           |"
      ]
     },
     "metadata": {},
     "output_type": "display_data"
    },
    {
     "data": {
      "text/html": [
       "<pre>| 1h 59m                              | 62.25            | 41089           |</pre>"
      ],
      "text/plain": [
       "| 1h 59m                              | 62.25            | 41089           |"
      ]
     },
     "metadata": {},
     "output_type": "display_data"
    },
    {
     "data": {
      "text/html": [
       "<pre>| 1h 59m                              | 62.25            | 41099           |</pre>"
      ],
      "text/plain": [
       "| 1h 59m                              | 62.25            | 41099           |"
      ]
     },
     "metadata": {},
     "output_type": "display_data"
    },
    {
     "data": {
      "text/html": [
       "<pre>| 1h 59m                              | 62.25            | 41110           |</pre>"
      ],
      "text/plain": [
       "| 1h 59m                              | 62.25            | 41110           |"
      ]
     },
     "metadata": {},
     "output_type": "display_data"
    },
    {
     "data": {
      "text/html": [
       "<pre>| 1h 59m                              | 62.25            | 41145           |</pre>"
      ],
      "text/plain": [
       "| 1h 59m                              | 62.25            | 41145           |"
      ]
     },
     "metadata": {},
     "output_type": "display_data"
    },
    {
     "data": {
      "text/html": [
       "<pre>| 1h 59m                              | 62.25            | 41154           |</pre>"
      ],
      "text/plain": [
       "| 1h 59m                              | 62.25            | 41154           |"
      ]
     },
     "metadata": {},
     "output_type": "display_data"
    },
    {
     "data": {
      "text/html": [
       "<pre>| 1h 59m                              | 62.25            | 41167           |</pre>"
      ],
      "text/plain": [
       "| 1h 59m                              | 62.25            | 41167           |"
      ]
     },
     "metadata": {},
     "output_type": "display_data"
    },
    {
     "data": {
      "text/html": [
       "<pre>| 1h 59m                              | 62.25            | 41185           |</pre>"
      ],
      "text/plain": [
       "| 1h 59m                              | 62.25            | 41185           |"
      ]
     },
     "metadata": {},
     "output_type": "display_data"
    },
    {
     "data": {
      "text/html": [
       "<pre>| 1h 59m                              | 62.25            | 41196           |</pre>"
      ],
      "text/plain": [
       "| 1h 59m                              | 62.25            | 41196           |"
      ]
     },
     "metadata": {},
     "output_type": "display_data"
    },
    {
     "data": {
      "text/html": [
       "<pre>| 1h 59m                              | 62.5             | 41230           |</pre>"
      ],
      "text/plain": [
       "| 1h 59m                              | 62.5             | 41230           |"
      ]
     },
     "metadata": {},
     "output_type": "display_data"
    },
    {
     "data": {
      "text/html": [
       "<pre>| 1h 59m                              | 62.5             | 41257           |</pre>"
      ],
      "text/plain": [
       "| 1h 59m                              | 62.5             | 41257           |"
      ]
     },
     "metadata": {},
     "output_type": "display_data"
    },
    {
     "data": {
      "text/html": [
       "<pre>| 2h 2m                               | 65               | 42927           |</pre>"
      ],
      "text/plain": [
       "| 2h 2m                               | 65               | 42927           |"
      ]
     },
     "metadata": {},
     "output_type": "display_data"
    },
    {
     "data": {
      "text/html": [
       "<pre>| 2h 2m                               | 65               | 42954           |</pre>"
      ],
      "text/plain": [
       "| 2h 2m                               | 65               | 42954           |"
      ]
     },
     "metadata": {},
     "output_type": "display_data"
    },
    {
     "data": {
      "text/html": [
       "<pre>| 2h 2m                               | 65               | 42973           |</pre>"
      ],
      "text/plain": [
       "| 2h 2m                               | 65               | 42973           |"
      ]
     },
     "metadata": {},
     "output_type": "display_data"
    },
    {
     "data": {
      "text/html": [
       "<pre>| 2h 2m                               | 65               | 42980           |</pre>"
      ],
      "text/plain": [
       "| 2h 2m                               | 65               | 42980           |"
      ]
     },
     "metadata": {},
     "output_type": "display_data"
    },
    {
     "data": {
      "text/html": [
       "<pre>| 2h 2m                               | 65               | 43004           |</pre>"
      ],
      "text/plain": [
       "| 2h 2m                               | 65               | 43004           |"
      ]
     },
     "metadata": {},
     "output_type": "display_data"
    },
    {
     "data": {
      "text/html": [
       "<pre>| 2h 2m                               | 65               | 43033           |</pre>"
      ],
      "text/plain": [
       "| 2h 2m                               | 65               | 43033           |"
      ]
     },
     "metadata": {},
     "output_type": "display_data"
    },
    {
     "data": {
      "text/html": [
       "<pre>| 2h 3m                               | 65.25            | 43101           |</pre>"
      ],
      "text/plain": [
       "| 2h 3m                               | 65.25            | 43101           |"
      ]
     },
     "metadata": {},
     "output_type": "display_data"
    },
    {
     "data": {
      "text/html": [
       "<pre>| 2h 3m                               | 65.25            | 43140           |</pre>"
      ],
      "text/plain": [
       "| 2h 3m                               | 65.25            | 43140           |"
      ]
     },
     "metadata": {},
     "output_type": "display_data"
    },
    {
     "data": {
      "text/html": [
       "<pre>| 2h 3m                               | 65.25            | 43168           |</pre>"
      ],
      "text/plain": [
       "| 2h 3m                               | 65.25            | 43168           |"
      ]
     },
     "metadata": {},
     "output_type": "display_data"
    },
    {
     "data": {
      "text/html": [
       "<pre>| 2h 3m                               | 65.5             | 43210           |</pre>"
      ],
      "text/plain": [
       "| 2h 3m                               | 65.5             | 43210           |"
      ]
     },
     "metadata": {},
     "output_type": "display_data"
    },
    {
     "data": {
      "text/html": [
       "<pre>| 2h 3m                               | 65.5             | 43216           |</pre>"
      ],
      "text/plain": [
       "| 2h 3m                               | 65.5             | 43216           |"
      ]
     },
     "metadata": {},
     "output_type": "display_data"
    },
    {
     "data": {
      "text/html": [
       "<pre>| 2h 3m                               | 65.5             | 43238           |</pre>"
      ],
      "text/plain": [
       "| 2h 3m                               | 65.5             | 43238           |"
      ]
     },
     "metadata": {},
     "output_type": "display_data"
    },
    {
     "data": {
      "text/html": [
       "<pre>| 2h 3m                               | 65.5             | 43299           |</pre>"
      ],
      "text/plain": [
       "| 2h 3m                               | 65.5             | 43299           |"
      ]
     },
     "metadata": {},
     "output_type": "display_data"
    },
    {
     "data": {
      "text/html": [
       "<pre>| 2h 3m                               | 65.5             | 43327           |</pre>"
      ],
      "text/plain": [
       "| 2h 3m                               | 65.5             | 43327           |"
      ]
     },
     "metadata": {},
     "output_type": "display_data"
    },
    {
     "data": {
      "text/html": [
       "<pre>| 2h 3m                               | 65.5             | 43362           |</pre>"
      ],
      "text/plain": [
       "| 2h 3m                               | 65.5             | 43362           |"
      ]
     },
     "metadata": {},
     "output_type": "display_data"
    },
    {
     "data": {
      "text/html": [
       "<pre>| 2h 3m                               | 65.75            | 43401           |</pre>"
      ],
      "text/plain": [
       "| 2h 3m                               | 65.75            | 43401           |"
      ]
     },
     "metadata": {},
     "output_type": "display_data"
    },
    {
     "data": {
      "text/html": [
       "<pre>| 2h 3m                               | 65.75            | 43449           |</pre>"
      ],
      "text/plain": [
       "| 2h 3m                               | 65.75            | 43449           |"
      ]
     },
     "metadata": {},
     "output_type": "display_data"
    },
    {
     "data": {
      "text/html": [
       "<pre>| 2h 3m                               | 65.75            | 43503           |</pre>"
      ],
      "text/plain": [
       "| 2h 3m                               | 65.75            | 43503           |"
      ]
     },
     "metadata": {},
     "output_type": "display_data"
    },
    {
     "data": {
      "text/html": [
       "<pre>| 2h 3m                               | 66               | 43537           |</pre>"
      ],
      "text/plain": [
       "| 2h 3m                               | 66               | 43537           |"
      ]
     },
     "metadata": {},
     "output_type": "display_data"
    },
    {
     "data": {
      "text/html": [
       "<pre>| 2h 3m                               | 66               | 43579           |</pre>"
      ],
      "text/plain": [
       "| 2h 3m                               | 66               | 43579           |"
      ]
     },
     "metadata": {},
     "output_type": "display_data"
    },
    {
     "data": {
      "text/html": [
       "<pre>| 2h 3m                               | 66               | 43624           |</pre>"
      ],
      "text/plain": [
       "| 2h 3m                               | 66               | 43624           |"
      ]
     },
     "metadata": {},
     "output_type": "display_data"
    },
    {
     "data": {
      "text/html": [
       "<pre>| 2h 3m                               | 66               | 43677           |</pre>"
      ],
      "text/plain": [
       "| 2h 3m                               | 66               | 43677           |"
      ]
     },
     "metadata": {},
     "output_type": "display_data"
    },
    {
     "data": {
      "text/html": [
       "<pre>| 2h 3m                               | 66.25            | 43702           |</pre>"
      ],
      "text/plain": [
       "| 2h 3m                               | 66.25            | 43702           |"
      ]
     },
     "metadata": {},
     "output_type": "display_data"
    },
    {
     "data": {
      "text/html": [
       "<pre>| 2h 3m                               | 66.25            | 43726           |</pre>"
      ],
      "text/plain": [
       "| 2h 3m                               | 66.25            | 43726           |"
      ]
     },
     "metadata": {},
     "output_type": "display_data"
    },
    {
     "data": {
      "text/html": [
       "<pre>| 2h 3m                               | 66.25            | 43755           |</pre>"
      ],
      "text/plain": [
       "| 2h 3m                               | 66.25            | 43755           |"
      ]
     },
     "metadata": {},
     "output_type": "display_data"
    },
    {
     "data": {
      "text/html": [
       "<pre>| 2h 3m                               | 66.25            | 43769           |</pre>"
      ],
      "text/plain": [
       "| 2h 3m                               | 66.25            | 43769           |"
      ]
     },
     "metadata": {},
     "output_type": "display_data"
    },
    {
     "data": {
      "text/html": [
       "<pre>| 2h 4m                               | 66.25            | 43777           |</pre>"
      ],
      "text/plain": [
       "| 2h 4m                               | 66.25            | 43777           |"
      ]
     },
     "metadata": {},
     "output_type": "display_data"
    },
    {
     "data": {
      "text/html": [
       "<pre>| 2h 4m                               | 66.25            | 43785           |</pre>"
      ],
      "text/plain": [
       "| 2h 4m                               | 66.25            | 43785           |"
      ]
     },
     "metadata": {},
     "output_type": "display_data"
    },
    {
     "data": {
      "text/html": [
       "<pre>| 2h 4m                               | 66.25            | 43816           |</pre>"
      ],
      "text/plain": [
       "| 2h 4m                               | 66.25            | 43816           |"
      ]
     },
     "metadata": {},
     "output_type": "display_data"
    },
    {
     "data": {
      "text/html": [
       "<pre>| 2h 4m                               | 66.25            | 43838           |</pre>"
      ],
      "text/plain": [
       "| 2h 4m                               | 66.25            | 43838           |"
      ]
     },
     "metadata": {},
     "output_type": "display_data"
    },
    {
     "data": {
      "text/html": [
       "<pre>| 2h 4m                               | 66.25            | 43855           |</pre>"
      ],
      "text/plain": [
       "| 2h 4m                               | 66.25            | 43855           |"
      ]
     },
     "metadata": {},
     "output_type": "display_data"
    },
    {
     "data": {
      "text/html": [
       "<pre>| 2h 4m                               | 66.5             | 43883           |</pre>"
      ],
      "text/plain": [
       "| 2h 4m                               | 66.5             | 43883           |"
      ]
     },
     "metadata": {},
     "output_type": "display_data"
    },
    {
     "data": {
      "text/html": [
       "<pre>| 2h 4m                               | 66.5             | 43899           |</pre>"
      ],
      "text/plain": [
       "| 2h 4m                               | 66.5             | 43899           |"
      ]
     },
     "metadata": {},
     "output_type": "display_data"
    },
    {
     "data": {
      "text/html": [
       "<pre>| 2h 4m                               | 66.5             | 43916           |</pre>"
      ],
      "text/plain": [
       "| 2h 4m                               | 66.5             | 43916           |"
      ]
     },
     "metadata": {},
     "output_type": "display_data"
    },
    {
     "data": {
      "text/html": [
       "<pre>| 2h 4m                               | 66.5             | 43927           |</pre>"
      ],
      "text/plain": [
       "| 2h 4m                               | 66.5             | 43927           |"
      ]
     },
     "metadata": {},
     "output_type": "display_data"
    },
    {
     "data": {
      "text/html": [
       "<pre>| 2h 4m                               | 66.5             | 43935           |</pre>"
      ],
      "text/plain": [
       "| 2h 4m                               | 66.5             | 43935           |"
      ]
     },
     "metadata": {},
     "output_type": "display_data"
    },
    {
     "data": {
      "text/html": [
       "<pre>| 2h 4m                               | 66.5             | 43937           |</pre>"
      ],
      "text/plain": [
       "| 2h 4m                               | 66.5             | 43937           |"
      ]
     },
     "metadata": {},
     "output_type": "display_data"
    },
    {
     "data": {
      "text/html": [
       "<pre>| 2h 4m                               | 66.5             | 43946           |</pre>"
      ],
      "text/plain": [
       "| 2h 4m                               | 66.5             | 43946           |"
      ]
     },
     "metadata": {},
     "output_type": "display_data"
    },
    {
     "data": {
      "text/html": [
       "<pre>| 2h 4m                               | 66.5             | 43958           |</pre>"
      ],
      "text/plain": [
       "| 2h 4m                               | 66.5             | 43958           |"
      ]
     },
     "metadata": {},
     "output_type": "display_data"
    },
    {
     "data": {
      "text/html": [
       "<pre>| 2h 4m                               | 66.5             | 43964           |</pre>"
      ],
      "text/plain": [
       "| 2h 4m                               | 66.5             | 43964           |"
      ]
     },
     "metadata": {},
     "output_type": "display_data"
    },
    {
     "data": {
      "text/html": [
       "<pre>| 2h 4m                               | 66.5             | 43971           |</pre>"
      ],
      "text/plain": [
       "| 2h 4m                               | 66.5             | 43971           |"
      ]
     },
     "metadata": {},
     "output_type": "display_data"
    },
    {
     "data": {
      "text/html": [
       "<pre>| 2h 4m                               | 66.5             | 43975           |</pre>"
      ],
      "text/plain": [
       "| 2h 4m                               | 66.5             | 43975           |"
      ]
     },
     "metadata": {},
     "output_type": "display_data"
    },
    {
     "data": {
      "text/html": [
       "<pre>| 2h 29m                              | 66.75            | 44037           |</pre>"
      ],
      "text/plain": [
       "| 2h 29m                              | 66.75            | 44037           |"
      ]
     },
     "metadata": {},
     "output_type": "display_data"
    },
    {
     "data": {
      "text/html": [
       "<pre>| 2h 29m                              | 66.75            | 44113           |</pre>"
      ],
      "text/plain": [
       "| 2h 29m                              | 66.75            | 44113           |"
      ]
     },
     "metadata": {},
     "output_type": "display_data"
    },
    {
     "data": {
      "text/html": [
       "<pre>| 2h 29m                              | 71.5             | 47260           |</pre>"
      ],
      "text/plain": [
       "| 2h 29m                              | 71.5             | 47260           |"
      ]
     },
     "metadata": {},
     "output_type": "display_data"
    },
    {
     "data": {
      "text/html": [
       "<pre>| 2h 29m                              | 80.5             | 53175           |</pre>"
      ],
      "text/plain": [
       "| 2h 29m                              | 80.5             | 53175           |"
      ]
     },
     "metadata": {},
     "output_type": "display_data"
    },
    {
     "data": {
      "text/html": [
       "<pre>| 2h 29m                              | 81.75            | 54045           |</pre>"
      ],
      "text/plain": [
       "| 2h 29m                              | 81.75            | 54045           |"
      ]
     },
     "metadata": {},
     "output_type": "display_data"
    },
    {
     "data": {
      "text/html": [
       "<pre>| 2h 29m                              | 87.75            | 57905           |</pre>"
      ],
      "text/plain": [
       "| 2h 29m                              | 87.75            | 57905           |"
      ]
     },
     "metadata": {},
     "output_type": "display_data"
    },
    {
     "data": {
      "text/html": [
       "<pre>| 2h 29m                              | 93               | 61431           |</pre>"
      ],
      "text/plain": [
       "| 2h 29m                              | 93               | 61431           |"
      ]
     },
     "metadata": {},
     "output_type": "display_data"
    },
    {
     "data": {
      "text/html": [
       "<pre>| 2h 29m                              | 94.25            | 62217           |</pre>"
      ],
      "text/plain": [
       "| 2h 29m                              | 94.25            | 62217           |"
      ]
     },
     "metadata": {},
     "output_type": "display_data"
    },
    {
     "data": {
      "text/html": [
       "<pre>| 2h 30m                              | 99.5             | 65636           |</pre>"
      ],
      "text/plain": [
       "| 2h 30m                              | 99.5             | 65636           |"
      ]
     },
     "metadata": {},
     "output_type": "display_data"
    },
    {
     "data": {
      "text/html": [
       "<pre>| 2h 30m                              | 99.75            | 65929           |</pre>"
      ],
      "text/plain": [
       "| 2h 30m                              | 99.75            | 65929           |"
      ]
     },
     "metadata": {},
     "output_type": "display_data"
    },
    {
     "data": {
      "text/html": [
       "<pre>| 2h 30m                              | 100              | 65965           |</pre>"
      ],
      "text/plain": [
       "| 2h 30m                              | 100              | 65965           |"
      ]
     },
     "metadata": {},
     "output_type": "display_data"
    },
    {
     "data": {
      "text/html": [
       "<pre>+-------------------------------------+------------------+-----------------+</pre>"
      ],
      "text/plain": [
       "+-------------------------------------+------------------+-----------------+"
      ]
     },
     "metadata": {},
     "output_type": "display_data"
    },
    {
     "data": {
      "text/html": [
       "<pre>Finalizing lookup tables.</pre>"
      ],
      "text/plain": [
       "Finalizing lookup tables."
      ]
     },
     "metadata": {},
     "output_type": "display_data"
    },
    {
     "data": {
      "text/html": [
       "<pre>Generating candidate set for working with new users.</pre>"
      ],
      "text/plain": [
       "Generating candidate set for working with new users."
      ]
     },
     "metadata": {},
     "output_type": "display_data"
    },
    {
     "data": {
      "text/html": [
       "<pre>Finished training in 9025.57s</pre>"
      ],
      "text/plain": [
       "Finished training in 9025.57s"
      ]
     },
     "metadata": {},
     "output_type": "display_data"
    }
   ],
   "source": [
    "modelB = tr.recommender.item_similarity_recommender.create(training_data, user_id='review_profilename', item_id='beer_beerid', target='review_overall')"
   ]
  },
  {
   "cell_type": "code",
   "execution_count": 30,
   "metadata": {},
   "outputs": [],
   "source": [
    "# Save model - load model\n",
    "# modelB.save('jupyter_folder/item_similarity_id_train.model')\n",
    "modelB = tr.load_model('jupyter_folder/item_similarity_id_train.model')"
   ]
  },
  {
   "cell_type": "code",
   "execution_count": 31,
   "metadata": {},
   "outputs": [
    {
     "name": "stdout",
     "output_type": "stream",
     "text": [
      "\n",
      "Precision and recall summary statistics by cutoff\n",
      "+--------+-----------------+-----------------+\n",
      "| cutoff |  mean_precision |   mean_recall   |\n",
      "+--------+-----------------+-----------------+\n",
      "|   1    |  0.100393700787 | 0.0144793645595 |\n",
      "|   2    | 0.0856299212598 | 0.0225154966317 |\n",
      "|   3    | 0.0826771653543 |   0.028056997   |\n",
      "|   4    | 0.0812007874016 | 0.0345317258874 |\n",
      "|   5    | 0.0799212598425 |  0.037922474018 |\n",
      "|   6    | 0.0793963254593 |  0.042752359916 |\n",
      "|   7    | 0.0756467941507 | 0.0468397359402 |\n",
      "|   8    |  0.074311023622 | 0.0531627061783 |\n",
      "|   9    | 0.0741469816273 | 0.0586188794214 |\n",
      "|   10   | 0.0724409448819 | 0.0621629408043 |\n",
      "+--------+-----------------+-----------------+\n",
      "[10 rows x 3 columns]\n",
      "\n",
      "\n",
      "Overall RMSE: 3.87674546436\n",
      "\n",
      "Per User RMSE (best)\n",
      "+--------------------+-------+----------------+\n",
      "| review_profilename | count |      rmse      |\n",
      "+--------------------+-------+----------------+\n",
      "|      kerouac       |   1   | 0.762711882591 |\n",
      "+--------------------+-------+----------------+\n",
      "[1 rows x 3 columns]\n",
      "\n",
      "\n",
      "Per User RMSE (worst)\n",
      "+--------------------+-------+------+\n",
      "| review_profilename | count | rmse |\n",
      "+--------------------+-------+------+\n",
      "|      einar85       |   1   | 5.0  |\n",
      "+--------------------+-------+------+\n",
      "[1 rows x 3 columns]\n",
      "\n",
      "\n",
      "Per Item RMSE (best)\n",
      "+-------------+-------+----------------+\n",
      "| beer_beerid | count |      rmse      |\n",
      "+-------------+-------+----------------+\n",
      "|    34403    |   1   | 0.983844418769 |\n",
      "+-------------+-------+----------------+\n",
      "[1 rows x 3 columns]\n",
      "\n",
      "\n",
      "Per Item RMSE (worst)\n",
      "+-------------+-------+------+\n",
      "| beer_beerid | count | rmse |\n",
      "+-------------+-------+------+\n",
      "|     6341    |   1   | 5.0  |\n",
      "+-------------+-------+------+\n",
      "[1 rows x 3 columns]\n",
      "\n"
     ]
    },
    {
     "data": {
      "text/plain": [
       "{'precision_recall_by_user': Columns:\n",
       " \treview_profilename\tstr\n",
       " \tcutoff\tint\n",
       " \tprecision\tfloat\n",
       " \trecall\tfloat\n",
       " \tcount\tint\n",
       " \n",
       " Rows: 9144\n",
       " \n",
       " Data:\n",
       " +--------------------+--------+-----------+-----------------+-------+\n",
       " | review_profilename | cutoff | precision |      recall     | count |\n",
       " +--------------------+--------+-----------+-----------------+-------+\n",
       " |       hdofu        |   1    |    0.0    |       0.0       |   52  |\n",
       " |       hdofu        |   2    |    0.0    |       0.0       |   52  |\n",
       " |       hdofu        |   3    |    0.0    |       0.0       |   52  |\n",
       " |       hdofu        |   4    |    0.0    |       0.0       |   52  |\n",
       " |       hdofu        |   5    |    0.0    |       0.0       |   52  |\n",
       " |       hdofu        |   6    |    0.0    |       0.0       |   52  |\n",
       " |       hdofu        |   7    |    0.0    |       0.0       |   52  |\n",
       " |       hdofu        |   8    |    0.0    |       0.0       |   52  |\n",
       " |       hdofu        |   9    |    0.0    |       0.0       |   52  |\n",
       " |       hdofu        |   10   |    0.1    | 0.0192307692308 |   52  |\n",
       " +--------------------+--------+-----------+-----------------+-------+\n",
       " [9144 rows x 5 columns]\n",
       " Note: Only the head of the SFrame is printed.\n",
       " You can use print_rows(num_rows=m, num_columns=n) to print more rows and columns.,\n",
       " 'precision_recall_overall': Columns:\n",
       " \tcutoff\tint\n",
       " \tprecision\tfloat\n",
       " \trecall\tfloat\n",
       " \n",
       " Rows: 18\n",
       " \n",
       " Data:\n",
       " +--------+-----------------+-----------------+\n",
       " | cutoff |    precision    |      recall     |\n",
       " +--------+-----------------+-----------------+\n",
       " |   1    |  0.100393700787 | 0.0144793645595 |\n",
       " |   2    | 0.0856299212598 | 0.0225154966317 |\n",
       " |   3    | 0.0826771653543 |   0.028056997   |\n",
       " |   4    | 0.0812007874016 | 0.0345317258874 |\n",
       " |   5    | 0.0799212598425 |  0.037922474018 |\n",
       " |   6    | 0.0793963254593 |  0.042752359916 |\n",
       " |   7    | 0.0756467941507 | 0.0468397359402 |\n",
       " |   8    |  0.074311023622 | 0.0531627061783 |\n",
       " |   9    | 0.0741469816273 | 0.0586188794214 |\n",
       " |   10   | 0.0724409448819 | 0.0621629408043 |\n",
       " +--------+-----------------+-----------------+\n",
       " [18 rows x 3 columns]\n",
       " Note: Only the head of the SFrame is printed.\n",
       " You can use print_rows(num_rows=m, num_columns=n) to print more rows and columns.,\n",
       " 'rmse_by_item': Columns:\n",
       " \tbeer_beerid\tstr\n",
       " \tcount\tint\n",
       " \trmse\tfloat\n",
       " \n",
       " Rows: 4002\n",
       " \n",
       " Data:\n",
       " +-------------+-------+---------------+\n",
       " | beer_beerid | count |      rmse     |\n",
       " +-------------+-------+---------------+\n",
       " |     3006    |   1   | 4.49893614937 |\n",
       " |     1484    |   1   | 2.49725073161 |\n",
       " |     1444    |   3   |  4.0237435791 |\n",
       " |    30282    |   8   | 3.65610290569 |\n",
       " |    59610    |   1   |      3.0      |\n",
       " |     3952    |   1   | 3.99826019388 |\n",
       " |     2849    |   1   | 2.49893451574 |\n",
       " |    10286    |   1   | 2.99989721452 |\n",
       " |    37192    |   1   | 4.99463622608 |\n",
       " |     6006    |   1   | 3.99933203915 |\n",
       " +-------------+-------+---------------+\n",
       " [4002 rows x 3 columns]\n",
       " Note: Only the head of the SFrame is printed.\n",
       " You can use print_rows(num_rows=m, num_columns=n) to print more rows and columns.,\n",
       " 'rmse_by_user': Columns:\n",
       " \treview_profilename\tstr\n",
       " \tcount\tint\n",
       " \trmse\tfloat\n",
       " \n",
       " Rows: 508\n",
       " \n",
       " Data:\n",
       " +--------------------+-------+---------------+\n",
       " | review_profilename | count |      rmse     |\n",
       " +--------------------+-------+---------------+\n",
       " |  beerandcycling88  |   23  | 3.85638123527 |\n",
       " |      dgm6689       |   2   | 4.47999094412 |\n",
       " |       steevo       |   2   |  4.3936532971 |\n",
       " |     mgreenlaw      |   5   | 3.77528229132 |\n",
       " |   ReaquiredHabit   |   2   | 4.45478172181 |\n",
       " |    GlassFreeek     |   2   | 4.19634401188 |\n",
       " |     maltmelon      |   1   |      3.5      |\n",
       " |   watermelonman    |   68  | 3.78682403609 |\n",
       " |      eljefe21      |   17  | 4.20277323006 |\n",
       " |      1santore      |   1   | 3.88772379027 |\n",
       " +--------------------+-------+---------------+\n",
       " [508 rows x 3 columns]\n",
       " Note: Only the head of the SFrame is printed.\n",
       " You can use print_rows(num_rows=m, num_columns=n) to print more rows and columns.,\n",
       " 'rmse_overall': 3.876745464361788}"
      ]
     },
     "execution_count": 31,
     "metadata": {},
     "output_type": "execute_result"
    }
   ],
   "source": [
    "# Find unnormalized score\n",
    "modelB.evaluate(validation_data)"
   ]
  },
  {
   "cell_type": "code",
   "execution_count": 33,
   "metadata": {},
   "outputs": [
    {
     "data": {
      "text/html": [
       "<div style=\"max-height:1000px;max-width:1500px;overflow:auto;\"><table frame=\"box\" rules=\"cols\">\n",
       "    <tr>\n",
       "        <th style=\"padding-left: 1em; padding-right: 1em; text-align: center\">review_profilename</th>\n",
       "        <th style=\"padding-left: 1em; padding-right: 1em; text-align: center\">beer_beerid</th>\n",
       "        <th style=\"padding-left: 1em; padding-right: 1em; text-align: center\">score</th>\n",
       "        <th style=\"padding-left: 1em; padding-right: 1em; text-align: center\">rank</th>\n",
       "    </tr>\n",
       "    <tr>\n",
       "        <td style=\"padding-left: 1em; padding-right: 1em; text-align: center; vertical-align: top\">new_user</td>\n",
       "        <td style=\"padding-left: 1em; padding-right: 1em; text-align: center; vertical-align: top\">4083</td>\n",
       "        <td style=\"padding-left: 1em; padding-right: 1em; text-align: center; vertical-align: top\">0.285194417238</td>\n",
       "        <td style=\"padding-left: 1em; padding-right: 1em; text-align: center; vertical-align: top\">1</td>\n",
       "    </tr>\n",
       "    <tr>\n",
       "        <td style=\"padding-left: 1em; padding-right: 1em; text-align: center; vertical-align: top\">new_user</td>\n",
       "        <td style=\"padding-left: 1em; padding-right: 1em; text-align: center; vertical-align: top\">1013</td>\n",
       "        <td style=\"padding-left: 1em; padding-right: 1em; text-align: center; vertical-align: top\">0.285081341267</td>\n",
       "        <td style=\"padding-left: 1em; padding-right: 1em; text-align: center; vertical-align: top\">2</td>\n",
       "    </tr>\n",
       "    <tr>\n",
       "        <td style=\"padding-left: 1em; padding-right: 1em; text-align: center; vertical-align: top\">new_user</td>\n",
       "        <td style=\"padding-left: 1em; padding-right: 1em; text-align: center; vertical-align: top\">2671</td>\n",
       "        <td style=\"padding-left: 1em; padding-right: 1em; text-align: center; vertical-align: top\">0.279746141434</td>\n",
       "        <td style=\"padding-left: 1em; padding-right: 1em; text-align: center; vertical-align: top\">3</td>\n",
       "    </tr>\n",
       "    <tr>\n",
       "        <td style=\"padding-left: 1em; padding-right: 1em; text-align: center; vertical-align: top\">new_user</td>\n",
       "        <td style=\"padding-left: 1em; padding-right: 1em; text-align: center; vertical-align: top\">412</td>\n",
       "        <td style=\"padding-left: 1em; padding-right: 1em; text-align: center; vertical-align: top\">0.278405613899</td>\n",
       "        <td style=\"padding-left: 1em; padding-right: 1em; text-align: center; vertical-align: top\">4</td>\n",
       "    </tr>\n",
       "    <tr>\n",
       "        <td style=\"padding-left: 1em; padding-right: 1em; text-align: center; vertical-align: top\">new_user</td>\n",
       "        <td style=\"padding-left: 1em; padding-right: 1em; text-align: center; vertical-align: top\">680</td>\n",
       "        <td style=\"padding-left: 1em; padding-right: 1em; text-align: center; vertical-align: top\">0.278176767826</td>\n",
       "        <td style=\"padding-left: 1em; padding-right: 1em; text-align: center; vertical-align: top\">5</td>\n",
       "    </tr>\n",
       "    <tr>\n",
       "        <td style=\"padding-left: 1em; padding-right: 1em; text-align: center; vertical-align: top\">new_user</td>\n",
       "        <td style=\"padding-left: 1em; padding-right: 1em; text-align: center; vertical-align: top\">88</td>\n",
       "        <td style=\"padding-left: 1em; padding-right: 1em; text-align: center; vertical-align: top\">0.277954841852</td>\n",
       "        <td style=\"padding-left: 1em; padding-right: 1em; text-align: center; vertical-align: top\">6</td>\n",
       "    </tr>\n",
       "    <tr>\n",
       "        <td style=\"padding-left: 1em; padding-right: 1em; text-align: center; vertical-align: top\">new_user</td>\n",
       "        <td style=\"padding-left: 1em; padding-right: 1em; text-align: center; vertical-align: top\">1904</td>\n",
       "        <td style=\"padding-left: 1em; padding-right: 1em; text-align: center; vertical-align: top\">0.27584025383</td>\n",
       "        <td style=\"padding-left: 1em; padding-right: 1em; text-align: center; vertical-align: top\">7</td>\n",
       "    </tr>\n",
       "    <tr>\n",
       "        <td style=\"padding-left: 1em; padding-right: 1em; text-align: center; vertical-align: top\">new_user</td>\n",
       "        <td style=\"padding-left: 1em; padding-right: 1em; text-align: center; vertical-align: top\">2093</td>\n",
       "        <td style=\"padding-left: 1em; padding-right: 1em; text-align: center; vertical-align: top\">0.275164802074</td>\n",
       "        <td style=\"padding-left: 1em; padding-right: 1em; text-align: center; vertical-align: top\">8</td>\n",
       "    </tr>\n",
       "    <tr>\n",
       "        <td style=\"padding-left: 1em; padding-right: 1em; text-align: center; vertical-align: top\">new_user</td>\n",
       "        <td style=\"padding-left: 1em; padding-right: 1em; text-align: center; vertical-align: top\">1708</td>\n",
       "        <td style=\"padding-left: 1em; padding-right: 1em; text-align: center; vertical-align: top\">0.271314649582</td>\n",
       "        <td style=\"padding-left: 1em; padding-right: 1em; text-align: center; vertical-align: top\">9</td>\n",
       "    </tr>\n",
       "    <tr>\n",
       "        <td style=\"padding-left: 1em; padding-right: 1em; text-align: center; vertical-align: top\">new_user</td>\n",
       "        <td style=\"padding-left: 1em; padding-right: 1em; text-align: center; vertical-align: top\">1005</td>\n",
       "        <td style=\"padding-left: 1em; padding-right: 1em; text-align: center; vertical-align: top\">0.265215067863</td>\n",
       "        <td style=\"padding-left: 1em; padding-right: 1em; text-align: center; vertical-align: top\">10</td>\n",
       "    </tr>\n",
       "</table>\n",
       "[10 rows x 4 columns]<br/>\n",
       "</div>"
      ],
      "text/plain": [
       "Columns:\n",
       "\treview_profilename\tstr\n",
       "\tbeer_beerid\tstr\n",
       "\tscore\tfloat\n",
       "\trank\tint\n",
       "\n",
       "Rows: 10\n",
       "\n",
       "Data:\n",
       "+--------------------+-------------+----------------+------+\n",
       "| review_profilename | beer_beerid |     score      | rank |\n",
       "+--------------------+-------------+----------------+------+\n",
       "|      new_user      |     4083    | 0.285194417238 |  1   |\n",
       "|      new_user      |     1013    | 0.285081341267 |  2   |\n",
       "|      new_user      |     2671    | 0.279746141434 |  3   |\n",
       "|      new_user      |     412     | 0.278405613899 |  4   |\n",
       "|      new_user      |     680     | 0.278176767826 |  5   |\n",
       "|      new_user      |      88     | 0.277954841852 |  6   |\n",
       "|      new_user      |     1904    | 0.27584025383  |  7   |\n",
       "|      new_user      |     2093    | 0.275164802074 |  8   |\n",
       "|      new_user      |     1708    | 0.271314649582 |  9   |\n",
       "|      new_user      |     1005    | 0.265215067863 |  10  |\n",
       "+--------------------+-------------+----------------+------+\n",
       "[10 rows x 4 columns]"
      ]
     },
     "execution_count": 33,
     "metadata": {},
     "output_type": "execute_result"
    }
   ],
   "source": [
    "modelB.recommend(['new_user'])"
   ]
  },
  {
   "cell_type": "code",
   "execution_count": 48,
   "metadata": {},
   "outputs": [
    {
     "name": "stdout",
     "output_type": "stream",
     "text": [
      "+--------------------+-------------+----------------+------+\n",
      "| review_profilename | beer_beerid |     score      | rank |\n",
      "+--------------------+-------------+----------------+------+\n",
      "|      new_user      |     4083    | 0.285194417238 |  1   |\n",
      "|      new_user      |     1013    | 0.285081341267 |  2   |\n",
      "|      new_user      |     2671    | 0.279746141434 |  3   |\n",
      "|      new_user      |     412     | 0.278405613899 |  4   |\n",
      "|      new_user      |     680     | 0.278176767826 |  5   |\n",
      "|      new_user      |      88     | 0.277954841852 |  6   |\n",
      "|      new_user      |     1904    | 0.27584025383  |  7   |\n",
      "|      new_user      |     2093    | 0.275164802074 |  8   |\n",
      "|      new_user      |     1708    | 0.271314649582 |  9   |\n",
      "|      new_user      |     1005    | 0.265215067863 |  10  |\n",
      "|      new_user      |     131     | 0.26488207221  |  11  |\n",
      "|      new_user      |     3158    | 0.260551185608 |  12  |\n",
      "|      new_user      |      92     | 0.25876611352  |  13  |\n",
      "|      new_user      |     731     | 0.257925332785 |  14  |\n",
      "|      new_user      |      34     | 0.257623400688 |  15  |\n",
      "|      new_user      |     1160    | 0.253615350723 |  16  |\n",
      "|      new_user      |     6108    | 0.25267124176  |  17  |\n",
      "|      new_user      |     1010    | 0.247405537367 |  18  |\n",
      "|      new_user      |     1093    | 0.245025161505 |  19  |\n",
      "|      new_user      |     1056    | 0.243939099312 |  20  |\n",
      "|      new_user      |     141     | 0.242948836088 |  21  |\n",
      "|      new_user      |     8951    | 0.240389561653 |  22  |\n",
      "|      new_user      |     695     | 0.236451209784 |  23  |\n",
      "|      new_user      |     224     | 0.233574011326 |  24  |\n",
      "|      new_user      |    14916    | 0.228549252748 |  25  |\n",
      "+--------------------+-------------+----------------+------+\n",
      "[25 rows x 4 columns]\n",
      "\n"
     ]
    }
   ],
   "source": [
    "recommend1A = modelB.recommend(['new_user'], new_observation_data = user_info, k=25)\n",
    "recommend1A.print_rows(25)"
   ]
  },
  {
   "cell_type": "code",
   "execution_count": 49,
   "metadata": {},
   "outputs": [
    {
     "name": "stdout",
     "output_type": "stream",
     "text": [
      "+--------------------+-------------+----------------+------+\n",
      "| review_profilename | beer_beerid |     score      | rank |\n",
      "+--------------------+-------------+----------------+------+\n",
      "|     new_user2      |     4083    | 0.285194417238 |  1   |\n",
      "|     new_user2      |     1013    | 0.285081341267 |  2   |\n",
      "|     new_user2      |     2671    | 0.279746141434 |  3   |\n",
      "|     new_user2      |     412     | 0.278405613899 |  4   |\n",
      "|     new_user2      |     680     | 0.278176767826 |  5   |\n",
      "|     new_user2      |      88     | 0.277954841852 |  6   |\n",
      "|     new_user2      |     1904    | 0.27584025383  |  7   |\n",
      "|     new_user2      |     2093    | 0.275164802074 |  8   |\n",
      "|     new_user2      |     1708    | 0.271314649582 |  9   |\n",
      "|     new_user2      |     1005    | 0.265215067863 |  10  |\n",
      "|     new_user2      |     131     | 0.26488207221  |  11  |\n",
      "|     new_user2      |     3158    | 0.260551185608 |  12  |\n",
      "|     new_user2      |      92     | 0.25876611352  |  13  |\n",
      "|     new_user2      |     731     | 0.257925332785 |  14  |\n",
      "|     new_user2      |      34     | 0.257623400688 |  15  |\n",
      "|     new_user2      |     1160    | 0.253615350723 |  16  |\n",
      "|     new_user2      |     6108    | 0.25267124176  |  17  |\n",
      "|     new_user2      |     1010    | 0.247405537367 |  18  |\n",
      "|     new_user2      |     1093    | 0.245025161505 |  19  |\n",
      "|     new_user2      |     1056    | 0.243939099312 |  20  |\n",
      "|     new_user2      |     141     | 0.242948836088 |  21  |\n",
      "|     new_user2      |     8951    | 0.240389561653 |  22  |\n",
      "|     new_user2      |     695     | 0.236451209784 |  23  |\n",
      "|     new_user2      |     224     | 0.233574011326 |  24  |\n",
      "|     new_user2      |    14916    | 0.228549252748 |  25  |\n",
      "+--------------------+-------------+----------------+------+\n",
      "[25 rows x 4 columns]\n",
      "\n"
     ]
    }
   ],
   "source": [
    "recommend1AB = modelB.recommend(['new_user2'], new_observation_data = user2_info, k=25)\n",
    "recommend1AB.print_rows(25)"
   ]
  },
  {
   "cell_type": "markdown",
   "metadata": {},
   "source": [
    "#### Same recommendations for all users - try next model"
   ]
  },
  {
   "cell_type": "markdown",
   "metadata": {},
   "source": [
    "## Ranking factorization model with side info"
   ]
  },
  {
   "cell_type": "code",
   "execution_count": 50,
   "metadata": {},
   "outputs": [],
   "source": [
    "# model2 = tr.recommender.ranking_factorization_recommender.create(training_data, user_id='review_profilename', item_id='beer_beerid', user_data = user_info, target='review_overall')"
   ]
  },
  {
   "cell_type": "code",
   "execution_count": 51,
   "metadata": {},
   "outputs": [],
   "source": [
    "# Save model2 - load model2\n",
    "# model2.save('jupyter_folder/item_refactorization_id.model')\n",
    "model2 = tr.load_model('jupyter_folder/item_refactorization_id.model')"
   ]
  },
  {
   "cell_type": "code",
   "execution_count": 52,
   "metadata": {},
   "outputs": [
    {
     "name": "stdout",
     "output_type": "stream",
     "text": [
      "+--------------------+-------------+---------------+------+\n",
      "| review_profilename | beer_beerid |     score     | rank |\n",
      "+--------------------+-------------+---------------+------+\n",
      "|      new_user      |     3158    | 5.55581527581 |  1   |\n",
      "|      new_user      |    15881    | 5.29130519185 |  2   |\n",
      "|      new_user      |    16074    | 5.28387820901 |  3   |\n",
      "|      new_user      |     7971    | 5.28192478245 |  4   |\n",
      "|      new_user      |     355     | 5.25437069496 |  5   |\n",
      "|      new_user      |     1093    | 5.20317984565 |  6   |\n",
      "|      new_user      |     141     | 5.19415288629 |  7   |\n",
      "|      new_user      |     695     | 5.18167821034 |  8   |\n",
      "|      new_user      |     104     | 5.18046423565 |  9   |\n",
      "|      new_user      |    11757    | 5.14191255371 |  10  |\n",
      "|      new_user      |     276     |  5.1368977697 |  11  |\n",
      "|      new_user      |    17112    | 5.12763431093 |  12  |\n",
      "|      new_user      |     571     | 5.10192399574 |  13  |\n",
      "|      new_user      |     6260    | 5.09826186459 |  14  |\n",
      "|      new_user      |      39     | 5.07872560783 |  15  |\n",
      "|      new_user      |    54904    | 5.06615338936 |  16  |\n",
      "|      new_user      |     1904    | 5.05858661034 |  17  |\n",
      "|      new_user      |      88     | 5.03760863321 |  18  |\n",
      "|      new_user      |      34     | 5.03461882992 |  19  |\n",
      "|      new_user      |     226     | 4.99923257572 |  20  |\n",
      "|      new_user      |     1161    | 4.98619609728 |  21  |\n",
      "|      new_user      |     9478    | 4.96214685359 |  22  |\n",
      "|      new_user      |     219     | 4.95550442156 |  23  |\n",
      "|      new_user      |     2512    | 4.94986466891 |  24  |\n",
      "|      new_user      |     680     | 4.93763852931 |  25  |\n",
      "+--------------------+-------------+---------------+------+\n",
      "[25 rows x 4 columns]\n",
      "\n"
     ]
    }
   ],
   "source": [
    "recommend2 = model2.recommend(['new_user'], new_observation_data = user_info, k=25)\n",
    "recommend2.print_rows(25)"
   ]
  },
  {
   "cell_type": "code",
   "execution_count": 53,
   "metadata": {},
   "outputs": [
    {
     "data": {
      "text/plain": [
       "beer_beerid             int64\n",
       "rank                    int64\n",
       "review_profilename     object\n",
       "score                 float64\n",
       "dtype: object"
      ]
     },
     "execution_count": 53,
     "metadata": {},
     "output_type": "execute_result"
    }
   ],
   "source": [
    "recommend2_df = pd.DataFrame(recommend2)\n",
    "recommend2_df['beer_beerid'] = [int(x) for x in recommend2_df['beer_beerid']]\n",
    "recommend2_df.dtypes"
   ]
  },
  {
   "cell_type": "code",
   "execution_count": 54,
   "metadata": {},
   "outputs": [
    {
     "data": {
      "text/html": [
       "<div>\n",
       "<style scoped>\n",
       "    .dataframe tbody tr th:only-of-type {\n",
       "        vertical-align: middle;\n",
       "    }\n",
       "\n",
       "    .dataframe tbody tr th {\n",
       "        vertical-align: top;\n",
       "    }\n",
       "\n",
       "    .dataframe thead th {\n",
       "        text-align: right;\n",
       "    }\n",
       "</style>\n",
       "<table border=\"1\" class=\"dataframe\">\n",
       "  <thead>\n",
       "    <tr style=\"text-align: right;\">\n",
       "      <th></th>\n",
       "      <th>beer_beerid</th>\n",
       "      <th>rank</th>\n",
       "      <th>review_profilename</th>\n",
       "      <th>score</th>\n",
       "      <th>beer_name</th>\n",
       "      <th>brewery_name</th>\n",
       "      <th>review_overall</th>\n",
       "      <th>review_aroma</th>\n",
       "      <th>review_appearance</th>\n",
       "      <th>review_palate</th>\n",
       "      <th>review_taste</th>\n",
       "      <th>beer_abv</th>\n",
       "    </tr>\n",
       "  </thead>\n",
       "  <tbody>\n",
       "    <tr>\n",
       "      <th>0</th>\n",
       "      <td>3158</td>\n",
       "      <td>1</td>\n",
       "      <td>new_user</td>\n",
       "      <td>5.555815</td>\n",
       "      <td>Hop Rod Rye</td>\n",
       "      <td>Bear Republic Brewing Co.</td>\n",
       "      <td>4.217459</td>\n",
       "      <td>4.209880</td>\n",
       "      <td>4.295609</td>\n",
       "      <td>4.225823</td>\n",
       "      <td>4.342394</td>\n",
       "      <td>8.0</td>\n",
       "    </tr>\n",
       "    <tr>\n",
       "      <th>1</th>\n",
       "      <td>15881</td>\n",
       "      <td>2</td>\n",
       "      <td>new_user</td>\n",
       "      <td>5.291305</td>\n",
       "      <td>Tröegs Nugget Nectar</td>\n",
       "      <td>Tröegs Brewing Company</td>\n",
       "      <td>4.395652</td>\n",
       "      <td>4.371100</td>\n",
       "      <td>4.212276</td>\n",
       "      <td>4.198210</td>\n",
       "      <td>4.413555</td>\n",
       "      <td>7.5</td>\n",
       "    </tr>\n",
       "    <tr>\n",
       "      <th>2</th>\n",
       "      <td>16074</td>\n",
       "      <td>3</td>\n",
       "      <td>new_user</td>\n",
       "      <td>5.283878</td>\n",
       "      <td>Founders Red's Rye PA</td>\n",
       "      <td>Founders Brewing Company</td>\n",
       "      <td>4.208541</td>\n",
       "      <td>4.166548</td>\n",
       "      <td>4.186477</td>\n",
       "      <td>4.105338</td>\n",
       "      <td>4.257651</td>\n",
       "      <td>6.6</td>\n",
       "    </tr>\n",
       "    <tr>\n",
       "      <th>3</th>\n",
       "      <td>7971</td>\n",
       "      <td>4</td>\n",
       "      <td>new_user</td>\n",
       "      <td>5.281925</td>\n",
       "      <td>Pliny The Elder</td>\n",
       "      <td>Russian River Brewing Company</td>\n",
       "      <td>4.590028</td>\n",
       "      <td>4.612188</td>\n",
       "      <td>4.388603</td>\n",
       "      <td>4.451326</td>\n",
       "      <td>4.630985</td>\n",
       "      <td>8.0</td>\n",
       "    </tr>\n",
       "    <tr>\n",
       "      <th>4</th>\n",
       "      <td>355</td>\n",
       "      <td>5</td>\n",
       "      <td>new_user</td>\n",
       "      <td>5.254371</td>\n",
       "      <td>Dead Guy Ale</td>\n",
       "      <td>Rogue Ales</td>\n",
       "      <td>4.044987</td>\n",
       "      <td>3.800806</td>\n",
       "      <td>3.892122</td>\n",
       "      <td>3.912936</td>\n",
       "      <td>4.023053</td>\n",
       "      <td>6.5</td>\n",
       "    </tr>\n",
       "    <tr>\n",
       "      <th>5</th>\n",
       "      <td>1093</td>\n",
       "      <td>6</td>\n",
       "      <td>new_user</td>\n",
       "      <td>5.203180</td>\n",
       "      <td>Two Hearted Ale</td>\n",
       "      <td>Bell's Brewery, Inc.</td>\n",
       "      <td>4.329729</td>\n",
       "      <td>4.266496</td>\n",
       "      <td>4.153959</td>\n",
       "      <td>4.138746</td>\n",
       "      <td>4.318915</td>\n",
       "      <td>7.0</td>\n",
       "    </tr>\n",
       "    <tr>\n",
       "      <th>6</th>\n",
       "      <td>141</td>\n",
       "      <td>7</td>\n",
       "      <td>new_user</td>\n",
       "      <td>5.194153</td>\n",
       "      <td>Hennepin (Farmhouse Saison)</td>\n",
       "      <td>Brewery Ommegang</td>\n",
       "      <td>4.250000</td>\n",
       "      <td>4.076902</td>\n",
       "      <td>4.237138</td>\n",
       "      <td>4.127814</td>\n",
       "      <td>4.218917</td>\n",
       "      <td>7.7</td>\n",
       "    </tr>\n",
       "    <tr>\n",
       "      <th>7</th>\n",
       "      <td>695</td>\n",
       "      <td>8</td>\n",
       "      <td>new_user</td>\n",
       "      <td>5.181678</td>\n",
       "      <td>Duvel</td>\n",
       "      <td>Brouwerij Duvel Moortgat NV</td>\n",
       "      <td>4.342245</td>\n",
       "      <td>4.151224</td>\n",
       "      <td>4.512857</td>\n",
       "      <td>4.257347</td>\n",
       "      <td>4.329592</td>\n",
       "      <td>8.5</td>\n",
       "    </tr>\n",
       "    <tr>\n",
       "      <th>8</th>\n",
       "      <td>104</td>\n",
       "      <td>9</td>\n",
       "      <td>new_user</td>\n",
       "      <td>5.180464</td>\n",
       "      <td>Samuel Adams Boston Lager</td>\n",
       "      <td>Boston Beer Company (Samuel Adams)</td>\n",
       "      <td>4.044251</td>\n",
       "      <td>3.663358</td>\n",
       "      <td>3.886476</td>\n",
       "      <td>3.774194</td>\n",
       "      <td>3.872415</td>\n",
       "      <td>4.9</td>\n",
       "    </tr>\n",
       "    <tr>\n",
       "      <th>9</th>\n",
       "      <td>11757</td>\n",
       "      <td>10</td>\n",
       "      <td>new_user</td>\n",
       "      <td>5.141913</td>\n",
       "      <td>Founders Breakfast Stout</td>\n",
       "      <td>Founders Brewing Company</td>\n",
       "      <td>4.354516</td>\n",
       "      <td>4.412070</td>\n",
       "      <td>4.364508</td>\n",
       "      <td>4.387890</td>\n",
       "      <td>4.501199</td>\n",
       "      <td>8.3</td>\n",
       "    </tr>\n",
       "    <tr>\n",
       "      <th>10</th>\n",
       "      <td>276</td>\n",
       "      <td>11</td>\n",
       "      <td>new_user</td>\n",
       "      <td>5.136898</td>\n",
       "      <td>Sierra Nevada Pale Ale</td>\n",
       "      <td>Sierra Nevada Brewing Co.</td>\n",
       "      <td>4.245845</td>\n",
       "      <td>3.915539</td>\n",
       "      <td>3.995168</td>\n",
       "      <td>3.966950</td>\n",
       "      <td>4.115385</td>\n",
       "      <td>5.6</td>\n",
       "    </tr>\n",
       "    <tr>\n",
       "      <th>11</th>\n",
       "      <td>17112</td>\n",
       "      <td>12</td>\n",
       "      <td>new_user</td>\n",
       "      <td>5.127634</td>\n",
       "      <td>Bell's Hopslam Ale</td>\n",
       "      <td>Bell's Brewery, Inc.</td>\n",
       "      <td>4.377609</td>\n",
       "      <td>4.533156</td>\n",
       "      <td>4.242530</td>\n",
       "      <td>4.314368</td>\n",
       "      <td>4.518420</td>\n",
       "      <td>10.0</td>\n",
       "    </tr>\n",
       "    <tr>\n",
       "      <th>12</th>\n",
       "      <td>571</td>\n",
       "      <td>13</td>\n",
       "      <td>new_user</td>\n",
       "      <td>5.101924</td>\n",
       "      <td>Samuel Smith's Oatmeal Stout</td>\n",
       "      <td>Samuel Smith Old Brewery (Tadcaster)</td>\n",
       "      <td>4.240741</td>\n",
       "      <td>4.018272</td>\n",
       "      <td>4.250864</td>\n",
       "      <td>4.200247</td>\n",
       "      <td>4.266667</td>\n",
       "      <td>5.0</td>\n",
       "    </tr>\n",
       "    <tr>\n",
       "      <th>13</th>\n",
       "      <td>6260</td>\n",
       "      <td>14</td>\n",
       "      <td>new_user</td>\n",
       "      <td>5.098262</td>\n",
       "      <td>Punkin Ale</td>\n",
       "      <td>Dogfish Head Brewery</td>\n",
       "      <td>3.856872</td>\n",
       "      <td>3.941288</td>\n",
       "      <td>3.825487</td>\n",
       "      <td>3.820346</td>\n",
       "      <td>3.939394</td>\n",
       "      <td>7.0</td>\n",
       "    </tr>\n",
       "    <tr>\n",
       "      <th>14</th>\n",
       "      <td>39</td>\n",
       "      <td>15</td>\n",
       "      <td>new_user</td>\n",
       "      <td>5.078726</td>\n",
       "      <td>Alpha King Pale Ale</td>\n",
       "      <td>Three Floyds Brewing Co. &amp; Brewpub</td>\n",
       "      <td>4.330176</td>\n",
       "      <td>4.253429</td>\n",
       "      <td>4.118550</td>\n",
       "      <td>4.139778</td>\n",
       "      <td>4.328870</td>\n",
       "      <td>6.0</td>\n",
       "    </tr>\n",
       "    <tr>\n",
       "      <th>15</th>\n",
       "      <td>54904</td>\n",
       "      <td>16</td>\n",
       "      <td>new_user</td>\n",
       "      <td>5.066153</td>\n",
       "      <td>Samuel Adams Noble Pils</td>\n",
       "      <td>Boston Beer Company (Samuel Adams)</td>\n",
       "      <td>4.124626</td>\n",
       "      <td>3.794910</td>\n",
       "      <td>3.891841</td>\n",
       "      <td>3.877994</td>\n",
       "      <td>3.941243</td>\n",
       "      <td>4.9</td>\n",
       "    </tr>\n",
       "    <tr>\n",
       "      <th>16</th>\n",
       "      <td>1904</td>\n",
       "      <td>17</td>\n",
       "      <td>new_user</td>\n",
       "      <td>5.058587</td>\n",
       "      <td>Sierra Nevada Celebration Ale</td>\n",
       "      <td>Sierra Nevada Brewing Co.</td>\n",
       "      <td>4.168667</td>\n",
       "      <td>4.082333</td>\n",
       "      <td>4.225167</td>\n",
       "      <td>4.076000</td>\n",
       "      <td>4.190000</td>\n",
       "      <td>6.8</td>\n",
       "    </tr>\n",
       "    <tr>\n",
       "      <th>17</th>\n",
       "      <td>88</td>\n",
       "      <td>18</td>\n",
       "      <td>new_user</td>\n",
       "      <td>5.037609</td>\n",
       "      <td>Stone IPA (India Pale Ale)</td>\n",
       "      <td>Stone Brewing Co.</td>\n",
       "      <td>4.257670</td>\n",
       "      <td>4.238641</td>\n",
       "      <td>4.135728</td>\n",
       "      <td>4.138252</td>\n",
       "      <td>4.297087</td>\n",
       "      <td>6.9</td>\n",
       "    </tr>\n",
       "    <tr>\n",
       "      <th>18</th>\n",
       "      <td>34</td>\n",
       "      <td>19</td>\n",
       "      <td>new_user</td>\n",
       "      <td>5.034619</td>\n",
       "      <td>La Fin Du Monde</td>\n",
       "      <td>Unibroue</td>\n",
       "      <td>4.298027</td>\n",
       "      <td>4.231977</td>\n",
       "      <td>4.193919</td>\n",
       "      <td>4.264398</td>\n",
       "      <td>4.396093</td>\n",
       "      <td>9.0</td>\n",
       "    </tr>\n",
       "    <tr>\n",
       "      <th>19</th>\n",
       "      <td>226</td>\n",
       "      <td>20</td>\n",
       "      <td>new_user</td>\n",
       "      <td>4.999233</td>\n",
       "      <td>Great Lakes Edmund Fitzgerald Porter</td>\n",
       "      <td>Great Lakes Brewing Company</td>\n",
       "      <td>4.329730</td>\n",
       "      <td>4.178078</td>\n",
       "      <td>4.236036</td>\n",
       "      <td>4.166967</td>\n",
       "      <td>4.369069</td>\n",
       "      <td>5.8</td>\n",
       "    </tr>\n",
       "    <tr>\n",
       "      <th>20</th>\n",
       "      <td>1161</td>\n",
       "      <td>21</td>\n",
       "      <td>new_user</td>\n",
       "      <td>4.986196</td>\n",
       "      <td>Indian Brown Ale</td>\n",
       "      <td>Dogfish Head Brewery</td>\n",
       "      <td>4.034031</td>\n",
       "      <td>4.017743</td>\n",
       "      <td>4.048284</td>\n",
       "      <td>4.000582</td>\n",
       "      <td>4.173357</td>\n",
       "      <td>7.2</td>\n",
       "    </tr>\n",
       "    <tr>\n",
       "      <th>21</th>\n",
       "      <td>9478</td>\n",
       "      <td>22</td>\n",
       "      <td>new_user</td>\n",
       "      <td>4.962147</td>\n",
       "      <td>Gumballhead</td>\n",
       "      <td>Three Floyds Brewing Co. &amp; Brewpub</td>\n",
       "      <td>4.396272</td>\n",
       "      <td>4.237439</td>\n",
       "      <td>3.941248</td>\n",
       "      <td>4.077796</td>\n",
       "      <td>4.247974</td>\n",
       "      <td>4.5</td>\n",
       "    </tr>\n",
       "    <tr>\n",
       "      <th>22</th>\n",
       "      <td>219</td>\n",
       "      <td>23</td>\n",
       "      <td>new_user</td>\n",
       "      <td>4.955504</td>\n",
       "      <td>Fuller's ESB</td>\n",
       "      <td>Fuller Smith &amp; Turner PLC</td>\n",
       "      <td>4.194895</td>\n",
       "      <td>3.912885</td>\n",
       "      <td>4.001216</td>\n",
       "      <td>4.036062</td>\n",
       "      <td>4.130065</td>\n",
       "      <td>5.9</td>\n",
       "    </tr>\n",
       "    <tr>\n",
       "      <th>23</th>\n",
       "      <td>2512</td>\n",
       "      <td>24</td>\n",
       "      <td>new_user</td>\n",
       "      <td>4.949865</td>\n",
       "      <td>Chimay Grande Réserve (Blue)</td>\n",
       "      <td>Bières de Chimay S.A.</td>\n",
       "      <td>4.248631</td>\n",
       "      <td>4.196615</td>\n",
       "      <td>4.209059</td>\n",
       "      <td>4.242658</td>\n",
       "      <td>4.370582</td>\n",
       "      <td>9.0</td>\n",
       "    </tr>\n",
       "    <tr>\n",
       "      <th>24</th>\n",
       "      <td>680</td>\n",
       "      <td>25</td>\n",
       "      <td>new_user</td>\n",
       "      <td>4.937639</td>\n",
       "      <td>Brooklyn Black Chocolate Stout</td>\n",
       "      <td>Brooklyn Brewery</td>\n",
       "      <td>4.032284</td>\n",
       "      <td>4.110544</td>\n",
       "      <td>4.293829</td>\n",
       "      <td>4.165304</td>\n",
       "      <td>4.220883</td>\n",
       "      <td>10.0</td>\n",
       "    </tr>\n",
       "  </tbody>\n",
       "</table>\n",
       "</div>"
      ],
      "text/plain": [
       "    beer_beerid  rank review_profilename     score  \\\n",
       "0          3158     1           new_user  5.555815   \n",
       "1         15881     2           new_user  5.291305   \n",
       "2         16074     3           new_user  5.283878   \n",
       "3          7971     4           new_user  5.281925   \n",
       "4           355     5           new_user  5.254371   \n",
       "5          1093     6           new_user  5.203180   \n",
       "6           141     7           new_user  5.194153   \n",
       "7           695     8           new_user  5.181678   \n",
       "8           104     9           new_user  5.180464   \n",
       "9         11757    10           new_user  5.141913   \n",
       "10          276    11           new_user  5.136898   \n",
       "11        17112    12           new_user  5.127634   \n",
       "12          571    13           new_user  5.101924   \n",
       "13         6260    14           new_user  5.098262   \n",
       "14           39    15           new_user  5.078726   \n",
       "15        54904    16           new_user  5.066153   \n",
       "16         1904    17           new_user  5.058587   \n",
       "17           88    18           new_user  5.037609   \n",
       "18           34    19           new_user  5.034619   \n",
       "19          226    20           new_user  4.999233   \n",
       "20         1161    21           new_user  4.986196   \n",
       "21         9478    22           new_user  4.962147   \n",
       "22          219    23           new_user  4.955504   \n",
       "23         2512    24           new_user  4.949865   \n",
       "24          680    25           new_user  4.937639   \n",
       "\n",
       "                               beer_name  \\\n",
       "0                            Hop Rod Rye   \n",
       "1                   Tröegs Nugget Nectar   \n",
       "2                  Founders Red's Rye PA   \n",
       "3                        Pliny The Elder   \n",
       "4                           Dead Guy Ale   \n",
       "5                        Two Hearted Ale   \n",
       "6            Hennepin (Farmhouse Saison)   \n",
       "7                                  Duvel   \n",
       "8              Samuel Adams Boston Lager   \n",
       "9               Founders Breakfast Stout   \n",
       "10                Sierra Nevada Pale Ale   \n",
       "11                    Bell's Hopslam Ale   \n",
       "12          Samuel Smith's Oatmeal Stout   \n",
       "13                            Punkin Ale   \n",
       "14                   Alpha King Pale Ale   \n",
       "15               Samuel Adams Noble Pils   \n",
       "16         Sierra Nevada Celebration Ale   \n",
       "17            Stone IPA (India Pale Ale)   \n",
       "18                       La Fin Du Monde   \n",
       "19  Great Lakes Edmund Fitzgerald Porter   \n",
       "20                      Indian Brown Ale   \n",
       "21                           Gumballhead   \n",
       "22                          Fuller's ESB   \n",
       "23          Chimay Grande Réserve (Blue)   \n",
       "24        Brooklyn Black Chocolate Stout   \n",
       "\n",
       "                            brewery_name  review_overall  review_aroma  \\\n",
       "0              Bear Republic Brewing Co.        4.217459      4.209880   \n",
       "1                 Tröegs Brewing Company        4.395652      4.371100   \n",
       "2               Founders Brewing Company        4.208541      4.166548   \n",
       "3          Russian River Brewing Company        4.590028      4.612188   \n",
       "4                             Rogue Ales        4.044987      3.800806   \n",
       "5                   Bell's Brewery, Inc.        4.329729      4.266496   \n",
       "6                       Brewery Ommegang        4.250000      4.076902   \n",
       "7            Brouwerij Duvel Moortgat NV        4.342245      4.151224   \n",
       "8     Boston Beer Company (Samuel Adams)        4.044251      3.663358   \n",
       "9               Founders Brewing Company        4.354516      4.412070   \n",
       "10             Sierra Nevada Brewing Co.        4.245845      3.915539   \n",
       "11                  Bell's Brewery, Inc.        4.377609      4.533156   \n",
       "12  Samuel Smith Old Brewery (Tadcaster)        4.240741      4.018272   \n",
       "13                  Dogfish Head Brewery        3.856872      3.941288   \n",
       "14    Three Floyds Brewing Co. & Brewpub        4.330176      4.253429   \n",
       "15    Boston Beer Company (Samuel Adams)        4.124626      3.794910   \n",
       "16             Sierra Nevada Brewing Co.        4.168667      4.082333   \n",
       "17                     Stone Brewing Co.        4.257670      4.238641   \n",
       "18                              Unibroue        4.298027      4.231977   \n",
       "19           Great Lakes Brewing Company        4.329730      4.178078   \n",
       "20                  Dogfish Head Brewery        4.034031      4.017743   \n",
       "21    Three Floyds Brewing Co. & Brewpub        4.396272      4.237439   \n",
       "22             Fuller Smith & Turner PLC        4.194895      3.912885   \n",
       "23                 Bières de Chimay S.A.        4.248631      4.196615   \n",
       "24                      Brooklyn Brewery        4.032284      4.110544   \n",
       "\n",
       "    review_appearance  review_palate  review_taste  beer_abv  \n",
       "0            4.295609       4.225823      4.342394       8.0  \n",
       "1            4.212276       4.198210      4.413555       7.5  \n",
       "2            4.186477       4.105338      4.257651       6.6  \n",
       "3            4.388603       4.451326      4.630985       8.0  \n",
       "4            3.892122       3.912936      4.023053       6.5  \n",
       "5            4.153959       4.138746      4.318915       7.0  \n",
       "6            4.237138       4.127814      4.218917       7.7  \n",
       "7            4.512857       4.257347      4.329592       8.5  \n",
       "8            3.886476       3.774194      3.872415       4.9  \n",
       "9            4.364508       4.387890      4.501199       8.3  \n",
       "10           3.995168       3.966950      4.115385       5.6  \n",
       "11           4.242530       4.314368      4.518420      10.0  \n",
       "12           4.250864       4.200247      4.266667       5.0  \n",
       "13           3.825487       3.820346      3.939394       7.0  \n",
       "14           4.118550       4.139778      4.328870       6.0  \n",
       "15           3.891841       3.877994      3.941243       4.9  \n",
       "16           4.225167       4.076000      4.190000       6.8  \n",
       "17           4.135728       4.138252      4.297087       6.9  \n",
       "18           4.193919       4.264398      4.396093       9.0  \n",
       "19           4.236036       4.166967      4.369069       5.8  \n",
       "20           4.048284       4.000582      4.173357       7.2  \n",
       "21           3.941248       4.077796      4.247974       4.5  \n",
       "22           4.001216       4.036062      4.130065       5.9  \n",
       "23           4.209059       4.242658      4.370582       9.0  \n",
       "24           4.293829       4.165304      4.220883      10.0  "
      ]
     },
     "execution_count": 54,
     "metadata": {},
     "output_type": "execute_result"
    }
   ],
   "source": [
    "recommend2_df = findBeers(recommend2_df)\n",
    "recommend2_df"
   ]
  },
  {
   "cell_type": "code",
   "execution_count": 55,
   "metadata": {},
   "outputs": [
    {
     "name": "stdout",
     "output_type": "stream",
     "text": [
      "+--------------------+-------------+---------------+------+\n",
      "| review_profilename | beer_beerid |     score     | rank |\n",
      "+--------------------+-------------+---------------+------+\n",
      "|     new_user2      |     3158    |  5.5556833192 |  1   |\n",
      "|     new_user2      |     412     | 5.29805082523 |  2   |\n",
      "|     new_user2      |    15881    | 5.29117650234 |  3   |\n",
      "|     new_user2      |    16074    | 5.28375119411 |  4   |\n",
      "|     new_user2      |     7971    | 5.28180450641 |  5   |\n",
      "|     new_user2      |     355     | 5.25423151695 |  6   |\n",
      "|     new_user2      |     1093    | 5.20304376327 |  7   |\n",
      "|     new_user2      |     141     | 5.19400400363 |  8   |\n",
      "|     new_user2      |     695     | 5.18153220855 |  9   |\n",
      "|     new_user2      |     104     | 5.18031937324 |  10  |\n",
      "|     new_user2      |     731     | 5.15118915283 |  11  |\n",
      "|     new_user2      |    11757    | 5.14177972518 |  12  |\n",
      "|     new_user2      |     276     | 5.13676816665 |  13  |\n",
      "|     new_user2      |    17112    | 5.12750906192 |  14  |\n",
      "|     new_user2      |     131     | 5.12431246482 |  15  |\n",
      "|     new_user2      |     6108    | 5.11211771213 |  16  |\n",
      "|     new_user2      |     1010    | 5.11064166271 |  17  |\n",
      "|     new_user2      |     2093    | 5.10617846691 |  18  |\n",
      "|     new_user2      |     571     | 5.10178310119 |  19  |\n",
      "|     new_user2      |     6260    | 5.09814018451 |  20  |\n",
      "|     new_user2      |      92     | 5.08524018966 |  21  |\n",
      "|     new_user2      |      39     | 5.07858998024 |  22  |\n",
      "|     new_user2      |     645     |  5.0665577098 |  23  |\n",
      "|     new_user2      |    54904    | 5.06602234088 |  24  |\n",
      "|     new_user2      |     1904    | 5.05846947872 |  25  |\n",
      "+--------------------+-------------+---------------+------+\n",
      "[25 rows x 4 columns]\n",
      "\n"
     ]
    }
   ],
   "source": [
    "recommend2B = model2.recommend(['new_user2'], new_observation_data = user2_info, k=25)\n",
    "recommend2B.print_rows(25)"
   ]
  },
  {
   "cell_type": "code",
   "execution_count": 56,
   "metadata": {},
   "outputs": [
    {
     "data": {
      "text/plain": [
       "beer_beerid             int64\n",
       "rank                    int64\n",
       "review_profilename     object\n",
       "score                 float64\n",
       "dtype: object"
      ]
     },
     "execution_count": 56,
     "metadata": {},
     "output_type": "execute_result"
    }
   ],
   "source": [
    "recommend2B_df = pd.DataFrame(recommend2B)\n",
    "recommend2B_df['beer_beerid'] = [int(x) for x in recommend2B_df['beer_beerid']]\n",
    "recommend2B_df.dtypes"
   ]
  },
  {
   "cell_type": "code",
   "execution_count": 57,
   "metadata": {},
   "outputs": [
    {
     "data": {
      "text/html": [
       "<div>\n",
       "<style scoped>\n",
       "    .dataframe tbody tr th:only-of-type {\n",
       "        vertical-align: middle;\n",
       "    }\n",
       "\n",
       "    .dataframe tbody tr th {\n",
       "        vertical-align: top;\n",
       "    }\n",
       "\n",
       "    .dataframe thead th {\n",
       "        text-align: right;\n",
       "    }\n",
       "</style>\n",
       "<table border=\"1\" class=\"dataframe\">\n",
       "  <thead>\n",
       "    <tr style=\"text-align: right;\">\n",
       "      <th></th>\n",
       "      <th>beer_beerid</th>\n",
       "      <th>rank</th>\n",
       "      <th>review_profilename</th>\n",
       "      <th>score</th>\n",
       "      <th>beer_name</th>\n",
       "      <th>brewery_name</th>\n",
       "      <th>review_overall</th>\n",
       "      <th>review_aroma</th>\n",
       "      <th>review_appearance</th>\n",
       "      <th>review_palate</th>\n",
       "      <th>review_taste</th>\n",
       "      <th>beer_abv</th>\n",
       "    </tr>\n",
       "  </thead>\n",
       "  <tbody>\n",
       "    <tr>\n",
       "      <th>0</th>\n",
       "      <td>3158</td>\n",
       "      <td>1</td>\n",
       "      <td>new_user2</td>\n",
       "      <td>5.555683</td>\n",
       "      <td>Hop Rod Rye</td>\n",
       "      <td>Bear Republic Brewing Co.</td>\n",
       "      <td>4.217459</td>\n",
       "      <td>4.209880</td>\n",
       "      <td>4.295609</td>\n",
       "      <td>4.225823</td>\n",
       "      <td>4.342394</td>\n",
       "      <td>8.0</td>\n",
       "    </tr>\n",
       "    <tr>\n",
       "      <th>1</th>\n",
       "      <td>412</td>\n",
       "      <td>2</td>\n",
       "      <td>new_user2</td>\n",
       "      <td>5.298051</td>\n",
       "      <td>Old Rasputin Russian Imperial Stout</td>\n",
       "      <td>North Coast Brewing Co.</td>\n",
       "      <td>4.174221</td>\n",
       "      <td>4.198650</td>\n",
       "      <td>4.373995</td>\n",
       "      <td>4.231758</td>\n",
       "      <td>4.342173</td>\n",
       "      <td>9.0</td>\n",
       "    </tr>\n",
       "    <tr>\n",
       "      <th>2</th>\n",
       "      <td>15881</td>\n",
       "      <td>3</td>\n",
       "      <td>new_user2</td>\n",
       "      <td>5.291177</td>\n",
       "      <td>Tröegs Nugget Nectar</td>\n",
       "      <td>Tröegs Brewing Company</td>\n",
       "      <td>4.395652</td>\n",
       "      <td>4.371100</td>\n",
       "      <td>4.212276</td>\n",
       "      <td>4.198210</td>\n",
       "      <td>4.413555</td>\n",
       "      <td>7.5</td>\n",
       "    </tr>\n",
       "    <tr>\n",
       "      <th>3</th>\n",
       "      <td>16074</td>\n",
       "      <td>4</td>\n",
       "      <td>new_user2</td>\n",
       "      <td>5.283751</td>\n",
       "      <td>Founders Red's Rye PA</td>\n",
       "      <td>Founders Brewing Company</td>\n",
       "      <td>4.208541</td>\n",
       "      <td>4.166548</td>\n",
       "      <td>4.186477</td>\n",
       "      <td>4.105338</td>\n",
       "      <td>4.257651</td>\n",
       "      <td>6.6</td>\n",
       "    </tr>\n",
       "    <tr>\n",
       "      <th>4</th>\n",
       "      <td>7971</td>\n",
       "      <td>5</td>\n",
       "      <td>new_user2</td>\n",
       "      <td>5.281805</td>\n",
       "      <td>Pliny The Elder</td>\n",
       "      <td>Russian River Brewing Company</td>\n",
       "      <td>4.590028</td>\n",
       "      <td>4.612188</td>\n",
       "      <td>4.388603</td>\n",
       "      <td>4.451326</td>\n",
       "      <td>4.630985</td>\n",
       "      <td>8.0</td>\n",
       "    </tr>\n",
       "    <tr>\n",
       "      <th>5</th>\n",
       "      <td>355</td>\n",
       "      <td>6</td>\n",
       "      <td>new_user2</td>\n",
       "      <td>5.254232</td>\n",
       "      <td>Dead Guy Ale</td>\n",
       "      <td>Rogue Ales</td>\n",
       "      <td>4.044987</td>\n",
       "      <td>3.800806</td>\n",
       "      <td>3.892122</td>\n",
       "      <td>3.912936</td>\n",
       "      <td>4.023053</td>\n",
       "      <td>6.5</td>\n",
       "    </tr>\n",
       "    <tr>\n",
       "      <th>6</th>\n",
       "      <td>1093</td>\n",
       "      <td>7</td>\n",
       "      <td>new_user2</td>\n",
       "      <td>5.203044</td>\n",
       "      <td>Two Hearted Ale</td>\n",
       "      <td>Bell's Brewery, Inc.</td>\n",
       "      <td>4.329729</td>\n",
       "      <td>4.266496</td>\n",
       "      <td>4.153959</td>\n",
       "      <td>4.138746</td>\n",
       "      <td>4.318915</td>\n",
       "      <td>7.0</td>\n",
       "    </tr>\n",
       "    <tr>\n",
       "      <th>7</th>\n",
       "      <td>141</td>\n",
       "      <td>8</td>\n",
       "      <td>new_user2</td>\n",
       "      <td>5.194004</td>\n",
       "      <td>Hennepin (Farmhouse Saison)</td>\n",
       "      <td>Brewery Ommegang</td>\n",
       "      <td>4.250000</td>\n",
       "      <td>4.076902</td>\n",
       "      <td>4.237138</td>\n",
       "      <td>4.127814</td>\n",
       "      <td>4.218917</td>\n",
       "      <td>7.7</td>\n",
       "    </tr>\n",
       "    <tr>\n",
       "      <th>8</th>\n",
       "      <td>695</td>\n",
       "      <td>9</td>\n",
       "      <td>new_user2</td>\n",
       "      <td>5.181532</td>\n",
       "      <td>Duvel</td>\n",
       "      <td>Brouwerij Duvel Moortgat NV</td>\n",
       "      <td>4.342245</td>\n",
       "      <td>4.151224</td>\n",
       "      <td>4.512857</td>\n",
       "      <td>4.257347</td>\n",
       "      <td>4.329592</td>\n",
       "      <td>8.5</td>\n",
       "    </tr>\n",
       "    <tr>\n",
       "      <th>9</th>\n",
       "      <td>104</td>\n",
       "      <td>10</td>\n",
       "      <td>new_user2</td>\n",
       "      <td>5.180319</td>\n",
       "      <td>Samuel Adams Boston Lager</td>\n",
       "      <td>Boston Beer Company (Samuel Adams)</td>\n",
       "      <td>4.044251</td>\n",
       "      <td>3.663358</td>\n",
       "      <td>3.886476</td>\n",
       "      <td>3.774194</td>\n",
       "      <td>3.872415</td>\n",
       "      <td>4.9</td>\n",
       "    </tr>\n",
       "    <tr>\n",
       "      <th>10</th>\n",
       "      <td>731</td>\n",
       "      <td>11</td>\n",
       "      <td>new_user2</td>\n",
       "      <td>5.151189</td>\n",
       "      <td>Weihenstephaner Hefeweissbier</td>\n",
       "      <td>Bayerische Staatsbrauerei Weihenstephan</td>\n",
       "      <td>4.515901</td>\n",
       "      <td>4.296315</td>\n",
       "      <td>4.380363</td>\n",
       "      <td>4.283190</td>\n",
       "      <td>4.425038</td>\n",
       "      <td>5.4</td>\n",
       "    </tr>\n",
       "    <tr>\n",
       "      <th>11</th>\n",
       "      <td>11757</td>\n",
       "      <td>12</td>\n",
       "      <td>new_user2</td>\n",
       "      <td>5.141780</td>\n",
       "      <td>Founders Breakfast Stout</td>\n",
       "      <td>Founders Brewing Company</td>\n",
       "      <td>4.354516</td>\n",
       "      <td>4.412070</td>\n",
       "      <td>4.364508</td>\n",
       "      <td>4.387890</td>\n",
       "      <td>4.501199</td>\n",
       "      <td>8.3</td>\n",
       "    </tr>\n",
       "    <tr>\n",
       "      <th>12</th>\n",
       "      <td>276</td>\n",
       "      <td>13</td>\n",
       "      <td>new_user2</td>\n",
       "      <td>5.136768</td>\n",
       "      <td>Sierra Nevada Pale Ale</td>\n",
       "      <td>Sierra Nevada Brewing Co.</td>\n",
       "      <td>4.245845</td>\n",
       "      <td>3.915539</td>\n",
       "      <td>3.995168</td>\n",
       "      <td>3.966950</td>\n",
       "      <td>4.115385</td>\n",
       "      <td>5.6</td>\n",
       "    </tr>\n",
       "    <tr>\n",
       "      <th>13</th>\n",
       "      <td>17112</td>\n",
       "      <td>14</td>\n",
       "      <td>new_user2</td>\n",
       "      <td>5.127509</td>\n",
       "      <td>Bell's Hopslam Ale</td>\n",
       "      <td>Bell's Brewery, Inc.</td>\n",
       "      <td>4.377609</td>\n",
       "      <td>4.533156</td>\n",
       "      <td>4.242530</td>\n",
       "      <td>4.314368</td>\n",
       "      <td>4.518420</td>\n",
       "      <td>10.0</td>\n",
       "    </tr>\n",
       "    <tr>\n",
       "      <th>14</th>\n",
       "      <td>131</td>\n",
       "      <td>15</td>\n",
       "      <td>new_user2</td>\n",
       "      <td>5.124312</td>\n",
       "      <td>Ayinger Celebrator Doppelbock</td>\n",
       "      <td>Privatbrauerei Franz Inselkammer KG / Brauerei...</td>\n",
       "      <td>4.299275</td>\n",
       "      <td>4.244203</td>\n",
       "      <td>4.253865</td>\n",
       "      <td>4.304348</td>\n",
       "      <td>4.428502</td>\n",
       "      <td>6.7</td>\n",
       "    </tr>\n",
       "    <tr>\n",
       "      <th>15</th>\n",
       "      <td>6108</td>\n",
       "      <td>16</td>\n",
       "      <td>new_user2</td>\n",
       "      <td>5.112118</td>\n",
       "      <td>60 Minute IPA</td>\n",
       "      <td>Dogfish Head Brewery</td>\n",
       "      <td>4.172727</td>\n",
       "      <td>3.996768</td>\n",
       "      <td>3.966061</td>\n",
       "      <td>4.006667</td>\n",
       "      <td>4.118990</td>\n",
       "      <td>6.0</td>\n",
       "    </tr>\n",
       "    <tr>\n",
       "      <th>16</th>\n",
       "      <td>1010</td>\n",
       "      <td>17</td>\n",
       "      <td>new_user2</td>\n",
       "      <td>5.110642</td>\n",
       "      <td>Prima Pils</td>\n",
       "      <td>Victory Brewing Company</td>\n",
       "      <td>4.242083</td>\n",
       "      <td>3.938808</td>\n",
       "      <td>3.952764</td>\n",
       "      <td>4.011809</td>\n",
       "      <td>4.124799</td>\n",
       "      <td>5.3</td>\n",
       "    </tr>\n",
       "    <tr>\n",
       "      <th>17</th>\n",
       "      <td>2093</td>\n",
       "      <td>18</td>\n",
       "      <td>new_user2</td>\n",
       "      <td>5.106178</td>\n",
       "      <td>90 Minute IPA</td>\n",
       "      <td>Dogfish Head Brewery</td>\n",
       "      <td>4.145745</td>\n",
       "      <td>4.213526</td>\n",
       "      <td>4.192097</td>\n",
       "      <td>4.181763</td>\n",
       "      <td>4.325988</td>\n",
       "      <td>9.0</td>\n",
       "    </tr>\n",
       "    <tr>\n",
       "      <th>18</th>\n",
       "      <td>571</td>\n",
       "      <td>19</td>\n",
       "      <td>new_user2</td>\n",
       "      <td>5.101783</td>\n",
       "      <td>Samuel Smith's Oatmeal Stout</td>\n",
       "      <td>Samuel Smith Old Brewery (Tadcaster)</td>\n",
       "      <td>4.240741</td>\n",
       "      <td>4.018272</td>\n",
       "      <td>4.250864</td>\n",
       "      <td>4.200247</td>\n",
       "      <td>4.266667</td>\n",
       "      <td>5.0</td>\n",
       "    </tr>\n",
       "    <tr>\n",
       "      <th>19</th>\n",
       "      <td>6260</td>\n",
       "      <td>20</td>\n",
       "      <td>new_user2</td>\n",
       "      <td>5.098140</td>\n",
       "      <td>Punkin Ale</td>\n",
       "      <td>Dogfish Head Brewery</td>\n",
       "      <td>3.856872</td>\n",
       "      <td>3.941288</td>\n",
       "      <td>3.825487</td>\n",
       "      <td>3.820346</td>\n",
       "      <td>3.939394</td>\n",
       "      <td>7.0</td>\n",
       "    </tr>\n",
       "    <tr>\n",
       "      <th>20</th>\n",
       "      <td>92</td>\n",
       "      <td>21</td>\n",
       "      <td>new_user2</td>\n",
       "      <td>5.085240</td>\n",
       "      <td>Arrogant Bastard Ale</td>\n",
       "      <td>Stone Brewing Co.</td>\n",
       "      <td>4.078402</td>\n",
       "      <td>4.119268</td>\n",
       "      <td>4.296413</td>\n",
       "      <td>4.143121</td>\n",
       "      <td>4.278846</td>\n",
       "      <td>7.2</td>\n",
       "    </tr>\n",
       "    <tr>\n",
       "      <th>21</th>\n",
       "      <td>39</td>\n",
       "      <td>22</td>\n",
       "      <td>new_user2</td>\n",
       "      <td>5.078590</td>\n",
       "      <td>Alpha King Pale Ale</td>\n",
       "      <td>Three Floyds Brewing Co. &amp; Brewpub</td>\n",
       "      <td>4.330176</td>\n",
       "      <td>4.253429</td>\n",
       "      <td>4.118550</td>\n",
       "      <td>4.139778</td>\n",
       "      <td>4.328870</td>\n",
       "      <td>6.0</td>\n",
       "    </tr>\n",
       "    <tr>\n",
       "      <th>22</th>\n",
       "      <td>645</td>\n",
       "      <td>23</td>\n",
       "      <td>new_user2</td>\n",
       "      <td>5.066558</td>\n",
       "      <td>Trappistes Rochefort 10</td>\n",
       "      <td>Brasserie de Rochefort</td>\n",
       "      <td>4.339401</td>\n",
       "      <td>4.418664</td>\n",
       "      <td>4.344931</td>\n",
       "      <td>4.430876</td>\n",
       "      <td>4.543548</td>\n",
       "      <td>11.3</td>\n",
       "    </tr>\n",
       "    <tr>\n",
       "      <th>23</th>\n",
       "      <td>54904</td>\n",
       "      <td>24</td>\n",
       "      <td>new_user2</td>\n",
       "      <td>5.066022</td>\n",
       "      <td>Samuel Adams Noble Pils</td>\n",
       "      <td>Boston Beer Company (Samuel Adams)</td>\n",
       "      <td>4.124626</td>\n",
       "      <td>3.794910</td>\n",
       "      <td>3.891841</td>\n",
       "      <td>3.877994</td>\n",
       "      <td>3.941243</td>\n",
       "      <td>4.9</td>\n",
       "    </tr>\n",
       "    <tr>\n",
       "      <th>24</th>\n",
       "      <td>1904</td>\n",
       "      <td>25</td>\n",
       "      <td>new_user2</td>\n",
       "      <td>5.058469</td>\n",
       "      <td>Sierra Nevada Celebration Ale</td>\n",
       "      <td>Sierra Nevada Brewing Co.</td>\n",
       "      <td>4.168667</td>\n",
       "      <td>4.082333</td>\n",
       "      <td>4.225167</td>\n",
       "      <td>4.076000</td>\n",
       "      <td>4.190000</td>\n",
       "      <td>6.8</td>\n",
       "    </tr>\n",
       "  </tbody>\n",
       "</table>\n",
       "</div>"
      ],
      "text/plain": [
       "    beer_beerid  rank review_profilename     score  \\\n",
       "0          3158     1          new_user2  5.555683   \n",
       "1           412     2          new_user2  5.298051   \n",
       "2         15881     3          new_user2  5.291177   \n",
       "3         16074     4          new_user2  5.283751   \n",
       "4          7971     5          new_user2  5.281805   \n",
       "5           355     6          new_user2  5.254232   \n",
       "6          1093     7          new_user2  5.203044   \n",
       "7           141     8          new_user2  5.194004   \n",
       "8           695     9          new_user2  5.181532   \n",
       "9           104    10          new_user2  5.180319   \n",
       "10          731    11          new_user2  5.151189   \n",
       "11        11757    12          new_user2  5.141780   \n",
       "12          276    13          new_user2  5.136768   \n",
       "13        17112    14          new_user2  5.127509   \n",
       "14          131    15          new_user2  5.124312   \n",
       "15         6108    16          new_user2  5.112118   \n",
       "16         1010    17          new_user2  5.110642   \n",
       "17         2093    18          new_user2  5.106178   \n",
       "18          571    19          new_user2  5.101783   \n",
       "19         6260    20          new_user2  5.098140   \n",
       "20           92    21          new_user2  5.085240   \n",
       "21           39    22          new_user2  5.078590   \n",
       "22          645    23          new_user2  5.066558   \n",
       "23        54904    24          new_user2  5.066022   \n",
       "24         1904    25          new_user2  5.058469   \n",
       "\n",
       "                              beer_name  \\\n",
       "0                           Hop Rod Rye   \n",
       "1   Old Rasputin Russian Imperial Stout   \n",
       "2                  Tröegs Nugget Nectar   \n",
       "3                 Founders Red's Rye PA   \n",
       "4                       Pliny The Elder   \n",
       "5                          Dead Guy Ale   \n",
       "6                       Two Hearted Ale   \n",
       "7           Hennepin (Farmhouse Saison)   \n",
       "8                                 Duvel   \n",
       "9             Samuel Adams Boston Lager   \n",
       "10        Weihenstephaner Hefeweissbier   \n",
       "11             Founders Breakfast Stout   \n",
       "12               Sierra Nevada Pale Ale   \n",
       "13                   Bell's Hopslam Ale   \n",
       "14        Ayinger Celebrator Doppelbock   \n",
       "15                        60 Minute IPA   \n",
       "16                           Prima Pils   \n",
       "17                        90 Minute IPA   \n",
       "18         Samuel Smith's Oatmeal Stout   \n",
       "19                           Punkin Ale   \n",
       "20                 Arrogant Bastard Ale   \n",
       "21                  Alpha King Pale Ale   \n",
       "22              Trappistes Rochefort 10   \n",
       "23              Samuel Adams Noble Pils   \n",
       "24        Sierra Nevada Celebration Ale   \n",
       "\n",
       "                                         brewery_name  review_overall  \\\n",
       "0                           Bear Republic Brewing Co.        4.217459   \n",
       "1                             North Coast Brewing Co.        4.174221   \n",
       "2                              Tröegs Brewing Company        4.395652   \n",
       "3                            Founders Brewing Company        4.208541   \n",
       "4                       Russian River Brewing Company        4.590028   \n",
       "5                                          Rogue Ales        4.044987   \n",
       "6                                Bell's Brewery, Inc.        4.329729   \n",
       "7                                    Brewery Ommegang        4.250000   \n",
       "8                         Brouwerij Duvel Moortgat NV        4.342245   \n",
       "9                  Boston Beer Company (Samuel Adams)        4.044251   \n",
       "10            Bayerische Staatsbrauerei Weihenstephan        4.515901   \n",
       "11                           Founders Brewing Company        4.354516   \n",
       "12                          Sierra Nevada Brewing Co.        4.245845   \n",
       "13                               Bell's Brewery, Inc.        4.377609   \n",
       "14  Privatbrauerei Franz Inselkammer KG / Brauerei...        4.299275   \n",
       "15                               Dogfish Head Brewery        4.172727   \n",
       "16                            Victory Brewing Company        4.242083   \n",
       "17                               Dogfish Head Brewery        4.145745   \n",
       "18               Samuel Smith Old Brewery (Tadcaster)        4.240741   \n",
       "19                               Dogfish Head Brewery        3.856872   \n",
       "20                                  Stone Brewing Co.        4.078402   \n",
       "21                 Three Floyds Brewing Co. & Brewpub        4.330176   \n",
       "22                             Brasserie de Rochefort        4.339401   \n",
       "23                 Boston Beer Company (Samuel Adams)        4.124626   \n",
       "24                          Sierra Nevada Brewing Co.        4.168667   \n",
       "\n",
       "    review_aroma  review_appearance  review_palate  review_taste  beer_abv  \n",
       "0       4.209880           4.295609       4.225823      4.342394       8.0  \n",
       "1       4.198650           4.373995       4.231758      4.342173       9.0  \n",
       "2       4.371100           4.212276       4.198210      4.413555       7.5  \n",
       "3       4.166548           4.186477       4.105338      4.257651       6.6  \n",
       "4       4.612188           4.388603       4.451326      4.630985       8.0  \n",
       "5       3.800806           3.892122       3.912936      4.023053       6.5  \n",
       "6       4.266496           4.153959       4.138746      4.318915       7.0  \n",
       "7       4.076902           4.237138       4.127814      4.218917       7.7  \n",
       "8       4.151224           4.512857       4.257347      4.329592       8.5  \n",
       "9       3.663358           3.886476       3.774194      3.872415       4.9  \n",
       "10      4.296315           4.380363       4.283190      4.425038       5.4  \n",
       "11      4.412070           4.364508       4.387890      4.501199       8.3  \n",
       "12      3.915539           3.995168       3.966950      4.115385       5.6  \n",
       "13      4.533156           4.242530       4.314368      4.518420      10.0  \n",
       "14      4.244203           4.253865       4.304348      4.428502       6.7  \n",
       "15      3.996768           3.966061       4.006667      4.118990       6.0  \n",
       "16      3.938808           3.952764       4.011809      4.124799       5.3  \n",
       "17      4.213526           4.192097       4.181763      4.325988       9.0  \n",
       "18      4.018272           4.250864       4.200247      4.266667       5.0  \n",
       "19      3.941288           3.825487       3.820346      3.939394       7.0  \n",
       "20      4.119268           4.296413       4.143121      4.278846       7.2  \n",
       "21      4.253429           4.118550       4.139778      4.328870       6.0  \n",
       "22      4.418664           4.344931       4.430876      4.543548      11.3  \n",
       "23      3.794910           3.891841       3.877994      3.941243       4.9  \n",
       "24      4.082333           4.225167       4.076000      4.190000       6.8  "
      ]
     },
     "execution_count": 57,
     "metadata": {},
     "output_type": "execute_result"
    }
   ],
   "source": [
    "recommend2B_df = findBeers(recommend2B_df)\n",
    "recommend2B_df"
   ]
  },
  {
   "cell_type": "markdown",
   "metadata": {},
   "source": [
    "#### Still getting same recommendations per user -  try another model"
   ]
  },
  {
   "cell_type": "markdown",
   "metadata": {},
   "source": [
    "## Ranking factorization w/o side info"
   ]
  },
  {
   "cell_type": "code",
   "execution_count": 58,
   "metadata": {},
   "outputs": [],
   "source": [
    "# model3 = tr.recommender.ranking_factorization_recommender.create(training_data, user_id='review_profilename', item_id='beer_beerid', target='review_overall')"
   ]
  },
  {
   "cell_type": "code",
   "execution_count": 59,
   "metadata": {},
   "outputs": [],
   "source": [
    "# Save model3 - load model\n",
    "# model3.save('jupyter_folder/item_refactorization_id2.model')\n",
    "model3 = tr.load_model('jupyter_folder/item_refactorization_id2.model')"
   ]
  },
  {
   "cell_type": "code",
   "execution_count": 60,
   "metadata": {},
   "outputs": [
    {
     "name": "stdout",
     "output_type": "stream",
     "text": [
      "+--------------------+-------------+---------------+------+\n",
      "| review_profilename | beer_beerid |     score     | rank |\n",
      "+--------------------+-------------+---------------+------+\n",
      "|      new_user      |     3158    |  5.5154864236 |  1   |\n",
      "|      new_user      |      92     | 5.35012191974 |  2   |\n",
      "|      new_user      |     731     | 5.34747571193 |  3   |\n",
      "|      new_user      |     104     | 5.28225380622 |  4   |\n",
      "|      new_user      |     695     | 5.22315556251 |  5   |\n",
      "|      new_user      |     1093    | 5.20636386119 |  6   |\n",
      "|      new_user      |    16074    | 5.18334192478 |  7   |\n",
      "|      new_user      |      34     | 5.17069274627 |  8   |\n",
      "|      new_user      |    15881    | 5.15292233669 |  9   |\n",
      "|      new_user      |     276     | 5.14743215286 |  10  |\n",
      "|      new_user      |     412     | 5.13241380893 |  11  |\n",
      "|      new_user      |     131     | 5.10829359733 |  12  |\n",
      "|      new_user      |     224     |  5.1037619754 |  13  |\n",
      "|      new_user      |     2093    | 5.09057563983 |  14  |\n",
      "|      new_user      |     7971    | 5.08796102249 |  15  |\n",
      "|      new_user      |     1708    | 5.07119757377 |  16  |\n",
      "|      new_user      |     2512    | 5.07078737461 |  17  |\n",
      "|      new_user      |      88     | 5.07005447589 |  18  |\n",
      "|      new_user      |     1010    | 5.06433064186 |  19  |\n",
      "|      new_user      |     355     | 5.05971616947 |  20  |\n",
      "|      new_user      |     645     | 5.05336481773 |  21  |\n",
      "|      new_user      |     141     | 5.04857987606 |  22  |\n",
      "|      new_user      |     1545    | 4.99176258289 |  23  |\n",
      "|      new_user      |     1160    |  4.975081627  |  24  |\n",
      "|      new_user      |    54904    | 4.97371095859 |  25  |\n",
      "+--------------------+-------------+---------------+------+\n",
      "[25 rows x 4 columns]\n",
      "\n"
     ]
    }
   ],
   "source": [
    "recommend3 = model3.recommend(['new_user'], new_observation_data = user_info, k=25)\n",
    "recommend3.print_rows(25)"
   ]
  },
  {
   "cell_type": "code",
   "execution_count": 61,
   "metadata": {},
   "outputs": [
    {
     "data": {
      "text/html": [
       "<div>\n",
       "<style scoped>\n",
       "    .dataframe tbody tr th:only-of-type {\n",
       "        vertical-align: middle;\n",
       "    }\n",
       "\n",
       "    .dataframe tbody tr th {\n",
       "        vertical-align: top;\n",
       "    }\n",
       "\n",
       "    .dataframe thead th {\n",
       "        text-align: right;\n",
       "    }\n",
       "</style>\n",
       "<table border=\"1\" class=\"dataframe\">\n",
       "  <thead>\n",
       "    <tr style=\"text-align: right;\">\n",
       "      <th></th>\n",
       "      <th>beer_beerid</th>\n",
       "      <th>rank</th>\n",
       "      <th>review_profilename</th>\n",
       "      <th>score</th>\n",
       "      <th>beer_name</th>\n",
       "      <th>brewery_name</th>\n",
       "      <th>review_overall</th>\n",
       "      <th>review_aroma</th>\n",
       "      <th>review_appearance</th>\n",
       "      <th>review_palate</th>\n",
       "      <th>review_taste</th>\n",
       "      <th>beer_abv</th>\n",
       "    </tr>\n",
       "  </thead>\n",
       "  <tbody>\n",
       "    <tr>\n",
       "      <th>0</th>\n",
       "      <td>3158</td>\n",
       "      <td>1</td>\n",
       "      <td>new_user</td>\n",
       "      <td>5.515486</td>\n",
       "      <td>Hop Rod Rye</td>\n",
       "      <td>Bear Republic Brewing Co.</td>\n",
       "      <td>4.217459</td>\n",
       "      <td>4.209880</td>\n",
       "      <td>4.295609</td>\n",
       "      <td>4.225823</td>\n",
       "      <td>4.342394</td>\n",
       "      <td>8.0</td>\n",
       "    </tr>\n",
       "    <tr>\n",
       "      <th>1</th>\n",
       "      <td>92</td>\n",
       "      <td>2</td>\n",
       "      <td>new_user</td>\n",
       "      <td>5.350122</td>\n",
       "      <td>Arrogant Bastard Ale</td>\n",
       "      <td>Stone Brewing Co.</td>\n",
       "      <td>4.078402</td>\n",
       "      <td>4.119268</td>\n",
       "      <td>4.296413</td>\n",
       "      <td>4.143121</td>\n",
       "      <td>4.278846</td>\n",
       "      <td>7.2</td>\n",
       "    </tr>\n",
       "    <tr>\n",
       "      <th>2</th>\n",
       "      <td>731</td>\n",
       "      <td>3</td>\n",
       "      <td>new_user</td>\n",
       "      <td>5.347476</td>\n",
       "      <td>Weihenstephaner Hefeweissbier</td>\n",
       "      <td>Bayerische Staatsbrauerei Weihenstephan</td>\n",
       "      <td>4.515901</td>\n",
       "      <td>4.296315</td>\n",
       "      <td>4.380363</td>\n",
       "      <td>4.283190</td>\n",
       "      <td>4.425038</td>\n",
       "      <td>5.4</td>\n",
       "    </tr>\n",
       "    <tr>\n",
       "      <th>3</th>\n",
       "      <td>104</td>\n",
       "      <td>4</td>\n",
       "      <td>new_user</td>\n",
       "      <td>5.282254</td>\n",
       "      <td>Samuel Adams Boston Lager</td>\n",
       "      <td>Boston Beer Company (Samuel Adams)</td>\n",
       "      <td>4.044251</td>\n",
       "      <td>3.663358</td>\n",
       "      <td>3.886476</td>\n",
       "      <td>3.774194</td>\n",
       "      <td>3.872415</td>\n",
       "      <td>4.9</td>\n",
       "    </tr>\n",
       "    <tr>\n",
       "      <th>4</th>\n",
       "      <td>695</td>\n",
       "      <td>5</td>\n",
       "      <td>new_user</td>\n",
       "      <td>5.223156</td>\n",
       "      <td>Duvel</td>\n",
       "      <td>Brouwerij Duvel Moortgat NV</td>\n",
       "      <td>4.342245</td>\n",
       "      <td>4.151224</td>\n",
       "      <td>4.512857</td>\n",
       "      <td>4.257347</td>\n",
       "      <td>4.329592</td>\n",
       "      <td>8.5</td>\n",
       "    </tr>\n",
       "    <tr>\n",
       "      <th>5</th>\n",
       "      <td>1093</td>\n",
       "      <td>6</td>\n",
       "      <td>new_user</td>\n",
       "      <td>5.206364</td>\n",
       "      <td>Two Hearted Ale</td>\n",
       "      <td>Bell's Brewery, Inc.</td>\n",
       "      <td>4.329729</td>\n",
       "      <td>4.266496</td>\n",
       "      <td>4.153959</td>\n",
       "      <td>4.138746</td>\n",
       "      <td>4.318915</td>\n",
       "      <td>7.0</td>\n",
       "    </tr>\n",
       "    <tr>\n",
       "      <th>6</th>\n",
       "      <td>16074</td>\n",
       "      <td>7</td>\n",
       "      <td>new_user</td>\n",
       "      <td>5.183342</td>\n",
       "      <td>Founders Red's Rye PA</td>\n",
       "      <td>Founders Brewing Company</td>\n",
       "      <td>4.208541</td>\n",
       "      <td>4.166548</td>\n",
       "      <td>4.186477</td>\n",
       "      <td>4.105338</td>\n",
       "      <td>4.257651</td>\n",
       "      <td>6.6</td>\n",
       "    </tr>\n",
       "    <tr>\n",
       "      <th>7</th>\n",
       "      <td>34</td>\n",
       "      <td>8</td>\n",
       "      <td>new_user</td>\n",
       "      <td>5.170693</td>\n",
       "      <td>La Fin Du Monde</td>\n",
       "      <td>Unibroue</td>\n",
       "      <td>4.298027</td>\n",
       "      <td>4.231977</td>\n",
       "      <td>4.193919</td>\n",
       "      <td>4.264398</td>\n",
       "      <td>4.396093</td>\n",
       "      <td>9.0</td>\n",
       "    </tr>\n",
       "    <tr>\n",
       "      <th>8</th>\n",
       "      <td>15881</td>\n",
       "      <td>9</td>\n",
       "      <td>new_user</td>\n",
       "      <td>5.152922</td>\n",
       "      <td>Tröegs Nugget Nectar</td>\n",
       "      <td>Tröegs Brewing Company</td>\n",
       "      <td>4.395652</td>\n",
       "      <td>4.371100</td>\n",
       "      <td>4.212276</td>\n",
       "      <td>4.198210</td>\n",
       "      <td>4.413555</td>\n",
       "      <td>7.5</td>\n",
       "    </tr>\n",
       "    <tr>\n",
       "      <th>9</th>\n",
       "      <td>276</td>\n",
       "      <td>10</td>\n",
       "      <td>new_user</td>\n",
       "      <td>5.147432</td>\n",
       "      <td>Sierra Nevada Pale Ale</td>\n",
       "      <td>Sierra Nevada Brewing Co.</td>\n",
       "      <td>4.245845</td>\n",
       "      <td>3.915539</td>\n",
       "      <td>3.995168</td>\n",
       "      <td>3.966950</td>\n",
       "      <td>4.115385</td>\n",
       "      <td>5.6</td>\n",
       "    </tr>\n",
       "    <tr>\n",
       "      <th>10</th>\n",
       "      <td>412</td>\n",
       "      <td>11</td>\n",
       "      <td>new_user</td>\n",
       "      <td>5.132414</td>\n",
       "      <td>Old Rasputin Russian Imperial Stout</td>\n",
       "      <td>North Coast Brewing Co.</td>\n",
       "      <td>4.174221</td>\n",
       "      <td>4.198650</td>\n",
       "      <td>4.373995</td>\n",
       "      <td>4.231758</td>\n",
       "      <td>4.342173</td>\n",
       "      <td>9.0</td>\n",
       "    </tr>\n",
       "    <tr>\n",
       "      <th>11</th>\n",
       "      <td>131</td>\n",
       "      <td>12</td>\n",
       "      <td>new_user</td>\n",
       "      <td>5.108294</td>\n",
       "      <td>Ayinger Celebrator Doppelbock</td>\n",
       "      <td>Privatbrauerei Franz Inselkammer KG / Brauerei...</td>\n",
       "      <td>4.299275</td>\n",
       "      <td>4.244203</td>\n",
       "      <td>4.253865</td>\n",
       "      <td>4.304348</td>\n",
       "      <td>4.428502</td>\n",
       "      <td>6.7</td>\n",
       "    </tr>\n",
       "    <tr>\n",
       "      <th>12</th>\n",
       "      <td>224</td>\n",
       "      <td>13</td>\n",
       "      <td>new_user</td>\n",
       "      <td>5.103762</td>\n",
       "      <td>Schneider Aventinus</td>\n",
       "      <td>Weisses Bräuhaus G. Schneider &amp; Sohn GmbH</td>\n",
       "      <td>4.234334</td>\n",
       "      <td>4.269352</td>\n",
       "      <td>4.178515</td>\n",
       "      <td>4.195366</td>\n",
       "      <td>4.388362</td>\n",
       "      <td>8.2</td>\n",
       "    </tr>\n",
       "    <tr>\n",
       "      <th>13</th>\n",
       "      <td>2093</td>\n",
       "      <td>14</td>\n",
       "      <td>new_user</td>\n",
       "      <td>5.090576</td>\n",
       "      <td>90 Minute IPA</td>\n",
       "      <td>Dogfish Head Brewery</td>\n",
       "      <td>4.145745</td>\n",
       "      <td>4.213526</td>\n",
       "      <td>4.192097</td>\n",
       "      <td>4.181763</td>\n",
       "      <td>4.325988</td>\n",
       "      <td>9.0</td>\n",
       "    </tr>\n",
       "    <tr>\n",
       "      <th>14</th>\n",
       "      <td>7971</td>\n",
       "      <td>15</td>\n",
       "      <td>new_user</td>\n",
       "      <td>5.087961</td>\n",
       "      <td>Pliny The Elder</td>\n",
       "      <td>Russian River Brewing Company</td>\n",
       "      <td>4.590028</td>\n",
       "      <td>4.612188</td>\n",
       "      <td>4.388603</td>\n",
       "      <td>4.451326</td>\n",
       "      <td>4.630985</td>\n",
       "      <td>8.0</td>\n",
       "    </tr>\n",
       "    <tr>\n",
       "      <th>15</th>\n",
       "      <td>1708</td>\n",
       "      <td>16</td>\n",
       "      <td>new_user</td>\n",
       "      <td>5.071198</td>\n",
       "      <td>St. Bernardus Abt 12</td>\n",
       "      <td>Brouwerij St. Bernardus NV</td>\n",
       "      <td>4.327921</td>\n",
       "      <td>4.318448</td>\n",
       "      <td>4.362201</td>\n",
       "      <td>4.368290</td>\n",
       "      <td>4.487145</td>\n",
       "      <td>10.0</td>\n",
       "    </tr>\n",
       "    <tr>\n",
       "      <th>16</th>\n",
       "      <td>2512</td>\n",
       "      <td>17</td>\n",
       "      <td>new_user</td>\n",
       "      <td>5.070787</td>\n",
       "      <td>Chimay Grande Réserve (Blue)</td>\n",
       "      <td>Bières de Chimay S.A.</td>\n",
       "      <td>4.248631</td>\n",
       "      <td>4.196615</td>\n",
       "      <td>4.209059</td>\n",
       "      <td>4.242658</td>\n",
       "      <td>4.370582</td>\n",
       "      <td>9.0</td>\n",
       "    </tr>\n",
       "    <tr>\n",
       "      <th>17</th>\n",
       "      <td>88</td>\n",
       "      <td>18</td>\n",
       "      <td>new_user</td>\n",
       "      <td>5.070054</td>\n",
       "      <td>Stone IPA (India Pale Ale)</td>\n",
       "      <td>Stone Brewing Co.</td>\n",
       "      <td>4.257670</td>\n",
       "      <td>4.238641</td>\n",
       "      <td>4.135728</td>\n",
       "      <td>4.138252</td>\n",
       "      <td>4.297087</td>\n",
       "      <td>6.9</td>\n",
       "    </tr>\n",
       "    <tr>\n",
       "      <th>18</th>\n",
       "      <td>1010</td>\n",
       "      <td>19</td>\n",
       "      <td>new_user</td>\n",
       "      <td>5.064331</td>\n",
       "      <td>Prima Pils</td>\n",
       "      <td>Victory Brewing Company</td>\n",
       "      <td>4.242083</td>\n",
       "      <td>3.938808</td>\n",
       "      <td>3.952764</td>\n",
       "      <td>4.011809</td>\n",
       "      <td>4.124799</td>\n",
       "      <td>5.3</td>\n",
       "    </tr>\n",
       "    <tr>\n",
       "      <th>19</th>\n",
       "      <td>355</td>\n",
       "      <td>20</td>\n",
       "      <td>new_user</td>\n",
       "      <td>5.059716</td>\n",
       "      <td>Dead Guy Ale</td>\n",
       "      <td>Rogue Ales</td>\n",
       "      <td>4.044987</td>\n",
       "      <td>3.800806</td>\n",
       "      <td>3.892122</td>\n",
       "      <td>3.912936</td>\n",
       "      <td>4.023053</td>\n",
       "      <td>6.5</td>\n",
       "    </tr>\n",
       "    <tr>\n",
       "      <th>20</th>\n",
       "      <td>645</td>\n",
       "      <td>21</td>\n",
       "      <td>new_user</td>\n",
       "      <td>5.053365</td>\n",
       "      <td>Trappistes Rochefort 10</td>\n",
       "      <td>Brasserie de Rochefort</td>\n",
       "      <td>4.339401</td>\n",
       "      <td>4.418664</td>\n",
       "      <td>4.344931</td>\n",
       "      <td>4.430876</td>\n",
       "      <td>4.543548</td>\n",
       "      <td>11.3</td>\n",
       "    </tr>\n",
       "    <tr>\n",
       "      <th>21</th>\n",
       "      <td>141</td>\n",
       "      <td>22</td>\n",
       "      <td>new_user</td>\n",
       "      <td>5.048580</td>\n",
       "      <td>Hennepin (Farmhouse Saison)</td>\n",
       "      <td>Brewery Ommegang</td>\n",
       "      <td>4.250000</td>\n",
       "      <td>4.076902</td>\n",
       "      <td>4.237138</td>\n",
       "      <td>4.127814</td>\n",
       "      <td>4.218917</td>\n",
       "      <td>7.7</td>\n",
       "    </tr>\n",
       "    <tr>\n",
       "      <th>22</th>\n",
       "      <td>1545</td>\n",
       "      <td>23</td>\n",
       "      <td>new_user</td>\n",
       "      <td>4.991763</td>\n",
       "      <td>Trappist Westvleteren 12</td>\n",
       "      <td>Brouwerij Westvleteren (Sint-Sixtusabdij van W...</td>\n",
       "      <td>4.617925</td>\n",
       "      <td>4.583333</td>\n",
       "      <td>4.454009</td>\n",
       "      <td>4.633255</td>\n",
       "      <td>4.718553</td>\n",
       "      <td>10.2</td>\n",
       "    </tr>\n",
       "    <tr>\n",
       "      <th>23</th>\n",
       "      <td>1160</td>\n",
       "      <td>24</td>\n",
       "      <td>new_user</td>\n",
       "      <td>4.975082</td>\n",
       "      <td>Stone Imperial Russian Stout</td>\n",
       "      <td>Stone Brewing Co.</td>\n",
       "      <td>4.244311</td>\n",
       "      <td>4.289824</td>\n",
       "      <td>4.403821</td>\n",
       "      <td>4.384714</td>\n",
       "      <td>4.451911</td>\n",
       "      <td>10.5</td>\n",
       "    </tr>\n",
       "    <tr>\n",
       "      <th>24</th>\n",
       "      <td>54904</td>\n",
       "      <td>25</td>\n",
       "      <td>new_user</td>\n",
       "      <td>4.973711</td>\n",
       "      <td>Samuel Adams Noble Pils</td>\n",
       "      <td>Boston Beer Company (Samuel Adams)</td>\n",
       "      <td>4.124626</td>\n",
       "      <td>3.794910</td>\n",
       "      <td>3.891841</td>\n",
       "      <td>3.877994</td>\n",
       "      <td>3.941243</td>\n",
       "      <td>4.9</td>\n",
       "    </tr>\n",
       "  </tbody>\n",
       "</table>\n",
       "</div>"
      ],
      "text/plain": [
       "    beer_beerid  rank review_profilename     score  \\\n",
       "0          3158     1           new_user  5.515486   \n",
       "1            92     2           new_user  5.350122   \n",
       "2           731     3           new_user  5.347476   \n",
       "3           104     4           new_user  5.282254   \n",
       "4           695     5           new_user  5.223156   \n",
       "5          1093     6           new_user  5.206364   \n",
       "6         16074     7           new_user  5.183342   \n",
       "7            34     8           new_user  5.170693   \n",
       "8         15881     9           new_user  5.152922   \n",
       "9           276    10           new_user  5.147432   \n",
       "10          412    11           new_user  5.132414   \n",
       "11          131    12           new_user  5.108294   \n",
       "12          224    13           new_user  5.103762   \n",
       "13         2093    14           new_user  5.090576   \n",
       "14         7971    15           new_user  5.087961   \n",
       "15         1708    16           new_user  5.071198   \n",
       "16         2512    17           new_user  5.070787   \n",
       "17           88    18           new_user  5.070054   \n",
       "18         1010    19           new_user  5.064331   \n",
       "19          355    20           new_user  5.059716   \n",
       "20          645    21           new_user  5.053365   \n",
       "21          141    22           new_user  5.048580   \n",
       "22         1545    23           new_user  4.991763   \n",
       "23         1160    24           new_user  4.975082   \n",
       "24        54904    25           new_user  4.973711   \n",
       "\n",
       "                              beer_name  \\\n",
       "0                           Hop Rod Rye   \n",
       "1                  Arrogant Bastard Ale   \n",
       "2         Weihenstephaner Hefeweissbier   \n",
       "3             Samuel Adams Boston Lager   \n",
       "4                                 Duvel   \n",
       "5                       Two Hearted Ale   \n",
       "6                 Founders Red's Rye PA   \n",
       "7                       La Fin Du Monde   \n",
       "8                  Tröegs Nugget Nectar   \n",
       "9                Sierra Nevada Pale Ale   \n",
       "10  Old Rasputin Russian Imperial Stout   \n",
       "11        Ayinger Celebrator Doppelbock   \n",
       "12                  Schneider Aventinus   \n",
       "13                        90 Minute IPA   \n",
       "14                      Pliny The Elder   \n",
       "15                 St. Bernardus Abt 12   \n",
       "16         Chimay Grande Réserve (Blue)   \n",
       "17           Stone IPA (India Pale Ale)   \n",
       "18                           Prima Pils   \n",
       "19                         Dead Guy Ale   \n",
       "20              Trappistes Rochefort 10   \n",
       "21          Hennepin (Farmhouse Saison)   \n",
       "22             Trappist Westvleteren 12   \n",
       "23         Stone Imperial Russian Stout   \n",
       "24              Samuel Adams Noble Pils   \n",
       "\n",
       "                                         brewery_name  review_overall  \\\n",
       "0                           Bear Republic Brewing Co.        4.217459   \n",
       "1                                   Stone Brewing Co.        4.078402   \n",
       "2             Bayerische Staatsbrauerei Weihenstephan        4.515901   \n",
       "3                  Boston Beer Company (Samuel Adams)        4.044251   \n",
       "4                         Brouwerij Duvel Moortgat NV        4.342245   \n",
       "5                                Bell's Brewery, Inc.        4.329729   \n",
       "6                            Founders Brewing Company        4.208541   \n",
       "7                                            Unibroue        4.298027   \n",
       "8                              Tröegs Brewing Company        4.395652   \n",
       "9                           Sierra Nevada Brewing Co.        4.245845   \n",
       "10                            North Coast Brewing Co.        4.174221   \n",
       "11  Privatbrauerei Franz Inselkammer KG / Brauerei...        4.299275   \n",
       "12          Weisses Bräuhaus G. Schneider & Sohn GmbH        4.234334   \n",
       "13                               Dogfish Head Brewery        4.145745   \n",
       "14                      Russian River Brewing Company        4.590028   \n",
       "15                         Brouwerij St. Bernardus NV        4.327921   \n",
       "16                              Bières de Chimay S.A.        4.248631   \n",
       "17                                  Stone Brewing Co.        4.257670   \n",
       "18                            Victory Brewing Company        4.242083   \n",
       "19                                         Rogue Ales        4.044987   \n",
       "20                             Brasserie de Rochefort        4.339401   \n",
       "21                                   Brewery Ommegang        4.250000   \n",
       "22  Brouwerij Westvleteren (Sint-Sixtusabdij van W...        4.617925   \n",
       "23                                  Stone Brewing Co.        4.244311   \n",
       "24                 Boston Beer Company (Samuel Adams)        4.124626   \n",
       "\n",
       "    review_aroma  review_appearance  review_palate  review_taste  beer_abv  \n",
       "0       4.209880           4.295609       4.225823      4.342394       8.0  \n",
       "1       4.119268           4.296413       4.143121      4.278846       7.2  \n",
       "2       4.296315           4.380363       4.283190      4.425038       5.4  \n",
       "3       3.663358           3.886476       3.774194      3.872415       4.9  \n",
       "4       4.151224           4.512857       4.257347      4.329592       8.5  \n",
       "5       4.266496           4.153959       4.138746      4.318915       7.0  \n",
       "6       4.166548           4.186477       4.105338      4.257651       6.6  \n",
       "7       4.231977           4.193919       4.264398      4.396093       9.0  \n",
       "8       4.371100           4.212276       4.198210      4.413555       7.5  \n",
       "9       3.915539           3.995168       3.966950      4.115385       5.6  \n",
       "10      4.198650           4.373995       4.231758      4.342173       9.0  \n",
       "11      4.244203           4.253865       4.304348      4.428502       6.7  \n",
       "12      4.269352           4.178515       4.195366      4.388362       8.2  \n",
       "13      4.213526           4.192097       4.181763      4.325988       9.0  \n",
       "14      4.612188           4.388603       4.451326      4.630985       8.0  \n",
       "15      4.318448           4.362201       4.368290      4.487145      10.0  \n",
       "16      4.196615           4.209059       4.242658      4.370582       9.0  \n",
       "17      4.238641           4.135728       4.138252      4.297087       6.9  \n",
       "18      3.938808           3.952764       4.011809      4.124799       5.3  \n",
       "19      3.800806           3.892122       3.912936      4.023053       6.5  \n",
       "20      4.418664           4.344931       4.430876      4.543548      11.3  \n",
       "21      4.076902           4.237138       4.127814      4.218917       7.7  \n",
       "22      4.583333           4.454009       4.633255      4.718553      10.2  \n",
       "23      4.289824           4.403821       4.384714      4.451911      10.5  \n",
       "24      3.794910           3.891841       3.877994      3.941243       4.9  "
      ]
     },
     "execution_count": 61,
     "metadata": {},
     "output_type": "execute_result"
    }
   ],
   "source": [
    "recommend3_df = pd.DataFrame(recommend3)\n",
    "recommend3_df['beer_beerid'] = [int(x) for x in recommend3_df['beer_beerid']]\n",
    "recommend3_df = findBeers(recommend3_df)\n",
    "recommend3_df"
   ]
  },
  {
   "cell_type": "code",
   "execution_count": 62,
   "metadata": {},
   "outputs": [
    {
     "name": "stdout",
     "output_type": "stream",
     "text": [
      "+--------------------+-------------+---------------+------+\n",
      "| review_profilename | beer_beerid |     score     | rank |\n",
      "+--------------------+-------------+---------------+------+\n",
      "|     new_user2      |     3158    |  5.5154864236 |  1   |\n",
      "|     new_user2      |      92     | 5.35012191974 |  2   |\n",
      "|     new_user2      |     731     | 5.34747571193 |  3   |\n",
      "|     new_user2      |     104     | 5.28225380622 |  4   |\n",
      "|     new_user2      |     695     | 5.22315556251 |  5   |\n",
      "|     new_user2      |     1093    | 5.20636386119 |  6   |\n",
      "|     new_user2      |    16074    | 5.18334192478 |  7   |\n",
      "|     new_user2      |      34     | 5.17069274627 |  8   |\n",
      "|     new_user2      |    15881    | 5.15292233669 |  9   |\n",
      "|     new_user2      |     276     | 5.14743215286 |  10  |\n",
      "|     new_user2      |     412     | 5.13241380893 |  11  |\n",
      "|     new_user2      |     131     | 5.10829359733 |  12  |\n",
      "|     new_user2      |     224     |  5.1037619754 |  13  |\n",
      "|     new_user2      |     2093    | 5.09057563983 |  14  |\n",
      "|     new_user2      |     7971    | 5.08796102249 |  15  |\n",
      "|     new_user2      |     1708    | 5.07119757377 |  16  |\n",
      "|     new_user2      |     2512    | 5.07078737461 |  17  |\n",
      "|     new_user2      |      88     | 5.07005447589 |  18  |\n",
      "|     new_user2      |     1010    | 5.06433064186 |  19  |\n",
      "|     new_user2      |     355     | 5.05971616947 |  20  |\n",
      "|     new_user2      |     645     | 5.05336481773 |  21  |\n",
      "|     new_user2      |     141     | 5.04857987606 |  22  |\n",
      "|     new_user2      |     1545    | 4.99176258289 |  23  |\n",
      "|     new_user2      |     1160    |  4.975081627  |  24  |\n",
      "|     new_user2      |    54904    | 4.97371095859 |  25  |\n",
      "+--------------------+-------------+---------------+------+\n",
      "[25 rows x 4 columns]\n",
      "\n"
     ]
    }
   ],
   "source": [
    "recommend3B = model3.recommend(['new_user2'], new_observation_data = user2_info, k=25)\n",
    "recommend3B.print_rows(25)"
   ]
  },
  {
   "cell_type": "code",
   "execution_count": 63,
   "metadata": {},
   "outputs": [
    {
     "data": {
      "text/html": [
       "<div>\n",
       "<style scoped>\n",
       "    .dataframe tbody tr th:only-of-type {\n",
       "        vertical-align: middle;\n",
       "    }\n",
       "\n",
       "    .dataframe tbody tr th {\n",
       "        vertical-align: top;\n",
       "    }\n",
       "\n",
       "    .dataframe thead th {\n",
       "        text-align: right;\n",
       "    }\n",
       "</style>\n",
       "<table border=\"1\" class=\"dataframe\">\n",
       "  <thead>\n",
       "    <tr style=\"text-align: right;\">\n",
       "      <th></th>\n",
       "      <th>beer_beerid</th>\n",
       "      <th>rank</th>\n",
       "      <th>review_profilename</th>\n",
       "      <th>score</th>\n",
       "      <th>beer_name</th>\n",
       "      <th>brewery_name</th>\n",
       "      <th>review_overall</th>\n",
       "      <th>review_aroma</th>\n",
       "      <th>review_appearance</th>\n",
       "      <th>review_palate</th>\n",
       "      <th>review_taste</th>\n",
       "      <th>beer_abv</th>\n",
       "    </tr>\n",
       "  </thead>\n",
       "  <tbody>\n",
       "    <tr>\n",
       "      <th>0</th>\n",
       "      <td>3158</td>\n",
       "      <td>1</td>\n",
       "      <td>new_user2</td>\n",
       "      <td>5.515486</td>\n",
       "      <td>Hop Rod Rye</td>\n",
       "      <td>Bear Republic Brewing Co.</td>\n",
       "      <td>4.217459</td>\n",
       "      <td>4.209880</td>\n",
       "      <td>4.295609</td>\n",
       "      <td>4.225823</td>\n",
       "      <td>4.342394</td>\n",
       "      <td>8.0</td>\n",
       "    </tr>\n",
       "    <tr>\n",
       "      <th>1</th>\n",
       "      <td>92</td>\n",
       "      <td>2</td>\n",
       "      <td>new_user2</td>\n",
       "      <td>5.350122</td>\n",
       "      <td>Arrogant Bastard Ale</td>\n",
       "      <td>Stone Brewing Co.</td>\n",
       "      <td>4.078402</td>\n",
       "      <td>4.119268</td>\n",
       "      <td>4.296413</td>\n",
       "      <td>4.143121</td>\n",
       "      <td>4.278846</td>\n",
       "      <td>7.2</td>\n",
       "    </tr>\n",
       "    <tr>\n",
       "      <th>2</th>\n",
       "      <td>731</td>\n",
       "      <td>3</td>\n",
       "      <td>new_user2</td>\n",
       "      <td>5.347476</td>\n",
       "      <td>Weihenstephaner Hefeweissbier</td>\n",
       "      <td>Bayerische Staatsbrauerei Weihenstephan</td>\n",
       "      <td>4.515901</td>\n",
       "      <td>4.296315</td>\n",
       "      <td>4.380363</td>\n",
       "      <td>4.283190</td>\n",
       "      <td>4.425038</td>\n",
       "      <td>5.4</td>\n",
       "    </tr>\n",
       "    <tr>\n",
       "      <th>3</th>\n",
       "      <td>104</td>\n",
       "      <td>4</td>\n",
       "      <td>new_user2</td>\n",
       "      <td>5.282254</td>\n",
       "      <td>Samuel Adams Boston Lager</td>\n",
       "      <td>Boston Beer Company (Samuel Adams)</td>\n",
       "      <td>4.044251</td>\n",
       "      <td>3.663358</td>\n",
       "      <td>3.886476</td>\n",
       "      <td>3.774194</td>\n",
       "      <td>3.872415</td>\n",
       "      <td>4.9</td>\n",
       "    </tr>\n",
       "    <tr>\n",
       "      <th>4</th>\n",
       "      <td>695</td>\n",
       "      <td>5</td>\n",
       "      <td>new_user2</td>\n",
       "      <td>5.223156</td>\n",
       "      <td>Duvel</td>\n",
       "      <td>Brouwerij Duvel Moortgat NV</td>\n",
       "      <td>4.342245</td>\n",
       "      <td>4.151224</td>\n",
       "      <td>4.512857</td>\n",
       "      <td>4.257347</td>\n",
       "      <td>4.329592</td>\n",
       "      <td>8.5</td>\n",
       "    </tr>\n",
       "    <tr>\n",
       "      <th>5</th>\n",
       "      <td>1093</td>\n",
       "      <td>6</td>\n",
       "      <td>new_user2</td>\n",
       "      <td>5.206364</td>\n",
       "      <td>Two Hearted Ale</td>\n",
       "      <td>Bell's Brewery, Inc.</td>\n",
       "      <td>4.329729</td>\n",
       "      <td>4.266496</td>\n",
       "      <td>4.153959</td>\n",
       "      <td>4.138746</td>\n",
       "      <td>4.318915</td>\n",
       "      <td>7.0</td>\n",
       "    </tr>\n",
       "    <tr>\n",
       "      <th>6</th>\n",
       "      <td>16074</td>\n",
       "      <td>7</td>\n",
       "      <td>new_user2</td>\n",
       "      <td>5.183342</td>\n",
       "      <td>Founders Red's Rye PA</td>\n",
       "      <td>Founders Brewing Company</td>\n",
       "      <td>4.208541</td>\n",
       "      <td>4.166548</td>\n",
       "      <td>4.186477</td>\n",
       "      <td>4.105338</td>\n",
       "      <td>4.257651</td>\n",
       "      <td>6.6</td>\n",
       "    </tr>\n",
       "    <tr>\n",
       "      <th>7</th>\n",
       "      <td>34</td>\n",
       "      <td>8</td>\n",
       "      <td>new_user2</td>\n",
       "      <td>5.170693</td>\n",
       "      <td>La Fin Du Monde</td>\n",
       "      <td>Unibroue</td>\n",
       "      <td>4.298027</td>\n",
       "      <td>4.231977</td>\n",
       "      <td>4.193919</td>\n",
       "      <td>4.264398</td>\n",
       "      <td>4.396093</td>\n",
       "      <td>9.0</td>\n",
       "    </tr>\n",
       "    <tr>\n",
       "      <th>8</th>\n",
       "      <td>15881</td>\n",
       "      <td>9</td>\n",
       "      <td>new_user2</td>\n",
       "      <td>5.152922</td>\n",
       "      <td>Tröegs Nugget Nectar</td>\n",
       "      <td>Tröegs Brewing Company</td>\n",
       "      <td>4.395652</td>\n",
       "      <td>4.371100</td>\n",
       "      <td>4.212276</td>\n",
       "      <td>4.198210</td>\n",
       "      <td>4.413555</td>\n",
       "      <td>7.5</td>\n",
       "    </tr>\n",
       "    <tr>\n",
       "      <th>9</th>\n",
       "      <td>276</td>\n",
       "      <td>10</td>\n",
       "      <td>new_user2</td>\n",
       "      <td>5.147432</td>\n",
       "      <td>Sierra Nevada Pale Ale</td>\n",
       "      <td>Sierra Nevada Brewing Co.</td>\n",
       "      <td>4.245845</td>\n",
       "      <td>3.915539</td>\n",
       "      <td>3.995168</td>\n",
       "      <td>3.966950</td>\n",
       "      <td>4.115385</td>\n",
       "      <td>5.6</td>\n",
       "    </tr>\n",
       "    <tr>\n",
       "      <th>10</th>\n",
       "      <td>412</td>\n",
       "      <td>11</td>\n",
       "      <td>new_user2</td>\n",
       "      <td>5.132414</td>\n",
       "      <td>Old Rasputin Russian Imperial Stout</td>\n",
       "      <td>North Coast Brewing Co.</td>\n",
       "      <td>4.174221</td>\n",
       "      <td>4.198650</td>\n",
       "      <td>4.373995</td>\n",
       "      <td>4.231758</td>\n",
       "      <td>4.342173</td>\n",
       "      <td>9.0</td>\n",
       "    </tr>\n",
       "    <tr>\n",
       "      <th>11</th>\n",
       "      <td>131</td>\n",
       "      <td>12</td>\n",
       "      <td>new_user2</td>\n",
       "      <td>5.108294</td>\n",
       "      <td>Ayinger Celebrator Doppelbock</td>\n",
       "      <td>Privatbrauerei Franz Inselkammer KG / Brauerei...</td>\n",
       "      <td>4.299275</td>\n",
       "      <td>4.244203</td>\n",
       "      <td>4.253865</td>\n",
       "      <td>4.304348</td>\n",
       "      <td>4.428502</td>\n",
       "      <td>6.7</td>\n",
       "    </tr>\n",
       "    <tr>\n",
       "      <th>12</th>\n",
       "      <td>224</td>\n",
       "      <td>13</td>\n",
       "      <td>new_user2</td>\n",
       "      <td>5.103762</td>\n",
       "      <td>Schneider Aventinus</td>\n",
       "      <td>Weisses Bräuhaus G. Schneider &amp; Sohn GmbH</td>\n",
       "      <td>4.234334</td>\n",
       "      <td>4.269352</td>\n",
       "      <td>4.178515</td>\n",
       "      <td>4.195366</td>\n",
       "      <td>4.388362</td>\n",
       "      <td>8.2</td>\n",
       "    </tr>\n",
       "    <tr>\n",
       "      <th>13</th>\n",
       "      <td>2093</td>\n",
       "      <td>14</td>\n",
       "      <td>new_user2</td>\n",
       "      <td>5.090576</td>\n",
       "      <td>90 Minute IPA</td>\n",
       "      <td>Dogfish Head Brewery</td>\n",
       "      <td>4.145745</td>\n",
       "      <td>4.213526</td>\n",
       "      <td>4.192097</td>\n",
       "      <td>4.181763</td>\n",
       "      <td>4.325988</td>\n",
       "      <td>9.0</td>\n",
       "    </tr>\n",
       "    <tr>\n",
       "      <th>14</th>\n",
       "      <td>7971</td>\n",
       "      <td>15</td>\n",
       "      <td>new_user2</td>\n",
       "      <td>5.087961</td>\n",
       "      <td>Pliny The Elder</td>\n",
       "      <td>Russian River Brewing Company</td>\n",
       "      <td>4.590028</td>\n",
       "      <td>4.612188</td>\n",
       "      <td>4.388603</td>\n",
       "      <td>4.451326</td>\n",
       "      <td>4.630985</td>\n",
       "      <td>8.0</td>\n",
       "    </tr>\n",
       "    <tr>\n",
       "      <th>15</th>\n",
       "      <td>1708</td>\n",
       "      <td>16</td>\n",
       "      <td>new_user2</td>\n",
       "      <td>5.071198</td>\n",
       "      <td>St. Bernardus Abt 12</td>\n",
       "      <td>Brouwerij St. Bernardus NV</td>\n",
       "      <td>4.327921</td>\n",
       "      <td>4.318448</td>\n",
       "      <td>4.362201</td>\n",
       "      <td>4.368290</td>\n",
       "      <td>4.487145</td>\n",
       "      <td>10.0</td>\n",
       "    </tr>\n",
       "    <tr>\n",
       "      <th>16</th>\n",
       "      <td>2512</td>\n",
       "      <td>17</td>\n",
       "      <td>new_user2</td>\n",
       "      <td>5.070787</td>\n",
       "      <td>Chimay Grande Réserve (Blue)</td>\n",
       "      <td>Bières de Chimay S.A.</td>\n",
       "      <td>4.248631</td>\n",
       "      <td>4.196615</td>\n",
       "      <td>4.209059</td>\n",
       "      <td>4.242658</td>\n",
       "      <td>4.370582</td>\n",
       "      <td>9.0</td>\n",
       "    </tr>\n",
       "    <tr>\n",
       "      <th>17</th>\n",
       "      <td>88</td>\n",
       "      <td>18</td>\n",
       "      <td>new_user2</td>\n",
       "      <td>5.070054</td>\n",
       "      <td>Stone IPA (India Pale Ale)</td>\n",
       "      <td>Stone Brewing Co.</td>\n",
       "      <td>4.257670</td>\n",
       "      <td>4.238641</td>\n",
       "      <td>4.135728</td>\n",
       "      <td>4.138252</td>\n",
       "      <td>4.297087</td>\n",
       "      <td>6.9</td>\n",
       "    </tr>\n",
       "    <tr>\n",
       "      <th>18</th>\n",
       "      <td>1010</td>\n",
       "      <td>19</td>\n",
       "      <td>new_user2</td>\n",
       "      <td>5.064331</td>\n",
       "      <td>Prima Pils</td>\n",
       "      <td>Victory Brewing Company</td>\n",
       "      <td>4.242083</td>\n",
       "      <td>3.938808</td>\n",
       "      <td>3.952764</td>\n",
       "      <td>4.011809</td>\n",
       "      <td>4.124799</td>\n",
       "      <td>5.3</td>\n",
       "    </tr>\n",
       "    <tr>\n",
       "      <th>19</th>\n",
       "      <td>355</td>\n",
       "      <td>20</td>\n",
       "      <td>new_user2</td>\n",
       "      <td>5.059716</td>\n",
       "      <td>Dead Guy Ale</td>\n",
       "      <td>Rogue Ales</td>\n",
       "      <td>4.044987</td>\n",
       "      <td>3.800806</td>\n",
       "      <td>3.892122</td>\n",
       "      <td>3.912936</td>\n",
       "      <td>4.023053</td>\n",
       "      <td>6.5</td>\n",
       "    </tr>\n",
       "    <tr>\n",
       "      <th>20</th>\n",
       "      <td>645</td>\n",
       "      <td>21</td>\n",
       "      <td>new_user2</td>\n",
       "      <td>5.053365</td>\n",
       "      <td>Trappistes Rochefort 10</td>\n",
       "      <td>Brasserie de Rochefort</td>\n",
       "      <td>4.339401</td>\n",
       "      <td>4.418664</td>\n",
       "      <td>4.344931</td>\n",
       "      <td>4.430876</td>\n",
       "      <td>4.543548</td>\n",
       "      <td>11.3</td>\n",
       "    </tr>\n",
       "    <tr>\n",
       "      <th>21</th>\n",
       "      <td>141</td>\n",
       "      <td>22</td>\n",
       "      <td>new_user2</td>\n",
       "      <td>5.048580</td>\n",
       "      <td>Hennepin (Farmhouse Saison)</td>\n",
       "      <td>Brewery Ommegang</td>\n",
       "      <td>4.250000</td>\n",
       "      <td>4.076902</td>\n",
       "      <td>4.237138</td>\n",
       "      <td>4.127814</td>\n",
       "      <td>4.218917</td>\n",
       "      <td>7.7</td>\n",
       "    </tr>\n",
       "    <tr>\n",
       "      <th>22</th>\n",
       "      <td>1545</td>\n",
       "      <td>23</td>\n",
       "      <td>new_user2</td>\n",
       "      <td>4.991763</td>\n",
       "      <td>Trappist Westvleteren 12</td>\n",
       "      <td>Brouwerij Westvleteren (Sint-Sixtusabdij van W...</td>\n",
       "      <td>4.617925</td>\n",
       "      <td>4.583333</td>\n",
       "      <td>4.454009</td>\n",
       "      <td>4.633255</td>\n",
       "      <td>4.718553</td>\n",
       "      <td>10.2</td>\n",
       "    </tr>\n",
       "    <tr>\n",
       "      <th>23</th>\n",
       "      <td>1160</td>\n",
       "      <td>24</td>\n",
       "      <td>new_user2</td>\n",
       "      <td>4.975082</td>\n",
       "      <td>Stone Imperial Russian Stout</td>\n",
       "      <td>Stone Brewing Co.</td>\n",
       "      <td>4.244311</td>\n",
       "      <td>4.289824</td>\n",
       "      <td>4.403821</td>\n",
       "      <td>4.384714</td>\n",
       "      <td>4.451911</td>\n",
       "      <td>10.5</td>\n",
       "    </tr>\n",
       "    <tr>\n",
       "      <th>24</th>\n",
       "      <td>54904</td>\n",
       "      <td>25</td>\n",
       "      <td>new_user2</td>\n",
       "      <td>4.973711</td>\n",
       "      <td>Samuel Adams Noble Pils</td>\n",
       "      <td>Boston Beer Company (Samuel Adams)</td>\n",
       "      <td>4.124626</td>\n",
       "      <td>3.794910</td>\n",
       "      <td>3.891841</td>\n",
       "      <td>3.877994</td>\n",
       "      <td>3.941243</td>\n",
       "      <td>4.9</td>\n",
       "    </tr>\n",
       "  </tbody>\n",
       "</table>\n",
       "</div>"
      ],
      "text/plain": [
       "    beer_beerid  rank review_profilename     score  \\\n",
       "0          3158     1          new_user2  5.515486   \n",
       "1            92     2          new_user2  5.350122   \n",
       "2           731     3          new_user2  5.347476   \n",
       "3           104     4          new_user2  5.282254   \n",
       "4           695     5          new_user2  5.223156   \n",
       "5          1093     6          new_user2  5.206364   \n",
       "6         16074     7          new_user2  5.183342   \n",
       "7            34     8          new_user2  5.170693   \n",
       "8         15881     9          new_user2  5.152922   \n",
       "9           276    10          new_user2  5.147432   \n",
       "10          412    11          new_user2  5.132414   \n",
       "11          131    12          new_user2  5.108294   \n",
       "12          224    13          new_user2  5.103762   \n",
       "13         2093    14          new_user2  5.090576   \n",
       "14         7971    15          new_user2  5.087961   \n",
       "15         1708    16          new_user2  5.071198   \n",
       "16         2512    17          new_user2  5.070787   \n",
       "17           88    18          new_user2  5.070054   \n",
       "18         1010    19          new_user2  5.064331   \n",
       "19          355    20          new_user2  5.059716   \n",
       "20          645    21          new_user2  5.053365   \n",
       "21          141    22          new_user2  5.048580   \n",
       "22         1545    23          new_user2  4.991763   \n",
       "23         1160    24          new_user2  4.975082   \n",
       "24        54904    25          new_user2  4.973711   \n",
       "\n",
       "                              beer_name  \\\n",
       "0                           Hop Rod Rye   \n",
       "1                  Arrogant Bastard Ale   \n",
       "2         Weihenstephaner Hefeweissbier   \n",
       "3             Samuel Adams Boston Lager   \n",
       "4                                 Duvel   \n",
       "5                       Two Hearted Ale   \n",
       "6                 Founders Red's Rye PA   \n",
       "7                       La Fin Du Monde   \n",
       "8                  Tröegs Nugget Nectar   \n",
       "9                Sierra Nevada Pale Ale   \n",
       "10  Old Rasputin Russian Imperial Stout   \n",
       "11        Ayinger Celebrator Doppelbock   \n",
       "12                  Schneider Aventinus   \n",
       "13                        90 Minute IPA   \n",
       "14                      Pliny The Elder   \n",
       "15                 St. Bernardus Abt 12   \n",
       "16         Chimay Grande Réserve (Blue)   \n",
       "17           Stone IPA (India Pale Ale)   \n",
       "18                           Prima Pils   \n",
       "19                         Dead Guy Ale   \n",
       "20              Trappistes Rochefort 10   \n",
       "21          Hennepin (Farmhouse Saison)   \n",
       "22             Trappist Westvleteren 12   \n",
       "23         Stone Imperial Russian Stout   \n",
       "24              Samuel Adams Noble Pils   \n",
       "\n",
       "                                         brewery_name  review_overall  \\\n",
       "0                           Bear Republic Brewing Co.        4.217459   \n",
       "1                                   Stone Brewing Co.        4.078402   \n",
       "2             Bayerische Staatsbrauerei Weihenstephan        4.515901   \n",
       "3                  Boston Beer Company (Samuel Adams)        4.044251   \n",
       "4                         Brouwerij Duvel Moortgat NV        4.342245   \n",
       "5                                Bell's Brewery, Inc.        4.329729   \n",
       "6                            Founders Brewing Company        4.208541   \n",
       "7                                            Unibroue        4.298027   \n",
       "8                              Tröegs Brewing Company        4.395652   \n",
       "9                           Sierra Nevada Brewing Co.        4.245845   \n",
       "10                            North Coast Brewing Co.        4.174221   \n",
       "11  Privatbrauerei Franz Inselkammer KG / Brauerei...        4.299275   \n",
       "12          Weisses Bräuhaus G. Schneider & Sohn GmbH        4.234334   \n",
       "13                               Dogfish Head Brewery        4.145745   \n",
       "14                      Russian River Brewing Company        4.590028   \n",
       "15                         Brouwerij St. Bernardus NV        4.327921   \n",
       "16                              Bières de Chimay S.A.        4.248631   \n",
       "17                                  Stone Brewing Co.        4.257670   \n",
       "18                            Victory Brewing Company        4.242083   \n",
       "19                                         Rogue Ales        4.044987   \n",
       "20                             Brasserie de Rochefort        4.339401   \n",
       "21                                   Brewery Ommegang        4.250000   \n",
       "22  Brouwerij Westvleteren (Sint-Sixtusabdij van W...        4.617925   \n",
       "23                                  Stone Brewing Co.        4.244311   \n",
       "24                 Boston Beer Company (Samuel Adams)        4.124626   \n",
       "\n",
       "    review_aroma  review_appearance  review_palate  review_taste  beer_abv  \n",
       "0       4.209880           4.295609       4.225823      4.342394       8.0  \n",
       "1       4.119268           4.296413       4.143121      4.278846       7.2  \n",
       "2       4.296315           4.380363       4.283190      4.425038       5.4  \n",
       "3       3.663358           3.886476       3.774194      3.872415       4.9  \n",
       "4       4.151224           4.512857       4.257347      4.329592       8.5  \n",
       "5       4.266496           4.153959       4.138746      4.318915       7.0  \n",
       "6       4.166548           4.186477       4.105338      4.257651       6.6  \n",
       "7       4.231977           4.193919       4.264398      4.396093       9.0  \n",
       "8       4.371100           4.212276       4.198210      4.413555       7.5  \n",
       "9       3.915539           3.995168       3.966950      4.115385       5.6  \n",
       "10      4.198650           4.373995       4.231758      4.342173       9.0  \n",
       "11      4.244203           4.253865       4.304348      4.428502       6.7  \n",
       "12      4.269352           4.178515       4.195366      4.388362       8.2  \n",
       "13      4.213526           4.192097       4.181763      4.325988       9.0  \n",
       "14      4.612188           4.388603       4.451326      4.630985       8.0  \n",
       "15      4.318448           4.362201       4.368290      4.487145      10.0  \n",
       "16      4.196615           4.209059       4.242658      4.370582       9.0  \n",
       "17      4.238641           4.135728       4.138252      4.297087       6.9  \n",
       "18      3.938808           3.952764       4.011809      4.124799       5.3  \n",
       "19      3.800806           3.892122       3.912936      4.023053       6.5  \n",
       "20      4.418664           4.344931       4.430876      4.543548      11.3  \n",
       "21      4.076902           4.237138       4.127814      4.218917       7.7  \n",
       "22      4.583333           4.454009       4.633255      4.718553      10.2  \n",
       "23      4.289824           4.403821       4.384714      4.451911      10.5  \n",
       "24      3.794910           3.891841       3.877994      3.941243       4.9  "
      ]
     },
     "execution_count": 63,
     "metadata": {},
     "output_type": "execute_result"
    }
   ],
   "source": [
    "recommend3B_df = pd.DataFrame(recommend3B)\n",
    "recommend3B_df['beer_beerid'] = [int(x) for x in recommend3B_df['beer_beerid']]\n",
    "recommend3B_df = findBeers(recommend3B_df)\n",
    "recommend3B_df"
   ]
  },
  {
   "cell_type": "markdown",
   "metadata": {},
   "source": [
    "## Popularity Recommender"
   ]
  },
  {
   "cell_type": "code",
   "execution_count": 64,
   "metadata": {},
   "outputs": [
    {
     "data": {
      "text/html": [
       "<pre>Warning: Ignoring columns main_style;</pre>"
      ],
      "text/plain": [
       "Warning: Ignoring columns main_style;"
      ]
     },
     "metadata": {},
     "output_type": "display_data"
    },
    {
     "data": {
      "text/html": [
       "<pre>    To use these columns in scoring predictions, use a model that allows the use of additional features.</pre>"
      ],
      "text/plain": [
       "    To use these columns in scoring predictions, use a model that allows the use of additional features."
      ]
     },
     "metadata": {},
     "output_type": "display_data"
    },
    {
     "data": {
      "text/html": [
       "<pre>Preparing data set.</pre>"
      ],
      "text/plain": [
       "Preparing data set."
      ]
     },
     "metadata": {},
     "output_type": "display_data"
    },
    {
     "data": {
      "text/html": [
       "<pre>    Data has 1578596 observations with 33340 users and 65965 items.</pre>"
      ],
      "text/plain": [
       "    Data has 1578596 observations with 33340 users and 65965 items."
      ]
     },
     "metadata": {},
     "output_type": "display_data"
    },
    {
     "data": {
      "text/html": [
       "<pre>    Data prepared in: 4.97892s</pre>"
      ],
      "text/plain": [
       "    Data prepared in: 4.97892s"
      ]
     },
     "metadata": {},
     "output_type": "display_data"
    },
    {
     "data": {
      "text/html": [
       "<pre>1578596 observations to process; with 65965 unique items.</pre>"
      ],
      "text/plain": [
       "1578596 observations to process; with 65965 unique items."
      ]
     },
     "metadata": {},
     "output_type": "display_data"
    }
   ],
   "source": [
    "model4 = tr.recommender.popularity_recommender.create(training_data, user_id='review_profilename', item_id='beer_beerid', target='review_overall')"
   ]
  },
  {
   "cell_type": "code",
   "execution_count": 66,
   "metadata": {},
   "outputs": [],
   "source": [
    "# Save model - load model\n",
    "# model4.save('jupyter_folder/popularity.model')\n",
    "model4 = tr.load_model('jupyter_folder/popularity.model')"
   ]
  },
  {
   "cell_type": "code",
   "execution_count": 67,
   "metadata": {},
   "outputs": [
    {
     "data": {
      "text/html": [
       "<pre>recommendations finished on 1000/33340 queries. users per second: 2704.86</pre>"
      ],
      "text/plain": [
       "recommendations finished on 1000/33340 queries. users per second: 2704.86"
      ]
     },
     "metadata": {},
     "output_type": "display_data"
    },
    {
     "data": {
      "text/html": [
       "<pre>recommendations finished on 2000/33340 queries. users per second: 2807.91</pre>"
      ],
      "text/plain": [
       "recommendations finished on 2000/33340 queries. users per second: 2807.91"
      ]
     },
     "metadata": {},
     "output_type": "display_data"
    },
    {
     "data": {
      "text/html": [
       "<pre>recommendations finished on 3000/33340 queries. users per second: 2727.88</pre>"
      ],
      "text/plain": [
       "recommendations finished on 3000/33340 queries. users per second: 2727.88"
      ]
     },
     "metadata": {},
     "output_type": "display_data"
    },
    {
     "data": {
      "text/html": [
       "<pre>recommendations finished on 4000/33340 queries. users per second: 2691.6</pre>"
      ],
      "text/plain": [
       "recommendations finished on 4000/33340 queries. users per second: 2691.6"
      ]
     },
     "metadata": {},
     "output_type": "display_data"
    },
    {
     "data": {
      "text/html": [
       "<pre>recommendations finished on 5000/33340 queries. users per second: 2711.97</pre>"
      ],
      "text/plain": [
       "recommendations finished on 5000/33340 queries. users per second: 2711.97"
      ]
     },
     "metadata": {},
     "output_type": "display_data"
    },
    {
     "data": {
      "text/html": [
       "<pre>recommendations finished on 6000/33340 queries. users per second: 2712.67</pre>"
      ],
      "text/plain": [
       "recommendations finished on 6000/33340 queries. users per second: 2712.67"
      ]
     },
     "metadata": {},
     "output_type": "display_data"
    },
    {
     "data": {
      "text/html": [
       "<pre>recommendations finished on 7000/33340 queries. users per second: 2679.07</pre>"
      ],
      "text/plain": [
       "recommendations finished on 7000/33340 queries. users per second: 2679.07"
      ]
     },
     "metadata": {},
     "output_type": "display_data"
    },
    {
     "data": {
      "text/html": [
       "<pre>recommendations finished on 8000/33340 queries. users per second: 2650.44</pre>"
      ],
      "text/plain": [
       "recommendations finished on 8000/33340 queries. users per second: 2650.44"
      ]
     },
     "metadata": {},
     "output_type": "display_data"
    },
    {
     "data": {
      "text/html": [
       "<pre>recommendations finished on 9000/33340 queries. users per second: 2629.09</pre>"
      ],
      "text/plain": [
       "recommendations finished on 9000/33340 queries. users per second: 2629.09"
      ]
     },
     "metadata": {},
     "output_type": "display_data"
    },
    {
     "data": {
      "text/html": [
       "<pre>recommendations finished on 10000/33340 queries. users per second: 2633.78</pre>"
      ],
      "text/plain": [
       "recommendations finished on 10000/33340 queries. users per second: 2633.78"
      ]
     },
     "metadata": {},
     "output_type": "display_data"
    },
    {
     "data": {
      "text/html": [
       "<pre>recommendations finished on 11000/33340 queries. users per second: 2617.59</pre>"
      ],
      "text/plain": [
       "recommendations finished on 11000/33340 queries. users per second: 2617.59"
      ]
     },
     "metadata": {},
     "output_type": "display_data"
    },
    {
     "data": {
      "text/html": [
       "<pre>recommendations finished on 12000/33340 queries. users per second: 2609.36</pre>"
      ],
      "text/plain": [
       "recommendations finished on 12000/33340 queries. users per second: 2609.36"
      ]
     },
     "metadata": {},
     "output_type": "display_data"
    },
    {
     "data": {
      "text/html": [
       "<pre>recommendations finished on 13000/33340 queries. users per second: 2588.36</pre>"
      ],
      "text/plain": [
       "recommendations finished on 13000/33340 queries. users per second: 2588.36"
      ]
     },
     "metadata": {},
     "output_type": "display_data"
    },
    {
     "data": {
      "text/html": [
       "<pre>recommendations finished on 14000/33340 queries. users per second: 2568.02</pre>"
      ],
      "text/plain": [
       "recommendations finished on 14000/33340 queries. users per second: 2568.02"
      ]
     },
     "metadata": {},
     "output_type": "display_data"
    },
    {
     "data": {
      "text/html": [
       "<pre>recommendations finished on 15000/33340 queries. users per second: 2561.64</pre>"
      ],
      "text/plain": [
       "recommendations finished on 15000/33340 queries. users per second: 2561.64"
      ]
     },
     "metadata": {},
     "output_type": "display_data"
    },
    {
     "data": {
      "text/html": [
       "<pre>recommendations finished on 16000/33340 queries. users per second: 2545.41</pre>"
      ],
      "text/plain": [
       "recommendations finished on 16000/33340 queries. users per second: 2545.41"
      ]
     },
     "metadata": {},
     "output_type": "display_data"
    },
    {
     "data": {
      "text/html": [
       "<pre>recommendations finished on 17000/33340 queries. users per second: 2518.39</pre>"
      ],
      "text/plain": [
       "recommendations finished on 17000/33340 queries. users per second: 2518.39"
      ]
     },
     "metadata": {},
     "output_type": "display_data"
    },
    {
     "data": {
      "text/html": [
       "<pre>recommendations finished on 18000/33340 queries. users per second: 2519.85</pre>"
      ],
      "text/plain": [
       "recommendations finished on 18000/33340 queries. users per second: 2519.85"
      ]
     },
     "metadata": {},
     "output_type": "display_data"
    },
    {
     "data": {
      "text/html": [
       "<pre>recommendations finished on 19000/33340 queries. users per second: 2529.99</pre>"
      ],
      "text/plain": [
       "recommendations finished on 19000/33340 queries. users per second: 2529.99"
      ]
     },
     "metadata": {},
     "output_type": "display_data"
    },
    {
     "data": {
      "text/html": [
       "<pre>recommendations finished on 20000/33340 queries. users per second: 2542.92</pre>"
      ],
      "text/plain": [
       "recommendations finished on 20000/33340 queries. users per second: 2542.92"
      ]
     },
     "metadata": {},
     "output_type": "display_data"
    },
    {
     "data": {
      "text/html": [
       "<pre>recommendations finished on 21000/33340 queries. users per second: 2555.34</pre>"
      ],
      "text/plain": [
       "recommendations finished on 21000/33340 queries. users per second: 2555.34"
      ]
     },
     "metadata": {},
     "output_type": "display_data"
    },
    {
     "data": {
      "text/html": [
       "<pre>recommendations finished on 22000/33340 queries. users per second: 2567.32</pre>"
      ],
      "text/plain": [
       "recommendations finished on 22000/33340 queries. users per second: 2567.32"
      ]
     },
     "metadata": {},
     "output_type": "display_data"
    },
    {
     "data": {
      "text/html": [
       "<pre>recommendations finished on 23000/33340 queries. users per second: 2576.75</pre>"
      ],
      "text/plain": [
       "recommendations finished on 23000/33340 queries. users per second: 2576.75"
      ]
     },
     "metadata": {},
     "output_type": "display_data"
    },
    {
     "data": {
      "text/html": [
       "<pre>recommendations finished on 24000/33340 queries. users per second: 2589.13</pre>"
      ],
      "text/plain": [
       "recommendations finished on 24000/33340 queries. users per second: 2589.13"
      ]
     },
     "metadata": {},
     "output_type": "display_data"
    },
    {
     "data": {
      "text/html": [
       "<pre>recommendations finished on 25000/33340 queries. users per second: 2601.62</pre>"
      ],
      "text/plain": [
       "recommendations finished on 25000/33340 queries. users per second: 2601.62"
      ]
     },
     "metadata": {},
     "output_type": "display_data"
    },
    {
     "data": {
      "text/html": [
       "<pre>recommendations finished on 26000/33340 queries. users per second: 2608.08</pre>"
      ],
      "text/plain": [
       "recommendations finished on 26000/33340 queries. users per second: 2608.08"
      ]
     },
     "metadata": {},
     "output_type": "display_data"
    },
    {
     "data": {
      "text/html": [
       "<pre>recommendations finished on 27000/33340 queries. users per second: 2617.96</pre>"
      ],
      "text/plain": [
       "recommendations finished on 27000/33340 queries. users per second: 2617.96"
      ]
     },
     "metadata": {},
     "output_type": "display_data"
    },
    {
     "data": {
      "text/html": [
       "<pre>recommendations finished on 28000/33340 queries. users per second: 2628.92</pre>"
      ],
      "text/plain": [
       "recommendations finished on 28000/33340 queries. users per second: 2628.92"
      ]
     },
     "metadata": {},
     "output_type": "display_data"
    },
    {
     "data": {
      "text/html": [
       "<pre>recommendations finished on 29000/33340 queries. users per second: 2634.55</pre>"
      ],
      "text/plain": [
       "recommendations finished on 29000/33340 queries. users per second: 2634.55"
      ]
     },
     "metadata": {},
     "output_type": "display_data"
    },
    {
     "data": {
      "text/html": [
       "<pre>recommendations finished on 30000/33340 queries. users per second: 2637.71</pre>"
      ],
      "text/plain": [
       "recommendations finished on 30000/33340 queries. users per second: 2637.71"
      ]
     },
     "metadata": {},
     "output_type": "display_data"
    },
    {
     "data": {
      "text/html": [
       "<pre>recommendations finished on 31000/33340 queries. users per second: 2643.5</pre>"
      ],
      "text/plain": [
       "recommendations finished on 31000/33340 queries. users per second: 2643.5"
      ]
     },
     "metadata": {},
     "output_type": "display_data"
    },
    {
     "data": {
      "text/html": [
       "<pre>recommendations finished on 32000/33340 queries. users per second: 2645.63</pre>"
      ],
      "text/plain": [
       "recommendations finished on 32000/33340 queries. users per second: 2645.63"
      ]
     },
     "metadata": {},
     "output_type": "display_data"
    },
    {
     "data": {
      "text/html": [
       "<pre>recommendations finished on 33000/33340 queries. users per second: 2636.45</pre>"
      ],
      "text/plain": [
       "recommendations finished on 33000/33340 queries. users per second: 2636.45"
      ]
     },
     "metadata": {},
     "output_type": "display_data"
    },
    {
     "data": {
      "text/html": [
       "<div style=\"max-height:1000px;max-width:1500px;overflow:auto;\"><table frame=\"box\" rules=\"cols\">\n",
       "    <tr>\n",
       "        <th style=\"padding-left: 1em; padding-right: 1em; text-align: center\">review_profilename</th>\n",
       "        <th style=\"padding-left: 1em; padding-right: 1em; text-align: center\">beer_beerid</th>\n",
       "        <th style=\"padding-left: 1em; padding-right: 1em; text-align: center\">score</th>\n",
       "        <th style=\"padding-left: 1em; padding-right: 1em; text-align: center\">rank</th>\n",
       "    </tr>\n",
       "    <tr>\n",
       "        <td style=\"padding-left: 1em; padding-right: 1em; text-align: center; vertical-align: top\">stcules</td>\n",
       "        <td style=\"padding-left: 1em; padding-right: 1em; text-align: center; vertical-align: top\">75449</td>\n",
       "        <td style=\"padding-left: 1em; padding-right: 1em; text-align: center; vertical-align: top\">5.0</td>\n",
       "        <td style=\"padding-left: 1em; padding-right: 1em; text-align: center; vertical-align: top\">1</td>\n",
       "    </tr>\n",
       "    <tr>\n",
       "        <td style=\"padding-left: 1em; padding-right: 1em; text-align: center; vertical-align: top\">stcules</td>\n",
       "        <td style=\"padding-left: 1em; padding-right: 1em; text-align: center; vertical-align: top\">32306</td>\n",
       "        <td style=\"padding-left: 1em; padding-right: 1em; text-align: center; vertical-align: top\">5.0</td>\n",
       "        <td style=\"padding-left: 1em; padding-right: 1em; text-align: center; vertical-align: top\">2</td>\n",
       "    </tr>\n",
       "    <tr>\n",
       "        <td style=\"padding-left: 1em; padding-right: 1em; text-align: center; vertical-align: top\">stcules</td>\n",
       "        <td style=\"padding-left: 1em; padding-right: 1em; text-align: center; vertical-align: top\">66856</td>\n",
       "        <td style=\"padding-left: 1em; padding-right: 1em; text-align: center; vertical-align: top\">5.0</td>\n",
       "        <td style=\"padding-left: 1em; padding-right: 1em; text-align: center; vertical-align: top\">3</td>\n",
       "    </tr>\n",
       "    <tr>\n",
       "        <td style=\"padding-left: 1em; padding-right: 1em; text-align: center; vertical-align: top\">stcules</td>\n",
       "        <td style=\"padding-left: 1em; padding-right: 1em; text-align: center; vertical-align: top\">63467</td>\n",
       "        <td style=\"padding-left: 1em; padding-right: 1em; text-align: center; vertical-align: top\">5.0</td>\n",
       "        <td style=\"padding-left: 1em; padding-right: 1em; text-align: center; vertical-align: top\">4</td>\n",
       "    </tr>\n",
       "    <tr>\n",
       "        <td style=\"padding-left: 1em; padding-right: 1em; text-align: center; vertical-align: top\">stcules</td>\n",
       "        <td style=\"padding-left: 1em; padding-right: 1em; text-align: center; vertical-align: top\">63470</td>\n",
       "        <td style=\"padding-left: 1em; padding-right: 1em; text-align: center; vertical-align: top\">5.0</td>\n",
       "        <td style=\"padding-left: 1em; padding-right: 1em; text-align: center; vertical-align: top\">5</td>\n",
       "    </tr>\n",
       "    <tr>\n",
       "        <td style=\"padding-left: 1em; padding-right: 1em; text-align: center; vertical-align: top\">stcules</td>\n",
       "        <td style=\"padding-left: 1em; padding-right: 1em; text-align: center; vertical-align: top\">66430</td>\n",
       "        <td style=\"padding-left: 1em; padding-right: 1em; text-align: center; vertical-align: top\">5.0</td>\n",
       "        <td style=\"padding-left: 1em; padding-right: 1em; text-align: center; vertical-align: top\">6</td>\n",
       "    </tr>\n",
       "    <tr>\n",
       "        <td style=\"padding-left: 1em; padding-right: 1em; text-align: center; vertical-align: top\">stcules</td>\n",
       "        <td style=\"padding-left: 1em; padding-right: 1em; text-align: center; vertical-align: top\">65636</td>\n",
       "        <td style=\"padding-left: 1em; padding-right: 1em; text-align: center; vertical-align: top\">5.0</td>\n",
       "        <td style=\"padding-left: 1em; padding-right: 1em; text-align: center; vertical-align: top\">7</td>\n",
       "    </tr>\n",
       "    <tr>\n",
       "        <td style=\"padding-left: 1em; padding-right: 1em; text-align: center; vertical-align: top\">stcules</td>\n",
       "        <td style=\"padding-left: 1em; padding-right: 1em; text-align: center; vertical-align: top\">65568</td>\n",
       "        <td style=\"padding-left: 1em; padding-right: 1em; text-align: center; vertical-align: top\">5.0</td>\n",
       "        <td style=\"padding-left: 1em; padding-right: 1em; text-align: center; vertical-align: top\">8</td>\n",
       "    </tr>\n",
       "    <tr>\n",
       "        <td style=\"padding-left: 1em; padding-right: 1em; text-align: center; vertical-align: top\">stcules</td>\n",
       "        <td style=\"padding-left: 1em; padding-right: 1em; text-align: center; vertical-align: top\">63460</td>\n",
       "        <td style=\"padding-left: 1em; padding-right: 1em; text-align: center; vertical-align: top\">5.0</td>\n",
       "        <td style=\"padding-left: 1em; padding-right: 1em; text-align: center; vertical-align: top\">9</td>\n",
       "    </tr>\n",
       "    <tr>\n",
       "        <td style=\"padding-left: 1em; padding-right: 1em; text-align: center; vertical-align: top\">stcules</td>\n",
       "        <td style=\"padding-left: 1em; padding-right: 1em; text-align: center; vertical-align: top\">10793</td>\n",
       "        <td style=\"padding-left: 1em; padding-right: 1em; text-align: center; vertical-align: top\">5.0</td>\n",
       "        <td style=\"padding-left: 1em; padding-right: 1em; text-align: center; vertical-align: top\">10</td>\n",
       "    </tr>\n",
       "</table>\n",
       "[333400 rows x 4 columns]<br/>Note: Only the head of the SFrame is printed.<br/>You can use print_rows(num_rows=m, num_columns=n) to print more rows and columns.\n",
       "</div>"
      ],
      "text/plain": [
       "Columns:\n",
       "\treview_profilename\tstr\n",
       "\tbeer_beerid\tstr\n",
       "\tscore\tfloat\n",
       "\trank\tint\n",
       "\n",
       "Rows: 333400\n",
       "\n",
       "Data:\n",
       "+--------------------+-------------+-------+------+\n",
       "| review_profilename | beer_beerid | score | rank |\n",
       "+--------------------+-------------+-------+------+\n",
       "|      stcules       |    75449    |  5.0  |  1   |\n",
       "|      stcules       |    32306    |  5.0  |  2   |\n",
       "|      stcules       |    66856    |  5.0  |  3   |\n",
       "|      stcules       |    63467    |  5.0  |  4   |\n",
       "|      stcules       |    63470    |  5.0  |  5   |\n",
       "|      stcules       |    66430    |  5.0  |  6   |\n",
       "|      stcules       |    65636    |  5.0  |  7   |\n",
       "|      stcules       |    65568    |  5.0  |  8   |\n",
       "|      stcules       |    63460    |  5.0  |  9   |\n",
       "|      stcules       |    10793    |  5.0  |  10  |\n",
       "+--------------------+-------------+-------+------+\n",
       "[333400 rows x 4 columns]\n",
       "Note: Only the head of the SFrame is printed.\n",
       "You can use print_rows(num_rows=m, num_columns=n) to print more rows and columns."
      ]
     },
     "execution_count": 67,
     "metadata": {},
     "output_type": "execute_result"
    }
   ],
   "source": [
    "model4.recommend()"
   ]
  },
  {
   "cell_type": "code",
   "execution_count": 68,
   "metadata": {},
   "outputs": [
    {
     "name": "stdout",
     "output_type": "stream",
     "text": [
      "\n",
      "Precision and recall summary statistics by cutoff\n",
      "+--------+----------------+-------------+\n",
      "| cutoff | mean_precision | mean_recall |\n",
      "+--------+----------------+-------------+\n",
      "|   1    |      0.0       |     0.0     |\n",
      "|   2    |      0.0       |     0.0     |\n",
      "|   3    |      0.0       |     0.0     |\n",
      "|   4    |      0.0       |     0.0     |\n",
      "|   5    |      0.0       |     0.0     |\n",
      "|   6    |      0.0       |     0.0     |\n",
      "|   7    |      0.0       |     0.0     |\n",
      "|   8    |      0.0       |     0.0     |\n",
      "|   9    |      0.0       |     0.0     |\n",
      "|   10   |      0.0       |     0.0     |\n",
      "+--------+----------------+-------------+\n",
      "[10 rows x 3 columns]\n",
      "\n",
      "\n",
      "Overall RMSE: 0.605737381657\n",
      "\n",
      "Per User RMSE (best)\n",
      "+--------------------+-------+------+\n",
      "| review_profilename | count | rmse |\n",
      "+--------------------+-------+------+\n",
      "|      Futility      |   1   | 0.0  |\n",
      "+--------------------+-------+------+\n",
      "[1 rows x 3 columns]\n",
      "\n",
      "\n",
      "Per User RMSE (worst)\n",
      "+--------------------+-------+---------------+\n",
      "| review_profilename | count |      rmse     |\n",
      "+--------------------+-------+---------------+\n",
      "|     shizzyraw      |   1   | 2.95131578947 |\n",
      "+--------------------+-------+---------------+\n",
      "[1 rows x 3 columns]\n",
      "\n",
      "\n",
      "Per Item RMSE (best)\n",
      "+-------------+-------+------+\n",
      "| beer_beerid | count | rmse |\n",
      "+-------------+-------+------+\n",
      "|    68352    |   1   | 0.0  |\n",
      "+-------------+-------+------+\n",
      "[1 rows x 3 columns]\n",
      "\n",
      "\n",
      "Per Item RMSE (worst)\n",
      "+-------------+-------+---------------+\n",
      "| beer_beerid | count |      rmse     |\n",
      "+-------------+-------+---------------+\n",
      "|    27366    |   1   | 3.03424657534 |\n",
      "+-------------+-------+---------------+\n",
      "[1 rows x 3 columns]\n",
      "\n"
     ]
    },
    {
     "data": {
      "text/plain": [
       "{'precision_recall_by_user': Columns:\n",
       " \treview_profilename\tstr\n",
       " \tcutoff\tint\n",
       " \tprecision\tfloat\n",
       " \trecall\tfloat\n",
       " \tcount\tint\n",
       " \n",
       " Rows: 9144\n",
       " \n",
       " Data:\n",
       " +--------------------+--------+-----------+--------+-------+\n",
       " | review_profilename | cutoff | precision | recall | count |\n",
       " +--------------------+--------+-----------+--------+-------+\n",
       " |       hdofu        |   1    |    0.0    |  0.0   |   52  |\n",
       " |       hdofu        |   2    |    0.0    |  0.0   |   52  |\n",
       " |       hdofu        |   3    |    0.0    |  0.0   |   52  |\n",
       " |       hdofu        |   4    |    0.0    |  0.0   |   52  |\n",
       " |       hdofu        |   5    |    0.0    |  0.0   |   52  |\n",
       " |       hdofu        |   6    |    0.0    |  0.0   |   52  |\n",
       " |       hdofu        |   7    |    0.0    |  0.0   |   52  |\n",
       " |       hdofu        |   8    |    0.0    |  0.0   |   52  |\n",
       " |       hdofu        |   9    |    0.0    |  0.0   |   52  |\n",
       " |       hdofu        |   10   |    0.0    |  0.0   |   52  |\n",
       " +--------------------+--------+-----------+--------+-------+\n",
       " [9144 rows x 5 columns]\n",
       " Note: Only the head of the SFrame is printed.\n",
       " You can use print_rows(num_rows=m, num_columns=n) to print more rows and columns.,\n",
       " 'precision_recall_overall': Columns:\n",
       " \tcutoff\tint\n",
       " \tprecision\tfloat\n",
       " \trecall\tfloat\n",
       " \n",
       " Rows: 18\n",
       " \n",
       " Data:\n",
       " +--------+-----------+--------+\n",
       " | cutoff | precision | recall |\n",
       " +--------+-----------+--------+\n",
       " |   1    |    0.0    |  0.0   |\n",
       " |   2    |    0.0    |  0.0   |\n",
       " |   3    |    0.0    |  0.0   |\n",
       " |   4    |    0.0    |  0.0   |\n",
       " |   5    |    0.0    |  0.0   |\n",
       " |   6    |    0.0    |  0.0   |\n",
       " |   7    |    0.0    |  0.0   |\n",
       " |   8    |    0.0    |  0.0   |\n",
       " |   9    |    0.0    |  0.0   |\n",
       " |   10   |    0.0    |  0.0   |\n",
       " +--------+-----------+--------+\n",
       " [18 rows x 3 columns]\n",
       " Note: Only the head of the SFrame is printed.\n",
       " You can use print_rows(num_rows=m, num_columns=n) to print more rows and columns.,\n",
       " 'rmse_by_item': Columns:\n",
       " \tbeer_beerid\tstr\n",
       " \tcount\tint\n",
       " \trmse\tfloat\n",
       " \n",
       " Rows: 4002\n",
       " \n",
       " Data:\n",
       " +-------------+-------+----------------+\n",
       " | beer_beerid | count |      rmse      |\n",
       " +-------------+-------+----------------+\n",
       " |     3006    |   1   |      0.5       |\n",
       " |     1484    |   1   | 0.103448275862 |\n",
       " |     1444    |   3   | 0.817818315577 |\n",
       " |    30282    |   8   | 0.496889018394 |\n",
       " |    59610    |   1   | 0.379310344828 |\n",
       " |     3952    |   1   | 0.141791044776 |\n",
       " |     2849    |   1   | 1.27659574468  |\n",
       " |    10286    |   1   | 0.482142857143 |\n",
       " |    37192    |   1   | 0.762195121951 |\n",
       " |     6006    |   1   | 0.333333333333 |\n",
       " +-------------+-------+----------------+\n",
       " [4002 rows x 3 columns]\n",
       " Note: Only the head of the SFrame is printed.\n",
       " You can use print_rows(num_rows=m, num_columns=n) to print more rows and columns.,\n",
       " 'rmse_by_user': Columns:\n",
       " \treview_profilename\tstr\n",
       " \tcount\tint\n",
       " \trmse\tfloat\n",
       " \n",
       " Rows: 508\n",
       " \n",
       " Data:\n",
       " +--------------------+-------+-----------------+\n",
       " | review_profilename | count |       rmse      |\n",
       " +--------------------+-------+-----------------+\n",
       " |  beerandcycling88  |   23  |  0.678599365616 |\n",
       " |      dgm6689       |   2   |  0.466824423496 |\n",
       " |       steevo       |   2   |  0.407881743414 |\n",
       " |     mgreenlaw      |   5   |  0.146545603073 |\n",
       " |   ReaquiredHabit   |   2   |  0.496911008585 |\n",
       " |    GlassFreeek     |   2   |  0.347479751124 |\n",
       " |     maltmelon      |   1   |  0.238879736409 |\n",
       " |   watermelonman    |   68  |  0.585224105265 |\n",
       " |      eljefe21      |   17  |  0.510348958281 |\n",
       " |      1santore      |   1   | 0.0839802399435 |\n",
       " +--------------------+-------+-----------------+\n",
       " [508 rows x 3 columns]\n",
       " Note: Only the head of the SFrame is printed.\n",
       " You can use print_rows(num_rows=m, num_columns=n) to print more rows and columns.,\n",
       " 'rmse_overall': 0.6057373816574088}"
      ]
     },
     "execution_count": 68,
     "metadata": {},
     "output_type": "execute_result"
    }
   ],
   "source": [
    "model4.evaluate(validation_data)"
   ]
  },
  {
   "cell_type": "code",
   "execution_count": null,
   "metadata": {},
   "outputs": [],
   "source": []
  }
 ],
 "metadata": {
  "kernelspec": {
   "display_name": "Python 3",
   "language": "python",
   "name": "python3"
  },
  "language_info": {
   "codemirror_mode": {
    "name": "ipython",
    "version": 2
   },
   "file_extension": ".py",
   "mimetype": "text/x-python",
   "name": "python",
   "nbconvert_exporter": "python",
   "pygments_lexer": "ipython2",
   "version": "2.7.12"
  }
 },
 "nbformat": 4,
 "nbformat_minor": 2
}
